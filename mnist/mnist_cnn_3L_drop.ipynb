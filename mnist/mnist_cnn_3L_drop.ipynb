{
 "cells": [
  {
   "cell_type": "code",
   "execution_count": 57,
   "metadata": {},
   "outputs": [],
   "source": [
    "import tensorflow as tf\n",
    "from tensorflow.examples.tutorials.mnist import input_data\n",
    "import matplotlib.pyplot as plt\n",
    "import numpy as np\n",
    "\n",
    "%matplotlib inline"
   ]
  },
  {
   "cell_type": "code",
   "execution_count": 58,
   "metadata": {},
   "outputs": [
    {
     "name": "stdout",
     "output_type": "stream",
     "text": [
      "Extracting MNIST_data/train-images-idx3-ubyte.gz\n",
      "Extracting MNIST_data/train-labels-idx1-ubyte.gz\n",
      "Extracting MNIST_data/t10k-images-idx3-ubyte.gz\n",
      "Extracting MNIST_data/t10k-labels-idx1-ubyte.gz\n"
     ]
    }
   ],
   "source": [
    "mnist = input_data.read_data_sets(\"MNIST_data/\", one_hot = True)\n",
    "x_train = mnist.train.images\n",
    "y_train = mnist.train.labels\n",
    "x_test = mnist.test.images\n",
    "y_test = mnist.test.labels"
   ]
  },
  {
   "cell_type": "code",
   "execution_count": 59,
   "metadata": {},
   "outputs": [],
   "source": [
    "#for NN layers\n",
    "class layer:\n",
    "    def __init__(self, inputs, in_size, out_size, activation_function=None):\n",
    "#         self.W = tf.Variable(tf.zeros([in_size, out_size]))\n",
    "        self.W = tf.Variable(tf.random_normal([in_size, out_size]))\n",
    "        self.b = tf.Variable(tf.zeros([1,out_size]))\n",
    "        self.Wx_plus_b = tf.matmul(inputs, self.W) + self.b\n",
    "        self.activation_function = activation_function\n",
    "    def output(self):\n",
    "        if self.activation_function == None:\n",
    "            result = self.Wx_plus_b\n",
    "        else :\n",
    "            result = self.activation_function(self.Wx_plus_b)\n",
    "        return result"
   ]
  },
  {
   "cell_type": "code",
   "execution_count": 60,
   "metadata": {},
   "outputs": [],
   "source": [
    "# for convolution\n",
    "class convolution:\n",
    "    def __init__(self, shape):\n",
    "        self.W = tf.Variable(tf.truncated_normal(shape=shape, stddev=0.1))\n",
    "        self.b = tf.Variable(tf.constant(0.1, shape=[shape[3]]))\n",
    "    def conv2d(self, inputs, padding='SAME'):\n",
    "        return tf.nn.conv2d(inputs, self.W, strides=[1,1,1,1], padding=padding)\n",
    "    def max_pooling_nxn(self, inputs, n):\n",
    "        return tf.nn.max_pool(inputs, ksize=[1,n,n,1], strides=[1,n,n,1], padding='SAME')\n",
    "    def conv_and_pooling(self, inputs, activation_function=None, pooling_size=2):\n",
    "        if activation_function==None:\n",
    "            h_conv =self.conv2d(inputs)+self.b\n",
    "        else:\n",
    "            h_conv = activation_function(self.conv2d(inputs)+self.b)    \n",
    "        return self.max_pooling_nxn(h_conv, pooling_size)"
   ]
  },
  {
   "cell_type": "code",
   "execution_count": 61,
   "metadata": {},
   "outputs": [],
   "source": [
    "x = tf.placeholder(tf.float32, [None, 784])\n",
    "y = tf.placeholder(tf.float32, [None, 10])\n",
    "\n",
    "#for dropout\n",
    "keep_prob = tf.placeholder(tf.float32)\n",
    "\n",
    "#dealing eith inputs. \n",
    "# -1 for not considering input number of images\n",
    "# 28,28 size per iamge\n",
    "# 1 for channel. 1 for grayscale ; 3 for color image\n",
    "x_image=tf.reshape(x,[-1,28,28,1])"
   ]
  },
  {
   "cell_type": "code",
   "execution_count": 62,
   "metadata": {},
   "outputs": [],
   "source": [
    "#AlexNet => 5 convolution layers & 3 fully connected neural network\n",
    "\n",
    "conv1 = convolution([3,3,1,12])\n",
    "conv2 = convolution([3,3,12,24])\n",
    "conv3 = convolution([3,3,24,48])\n",
    "# conv4 = convolution([3,3,80,80])\n",
    "# conv5 = convolution([3,3,80,80])\n",
    "\n",
    "output_conv1 = conv1.conv_and_pooling(x_image, tf.nn.relu)\n",
    "output_conv2 = conv2.conv_and_pooling(output_conv1, tf.nn.relu)\n",
    "output_conv3 = conv3.conv_and_pooling(output_conv2, tf.nn.relu, pooling_size=2)\n",
    "# output_conv4 = conv4.conv_and_pooling(output_conv3, tf.nn.relu, pooling_size=1)\n",
    "# output_conv5 = conv5.conv_and_pooling(output_conv4, tf.nn.relu, pooling_size=1)\n",
    "\n",
    "# h_pool_flat = tf.reshape(output_conv2, [-1,7*7*40])\n",
    "h_pool_flat = tf.reshape(output_conv3, [-1,4*4*48])\n",
    "# layer1 = layer(h_pool_flat, 7*7*64, 500, tf.nn.relu)\n",
    "# layer1 = layer(h_pool_flat, 7*7*64, 10, tf.nn.softmax)\n",
    "# layer1 = layer(h_pool_flat, 7*7*40, 10, tf.nn.softmax)\n",
    "layer1 = layer(h_pool_flat, 4*4*48, 100, tf.nn.sigmoid)\n",
    "# layer2 = layer(layer1.output(), 400, 100, tf.nn.sigmoid)\n",
    "h_drop = tf.nn.dropout(layer1.output(), keep_prob)\n",
    "layer3 = layer(h_drop, 100, 10, tf.nn.softmax)\n",
    "# layer2 = layer(layer1.output(), 500, 100, tf.nn.relu)\n",
    "# layer3 = layer(layer2.output(), 100, 10, tf.nn.softmax)\n",
    "\n",
    "# loss = tf.reduce_mean(tf.nn.softmax_cross_entropy_with_logits(labels=y, logits=layer1.output()))\n",
    "loss = tf.reduce_mean(tf.nn.softmax_cross_entropy_with_logits(labels=y, logits=layer3.output()))\n",
    "# train_step = tf.train.GradientDescentOptimizer(0.3).minimize(loss)\n",
    "# train_step =  tf.train.MomentumOptimizer(0.005 , 0.9).minimize(loss)\n",
    "train_step = tf.train.AdamOptimizer(0.003).minimize(loss)\n",
    "\n",
    "\n",
    "correct_prediction = tf.equal(tf.argmax(y, 1), tf.argmax(layer3.output(), 1))\n",
    "accuracy = tf.reduce_mean(tf.cast(correct_prediction, tf.float32))"
   ]
  },
  {
   "cell_type": "code",
   "execution_count": 63,
   "metadata": {},
   "outputs": [],
   "source": [
    "init = tf.global_variables_initializer()\n",
    "\n",
    "sess = tf.Session()\n",
    "sess.run(init)\n",
    "\n",
    "batch_size = 100\n",
    "batches = x_train.shape[0]//batch_size\n"
   ]
  },
  {
   "cell_type": "code",
   "execution_count": 64,
   "metadata": {},
   "outputs": [
    {
     "name": "stdout",
     "output_type": "stream",
     "text": [
      "start 0\n",
      "epoch: 0 loss: 2.10437 accuracy: 0.353509\n",
      "start 1\n",
      "start 2\n",
      "epoch: 2 loss: 1.65818 accuracy: 0.805473\n",
      "start 3\n",
      "start 4\n",
      "epoch: 4 loss: 1.61704 accuracy: 0.843927\n",
      "start 5\n",
      "start 6\n",
      "epoch: 6 loss: 1.54559 accuracy: 0.9184\n",
      "start 7\n",
      "start 8\n",
      "epoch: 8 loss: 1.50826 accuracy: 0.954673\n",
      "start 9\n",
      "start 10\n",
      "epoch: 10 loss: 1.50698 accuracy: 0.955509\n",
      "start 11\n",
      "start 12\n",
      "epoch: 12 loss: 1.50469 accuracy: 0.957182\n",
      "start 13\n",
      "start 14\n",
      "epoch: 14 loss: 1.50037 accuracy: 0.962291\n",
      "start 15\n",
      "start 16\n",
      "epoch: 16 loss: 1.50213 accuracy: 0.960945\n",
      "start 17\n",
      "start 18\n",
      "epoch: 18 loss: 1.49176 accuracy: 0.968545\n",
      "start 19\n",
      "start 20\n",
      "epoch: 20 loss: 1.49216 accuracy: 0.969691\n",
      "start 21\n",
      "start 22\n",
      "epoch: 22 loss: 1.49152 accuracy: 0.970509\n",
      "start 23\n",
      "start 24\n",
      "epoch: 24 loss: 1.49454 accuracy: 0.965509\n",
      "start 25\n",
      "start 26\n",
      "epoch: 26 loss: 1.48981 accuracy: 0.971764\n",
      "start 27\n",
      "start 28\n",
      "epoch: 28 loss: 1.496 accuracy: 0.965327\n",
      "start 29\n",
      "start 30\n",
      "epoch: 30 loss: 1.49187 accuracy: 0.968327\n",
      "start 31\n",
      "start 32\n",
      "epoch: 32 loss: 1.49224 accuracy: 0.969164\n",
      "start 33\n",
      "start 34\n",
      "epoch: 34 loss: 1.49099 accuracy: 0.970655\n",
      "start 35\n",
      "start 36\n",
      "epoch: 36 loss: 1.49155 accuracy: 0.970436\n",
      "start 37\n",
      "start 38\n",
      "epoch: 38 loss: 1.49174 accuracy: 0.970382\n",
      "start 39\n",
      "start 40\n",
      "epoch: 40 loss: 1.4939 accuracy: 0.967691\n",
      "start 41\n",
      "start 42\n",
      "epoch: 42 loss: 1.49879 accuracy: 0.962055\n",
      "start 43\n",
      "start 44\n",
      "epoch: 44 loss: 1.49012 accuracy: 0.971109\n",
      "start 45\n",
      "start 46\n",
      "epoch: 46 loss: 1.48881 accuracy: 0.971745\n",
      "start 47\n",
      "start 48\n",
      "epoch: 48 loss: 1.50205 accuracy: 0.960673\n",
      "start 49\n",
      "start 50\n",
      "epoch: 50 loss: 1.49104 accuracy: 0.970436\n",
      "Test accuracy: 0.9352\n"
     ]
    }
   ],
   "source": [
    "for epoch in range(51):\n",
    "    print \"start \"+str(epoch)\n",
    "    for batch in range(batches):\n",
    "        sess.run(train_step, feed_dict={x: x_train[batch_size*batch:batch_size*(batch+1)], y: y_train[batch_size*batch:batch_size*(batch+1)], keep_prob: 0.5})\n",
    "    if epoch%2==0:\n",
    "        print \"epoch: \"+str(epoch)+\" loss: \"+str(sess.run(loss, feed_dict={x: x_train, y: y_train, keep_prob: 0.5}))+\" accuracy: \"+str(sess.run(accuracy, feed_dict={x: x_train, y: y_train, keep_prob: 0.5}))\n",
    "print \"Test accuracy: \"+str(sess.run(accuracy, feed_dict={x: x_test, y: y_test, keep_prob: 0.3}))"
   ]
  },
  {
   "cell_type": "code",
   "execution_count": null,
   "metadata": {},
   "outputs": [],
   "source": []
  },
  {
   "cell_type": "code",
   "execution_count": null,
   "metadata": {},
   "outputs": [],
   "source": []
  },
  {
   "cell_type": "code",
   "execution_count": null,
   "metadata": {},
   "outputs": [],
   "source": []
  },
  {
   "cell_type": "code",
   "execution_count": null,
   "metadata": {},
   "outputs": [],
   "source": []
  },
  {
   "cell_type": "code",
   "execution_count": null,
   "metadata": {},
   "outputs": [],
   "source": []
  },
  {
   "cell_type": "code",
   "execution_count": null,
   "metadata": {},
   "outputs": [],
   "source": [
    "\n"
   ]
  },
  {
   "cell_type": "code",
   "execution_count": null,
   "metadata": {},
   "outputs": [],
   "source": []
  },
  {
   "cell_type": "code",
   "execution_count": null,
   "metadata": {},
   "outputs": [],
   "source": []
  },
  {
   "cell_type": "code",
   "execution_count": null,
   "metadata": {},
   "outputs": [],
   "source": []
  }
 ],
 "metadata": {
  "kernelspec": {
   "display_name": "Python 2",
   "language": "python",
   "name": "python2"
  },
  "language_info": {
   "codemirror_mode": {
    "name": "ipython",
    "version": 2
   },
   "file_extension": ".py",
   "mimetype": "text/x-python",
   "name": "python",
   "nbconvert_exporter": "python",
   "pygments_lexer": "ipython2",
   "version": "2.7.12"
  }
 },
 "nbformat": 4,
 "nbformat_minor": 2
}

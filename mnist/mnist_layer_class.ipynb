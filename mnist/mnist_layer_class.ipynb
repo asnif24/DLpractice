{
 "cells": [
  {
   "cell_type": "code",
   "execution_count": 19,
   "metadata": {
    "collapsed": true
   },
   "outputs": [],
   "source": [
    "import tensorflow as tf\n",
    "from tensorflow.examples.tutorials.mnist import input_data\n",
    "import matplotlib.pyplot as plt\n",
    "import numpy as np\n",
    "\n",
    "%matplotlib inline"
   ]
  },
  {
   "cell_type": "code",
   "execution_count": 20,
   "metadata": {},
   "outputs": [
    {
     "name": "stdout",
     "output_type": "stream",
     "text": [
      "Extracting MNIST_data/train-images-idx3-ubyte.gz\n",
      "Extracting MNIST_data/train-labels-idx1-ubyte.gz\n",
      "Extracting MNIST_data/t10k-images-idx3-ubyte.gz\n",
      "Extracting MNIST_data/t10k-labels-idx1-ubyte.gz\n"
     ]
    }
   ],
   "source": [
    "mnist = input_data.read_data_sets(\"MNIST_data/\", one_hot = True)\n",
    "x_train = mnist.train.images\n",
    "y_train = mnist.train.labels\n",
    "x_test = mnist.test.images\n",
    "y_test = mnist.test.labels"
   ]
  },
  {
   "cell_type": "code",
   "execution_count": 21,
   "metadata": {
    "collapsed": true
   },
   "outputs": [],
   "source": [
    "class layer:\n",
    "    def __init__(self, inputs, in_size, out_size, activation_function=None):\n",
    "#         self.W = tf.Variable(tf.zeros([in_size, out_size]))\n",
    "        self.W = tf.Variable(tf.random_normal([in_size, out_size]))\n",
    "        self.b = tf.Variable(tf.zeros([1,out_size]))\n",
    "        self.Wx_plus_b = tf.matmul(inputs, self.W) + self.b\n",
    "        self.activation_function = activation_function\n",
    "    def output(self):\n",
    "        if self.activation_function == None:\n",
    "            result = self.Wx_plus_b\n",
    "        else :\n",
    "            result = self.activation_function(self.Wx_plus_b)\n",
    "        return result"
   ]
  },
  {
   "cell_type": "code",
   "execution_count": 22,
   "metadata": {
    "collapsed": true
   },
   "outputs": [],
   "source": [
    "x = tf.placeholder(tf.float32, [None, 784])\n",
    "y = tf.placeholder(tf.float32, [None, 10])"
   ]
  },
  {
   "cell_type": "code",
   "execution_count": 23,
   "metadata": {
    "collapsed": true
   },
   "outputs": [],
   "source": [
    "layer1 = layer(x, 784, 100, tf.nn.sigmoid)\n",
    "layer2 = layer(layer1.output(), 100, 10, tf.nn.softmax)\n",
    "\n",
    "loss = tf.reduce_mean(tf.nn.softmax_cross_entropy_with_logits(labels=y, logits=layer2.output()))\n",
    "train_step = tf.train.GradientDescentOptimizer(0.5).minimize(loss)\n",
    "\n",
    "correct_prediction = tf.equal(tf.argmax(y, 1), tf.argmax(layer2.output(), 1))\n",
    "accuracy = tf.reduce_mean(tf.cast(correct_prediction, tf.float32))"
   ]
  },
  {
   "cell_type": "code",
   "execution_count": 24,
   "metadata": {
    "collapsed": true
   },
   "outputs": [],
   "source": [
    "init = tf.global_variables_initializer()\n",
    "\n",
    "sess = tf.Session()\n",
    "sess.run(init)\n",
    "\n",
    "batch_size = 100\n",
    "batches = x_train.shape[0]//batch_size\n"
   ]
  },
  {
   "cell_type": "code",
   "execution_count": 25,
   "metadata": {},
   "outputs": [
    {
     "name": "stdout",
     "output_type": "stream",
     "text": [
      "epoch: 0 loss: 1.95396 accuracy: 0.508491\n",
      "epoch: 5 loss: 1.80699 accuracy: 0.654436\n",
      "epoch: 10 loss: 1.79331 accuracy: 0.667618\n",
      "epoch: 15 loss: 1.78675 accuracy: 0.673745\n",
      "epoch: 20 loss: 1.78257 accuracy: 0.677691\n",
      "epoch: 25 loss: 1.64293 accuracy: 0.824291\n",
      "epoch: 30 loss: 1.62171 accuracy: 0.844636\n",
      "epoch: 35 loss: 1.61301 accuracy: 0.852836\n",
      "epoch: 40 loss: 1.60741 accuracy: 0.858182\n",
      "epoch: 45 loss: 1.60319 accuracy: 0.8624\n",
      "epoch: 50 loss: 1.59982 accuracy: 0.865382\n",
      "epoch: 55 loss: 1.59703 accuracy: 0.868255\n",
      "epoch: 60 loss: 1.59468 accuracy: 0.870255\n",
      "epoch: 65 loss: 1.59264 accuracy: 0.872236\n",
      "epoch: 70 loss: 1.59088 accuracy: 0.873964\n",
      "epoch: 75 loss: 1.58935 accuracy: 0.875127\n",
      "epoch: 80 loss: 1.58798 accuracy: 0.876291\n",
      "epoch: 85 loss: 1.58675 accuracy: 0.877545\n",
      "epoch: 90 loss: 1.58564 accuracy: 0.878491\n",
      "epoch: 95 loss: 1.58463 accuracy: 0.879364\n",
      "epoch: 100 loss: 1.58371 accuracy: 0.880164\n",
      "epoch: 105 loss: 1.58288 accuracy: 0.880709\n",
      "epoch: 110 loss: 1.58211 accuracy: 0.881491\n",
      "epoch: 115 loss: 1.58141 accuracy: 0.881891\n",
      "epoch: 120 loss: 1.58074 accuracy: 0.882255\n",
      "epoch: 125 loss: 1.58012 accuracy: 0.882836\n",
      "epoch: 130 loss: 1.57954 accuracy: 0.883491\n",
      "epoch: 135 loss: 1.57899 accuracy: 0.883836\n",
      "epoch: 140 loss: 1.57847 accuracy: 0.884182\n",
      "epoch: 145 loss: 1.57798 accuracy: 0.884582\n",
      "epoch: 150 loss: 1.57751 accuracy: 0.884964\n",
      "epoch: 155 loss: 1.57705 accuracy: 0.8854\n",
      "epoch: 160 loss: 1.57661 accuracy: 0.885655\n",
      "epoch: 165 loss: 1.57617 accuracy: 0.886127\n",
      "epoch: 170 loss: 1.57576 accuracy: 0.886545\n",
      "epoch: 175 loss: 1.57538 accuracy: 0.886873\n",
      "epoch: 180 loss: 1.57504 accuracy: 0.887109\n",
      "epoch: 185 loss: 1.57472 accuracy: 0.887291\n",
      "epoch: 190 loss: 1.5744 accuracy: 0.887527\n",
      "epoch: 195 loss: 1.57409 accuracy: 0.887764\n",
      "epoch: 200 loss: 1.57381 accuracy: 0.887927\n",
      "Test accuracy: 0.8668\n"
     ]
    }
   ],
   "source": [
    "for epoch in range(201):\n",
    "    for batch in range(batches):\n",
    "        sess.run(train_step, feed_dict={x: x_train[batch_size*batch:batch_size*(batch+1)], y: y_train[batch_size*batch:batch_size*(batch+1)]})\n",
    "    if epoch%5==0:\n",
    "        print \"epoch: \"+str(epoch)+\" loss: \"+str(sess.run(loss, feed_dict={x: x_train, y: y_train}))+\" accuracy: \"+str(sess.run(accuracy, feed_dict={x: x_train, y: y_train}))\n",
    "print \"Test accuracy: \"+str(sess.run(accuracy, feed_dict={x: x_test, y: y_test}))"
   ]
  },
  {
   "cell_type": "code",
   "execution_count": null,
   "metadata": {
    "collapsed": true
   },
   "outputs": [],
   "source": []
  },
  {
   "cell_type": "code",
   "execution_count": 14,
   "metadata": {},
   "outputs": [
    {
     "name": "stdout",
     "output_type": "stream",
     "text": [
      "[name: \"/device:CPU:0\"\n",
      "device_type: \"CPU\"\n",
      "memory_limit: 268435456\n",
      "locality {\n",
      "}\n",
      "incarnation: 15947742024635567177\n",
      "]\n"
     ]
    }
   ],
   "source": [
    "from tensorflow.python.client import device_lib\n",
    "print device_lib.list_local_devices()"
   ]
  },
  {
   "cell_type": "code",
   "execution_count": null,
   "metadata": {
    "collapsed": true
   },
   "outputs": [],
   "source": []
  }
 ],
 "metadata": {
  "kernelspec": {
   "display_name": "Python 2",
   "language": "python",
   "name": "python2"
  },
  "language_info": {
   "codemirror_mode": {
    "name": "ipython",
    "version": 2
   },
   "file_extension": ".py",
   "mimetype": "text/x-python",
   "name": "python",
   "nbconvert_exporter": "python",
   "pygments_lexer": "ipython2",
   "version": "2.7.12"
  }
 },
 "nbformat": 4,
 "nbformat_minor": 2
}

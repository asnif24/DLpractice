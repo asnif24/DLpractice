{
 "cells": [
  {
   "cell_type": "code",
   "execution_count": 1,
   "metadata": {
    "collapsed": true
   },
   "outputs": [],
   "source": [
    "import tensorflow as tf\n",
    "from tensorflow.examples.tutorials.mnist import input_data\n",
    "import numpy as np\n",
    "import matplotlib.pyplot as plt\n",
    "\n",
    "%matplotlib inline"
   ]
  },
  {
   "cell_type": "code",
   "execution_count": 2,
   "metadata": {
    "collapsed": false
   },
   "outputs": [
    {
     "name": "stdout",
     "output_type": "stream",
     "text": [
      "Extracting MNIST_data/train-images-idx3-ubyte.gz\n",
      "Extracting MNIST_data/train-labels-idx1-ubyte.gz\n",
      "Extracting MNIST_data/t10k-images-idx3-ubyte.gz\n",
      "Extracting MNIST_data/t10k-labels-idx1-ubyte.gz\n"
     ]
    }
   ],
   "source": [
    "mnist = input_data.read_data_sets(\"MNIST_data/\", one_hot = True)\n",
    "x_train = mnist.train.images\n",
    "y_train = mnist.train.labels\n",
    "x_test = mnist.test.images\n",
    "y_test = mnist.test.labels"
   ]
  },
  {
   "cell_type": "code",
   "execution_count": 42,
   "metadata": {
    "collapsed": true
   },
   "outputs": [],
   "source": [
    "def add_layer(inputs, in_size, out_size, activation_function=None): #linear if act not defined\n",
    "    W = tf.Variable(tf.random_normal([in_size, out_size]))\n",
    "#     W = tf.Variable(tf.zeros([in_size, out_size]))\n",
    "    b = tf.Variable(tf.zeros([1, out_size]))\n",
    "#     b = tf.Variable(tf.random_normal([1, out_size]))\n",
    "    \n",
    "    Wx_plus_b = tf.matmul(inputs, W) + b\n",
    "    if activation_function is None:\n",
    "        outputs = Wx_plus_b\n",
    "    else:\n",
    "        outputs = activation_function(Wx_plus_b)\n",
    "    return outputs"
   ]
  },
  {
   "cell_type": "code",
   "execution_count": 98,
   "metadata": {
    "collapsed": false
   },
   "outputs": [],
   "source": [
    "xs = tf.placeholder(tf.float32, [None, 784])    #shape=(100,784)\n",
    "ys = tf.placeholder(tf.float32, [None, 10])    #shape=(100,10)\n",
    "ys_ae = tf.placeholder(tf.float32, [None, 784])\n",
    "\n",
    "# layer1 = add_layer(xs, 784, 100, activation_function=tf.nn.relu)\n",
    "layer1 = add_layer(xs, 784, 100, activation_function=tf.nn.sigmoid)\n",
    "# layer2 = add_layer(layer1, 100, 10, activation_function=tf.nn.relu)\n",
    "layer2 = add_layer(layer1, 100, 100, activation_function=tf.nn.sigmoid)\n",
    "# layer3 = add_layer(layer2, 10, 100, activation_function=tf.nn.softmax)\n",
    "layer3 = add_layer(layer2, 100, 10, activation_function=tf.nn.softmax)\n",
    "# layer3 = add_layer(layer2, 10, 100, activation_function=tf.nn.relu)\n",
    "# layer3 = add_layer(layer2, 10, 100, activation_function=tf.nn.sigmoid)\n",
    "# layer4 = add_layer(layer3, 100, 784, activation_function=tf.nn.relu)\n",
    "layer4 = add_layer(layer2, 100, 784, activation_function=tf.nn.sigmoid)\n",
    "# prediction = add_layer(layer4, 2, 10, activation_function=tf.nn.softmax)\n",
    "\n",
    "# loss_ae = tf.reduce_mean(tf.square(layer4-xs))\n",
    "loss_ae = tf.reduce_mean(tf.nn.sigmoid_cross_entropy_with_logits(labels=xs, logits=layer4))\n",
    "# loss = tf.reduce_mean(tf.nn.softmax_cross_entropy_with_logits(labels=ys, logits=layer2))\n",
    "# loss = tf.reduce_mean(tf.nn.softmax_cross_entropy_with_logits(labels=ys, logits=prediction))\n",
    "\n",
    "# train_step_ae = tf.train.GradientDescentOptimizer(0.5).minimize(loss_ae)\n",
    "train_step_ae = tf.train.RMSPropOptimizer(0.05).minimize(loss_ae)\n",
    "# train_step = tf.train.GradientDescentOptimizer(0.5).minimize(loss)\n",
    "# train_step = tf.train.RMSPropOptimizer(0.01).minimize(loss)\n",
    "# train_step = tf.train.MomentumOptimizer(0.2,0.1).minimize(loss)\n",
    "\n",
    "# correct_prediction = tf.equal(tf.argmax(layer3,1), tf.argmax(ys,1))\n",
    "# accuracy = tf.reduce_mean(tf.cast(correct_prediction, tf.float32))"
   ]
  },
  {
   "cell_type": "code",
   "execution_count": 99,
   "metadata": {
    "collapsed": false
   },
   "outputs": [
    {
     "name": "stdout",
     "output_type": "stream",
     "text": [
      "epoch:  0  , loss:  0.631339\n",
      "epoch:  5  , loss:  0.620112\n",
      "epoch:  10  , loss:  0.617951\n",
      "epoch:  15  , loss:  0.617276\n",
      "epoch:  20  , loss:  0.616732\n",
      "epoch:  25  , loss:  0.616244\n",
      "epoch:  30  , loss:  0.616039\n",
      "epoch:  35  , loss:  0.61596\n",
      "epoch:  40  , loss:  0.616116\n",
      "epoch:  45  , loss:  0.615549\n",
      "epoch:  50  , loss:  0.615478\n",
      "epoch:  55  , loss:  0.615421\n",
      "epoch:  60  , loss:  0.615191\n",
      "epoch:  65  , loss:  0.615376\n",
      "epoch:  70  , loss:  0.615059\n",
      "epoch:  75  , loss:  0.615145\n",
      "epoch:  80  , loss:  0.61486\n",
      "epoch:  85  , loss:  0.614788\n",
      "epoch:  90  , loss:  0.614824\n",
      "epoch:  95  , loss:  0.614633\n",
      "epoch:  100  , loss:  0.614544\n"
     ]
    }
   ],
   "source": [
    "init = tf.global_variables_initializer()\n",
    "\n",
    "sess = tf.Session()\n",
    "sess.run(init)\n",
    "\n",
    "batch_size = 100\n",
    "batches = x_train.shape[0]//batch_size\n",
    "index = np.arange(x_train.shape[0])\n",
    "\n",
    "#Autoencoder\n",
    "for epoch in range(101):    \n",
    "#     np.random.shuffle(index)\n",
    "    for batch in range(batches):\n",
    "        sess.run(train_step_ae, feed_dict={xs: x_train[[index[batch_size*batch:batch_size*(batch+1)]]]})\n",
    "#     sess.run(train_step, feed_dict={xs: x_train[0:100], ys: y_train[0:100]})\n",
    "    \n",
    "    if epoch%5==0:\n",
    "        print \"epoch: \",epoch,\" , loss: \",sess.run(loss_ae, feed_dict={xs: x_train})\n",
    "#         print sess.run(tf.argmax(sess.run(layer1, feed_dict={xs: x_train})[0:50],1))\n",
    "#         print sess.run(tf.argmax(sess.run(prediction, feed_dict={xs: x_train})[0:50],1))\n",
    "#         print sess.run(tf.argmax(sess.run(output2, feed_dict={xs: x_train})[0:50],1))\n",
    "    "
   ]
  },
  {
   "cell_type": "code",
   "execution_count": 100,
   "metadata": {
    "collapsed": false
   },
   "outputs": [
    {
     "name": "stdout",
     "output_type": "stream",
     "text": [
      "[[  8.65161498e-10   6.84974966e-10   8.13979710e-08 ...,   2.02281920e-12\n",
      "    2.85872315e-11   8.12066858e-10]\n",
      " [  2.87066655e-08   3.56140326e-08   9.11191549e-08 ...,   8.01209943e-09\n",
      "    1.55252700e-08   4.52678250e-07]\n",
      " [  2.04492923e-10   2.99976433e-11   1.94768108e-11 ...,   5.05267383e-10\n",
      "    4.15936424e-10   3.33060607e-10]\n",
      " [  1.76018911e-09   4.61552758e-12   3.35442396e-10 ...,   1.69350256e-10\n",
      "    7.49869527e-14   2.91451308e-10]]\n"
     ]
    },
    {
     "data": {
      "image/png": "[encoded data removed]",
      "text/plain": [
       "<matplotlib.figure.Figure at 0x12736e6d0>"
      ]
     },
     "metadata": {},
     "output_type": "display_data"
    }
   ],
   "source": [
    "# print sess.run(layer4, feed_dict={xs:x_train})\n",
    "x_ae = np.array([np.reshape(m,(28,28)) for m in sess.run(layer4, feed_dict={xs:x_train})])\n",
    "print sess.run(layer4, feed_dict={xs:x_train})[0:4]\n",
    "fig, ax = plt.subplots(nrows=2, ncols=2)\n",
    "for i,row in enumerate(ax):\n",
    "    for j,col in enumerate(row):\n",
    "        ax[i][j].imshow(x_ae[i*2+j], cmap='gray')"
   ]
  },
  {
   "cell_type": "code",
   "execution_count": 110,
   "metadata": {
    "collapsed": false
   },
   "outputs": [
    {
     "name": "stdout",
     "output_type": "stream",
     "text": [
      "epoch:  0  , loss:  1.76746 accuracy:  0.683727\n",
      "[7 3 4 5 4 0 2 0 9 9 0 3 7 2 7 0 2 9 0 0 3 0 7 3 9 7 4 5 5 9 5 3 4 4 2 7 3\n",
      " 5 4 2 5 3 3 3 9 9 4 4 0 7]\n",
      "epoch:  5  , loss:  1.76741 accuracy:  0.683727\n",
      "[7 3 4 5 4 0 2 0 9 9 0 3 7 2 7 0 2 9 0 0 3 0 7 3 9 7 4 5 5 9 5 3 4 4 2 7 3\n",
      " 5 4 2 5 3 3 3 9 9 4 4 0 7]\n",
      "epoch:  10  , loss:  1.76737 accuracy:  0.683764\n",
      "[7 3 4 5 4 0 2 0 9 9 0 3 7 2 7 0 2 9 0 0 3 0 7 3 9 7 4 5 5 9 5 3 4 4 2 7 3\n",
      " 5 4 2 5 3 3 3 9 9 4 4 0 7]\n",
      "epoch:  15  , loss:  1.76733 accuracy:  0.683764\n",
      "[7 3 4 5 4 0 2 0 9 9 0 3 7 2 7 0 2 9 0 0 3 0 7 3 9 7 4 5 5 9 5 3 4 4 2 7 3\n",
      " 5 4 2 5 3 3 3 9 9 4 4 0 7]\n",
      "epoch:  20  , loss:  1.76728 accuracy:  0.683818\n",
      "[7 3 4 5 4 0 2 0 9 9 0 3 7 2 7 0 2 9 0 0 3 0 7 3 9 7 4 5 5 9 5 3 4 4 2 7 3\n",
      " 5 4 2 5 3 3 3 9 9 4 4 0 7]\n",
      "epoch:  25  , loss:  1.76724 accuracy:  0.683855\n",
      "[7 3 4 5 4 0 2 0 9 9 0 3 7 2 7 0 2 9 0 0 3 0 7 3 9 7 4 5 5 9 5 3 4 4 2 7 3\n",
      " 5 4 2 5 3 3 3 9 9 4 4 0 7]\n",
      "epoch:  30  , loss:  1.7672 accuracy:  0.683873\n",
      "[7 3 4 5 4 0 2 0 9 9 0 3 7 2 7 0 2 9 0 0 3 0 7 3 9 7 4 5 5 9 5 3 4 4 2 7 3\n",
      " 5 4 2 5 3 3 3 9 9 4 4 0 7]\n",
      "epoch:  35  , loss:  1.76716 accuracy:  0.683891\n",
      "[7 3 4 5 4 0 2 0 9 9 0 3 7 2 7 0 2 9 0 0 3 0 7 3 9 7 4 5 5 9 5 3 4 4 2 7 3\n",
      " 5 4 2 5 3 3 3 9 9 4 4 0 7]\n",
      "epoch:  40  , loss:  1.76711 accuracy:  0.683909\n",
      "[7 3 4 5 4 0 2 0 9 9 0 3 7 2 7 0 2 9 0 0 3 0 7 3 9 7 4 5 5 9 5 3 4 4 2 7 3\n",
      " 5 4 2 5 3 3 3 9 9 4 4 0 7]\n",
      "epoch:  45  , loss:  1.76707 accuracy:  0.683927\n",
      "[7 3 4 5 4 0 2 0 9 9 0 3 7 2 7 0 2 9 0 0 3 0 7 3 9 7 4 5 5 9 5 3 4 4 2 7 3\n",
      " 5 4 2 5 3 3 3 9 9 4 4 0 7]\n",
      "epoch:  50  , loss:  1.76703 accuracy:  0.683927\n",
      "[7 3 4 5 4 0 2 0 9 9 0 3 7 2 7 0 2 9 0 0 3 0 7 3 9 7 4 5 5 9 5 3 4 4 2 7 3\n",
      " 5 4 2 5 3 3 3 9 9 4 4 0 7]\n",
      "epoch:  55  , loss:  1.76699 accuracy:  0.683964\n",
      "[7 3 4 5 4 0 2 0 9 9 0 3 7 2 7 0 2 9 0 0 3 0 7 3 9 7 4 5 5 9 5 3 4 4 2 7 3\n",
      " 5 4 2 5 3 3 3 9 9 4 4 0 7]\n",
      "epoch:  60  , loss:  1.76695 accuracy:  0.684\n",
      "[7 3 4 5 4 0 2 0 9 9 0 3 7 2 7 0 2 9 0 0 3 0 7 3 9 7 4 5 5 9 5 3 4 4 2 7 3\n",
      " 5 4 2 5 3 3 3 9 9 4 4 0 7]\n",
      "epoch:  65  , loss:  1.76691 accuracy:  0.684018\n",
      "[7 3 4 5 4 0 2 0 9 9 0 3 7 2 7 0 2 9 0 0 3 0 7 3 9 7 4 5 5 9 5 3 4 4 2 7 3\n",
      " 5 4 2 5 3 3 3 9 9 4 4 0 7]\n",
      "epoch:  70  , loss:  1.76686 accuracy:  0.684036\n",
      "[7 3 4 5 4 0 2 0 9 9 0 3 7 2 7 0 2 9 0 0 3 0 7 3 9 7 4 5 5 9 5 3 4 4 2 7 3\n",
      " 5 4 2 5 3 3 3 9 9 4 4 0 7]\n",
      "epoch:  75  , loss:  1.76682 accuracy:  0.684073\n",
      "[7 3 4 5 4 0 2 0 9 9 0 3 7 2 7 0 2 9 0 0 3 0 7 3 9 7 4 5 5 9 5 3 4 4 2 7 3\n",
      " 5 4 2 5 3 3 3 9 9 4 4 0 7]\n",
      "epoch:  80  , loss:  1.76677 accuracy:  0.684073\n",
      "[7 3 4 5 4 0 2 0 9 9 0 3 7 2 7 0 2 9 0 0 3 0 7 3 9 7 4 5 5 9 5 3 4 4 2 7 3\n",
      " 5 4 2 5 3 3 3 9 9 4 4 0 7]\n",
      "epoch:  85  , loss:  1.76673 accuracy:  0.684145\n",
      "[7 3 4 5 4 0 2 0 9 9 0 3 7 2 7 0 2 9 0 0 3 0 7 3 9 7 4 5 5 9 5 3 4 4 2 7 3\n",
      " 5 4 2 5 3 3 3 9 9 4 4 0 7]\n",
      "epoch:  90  , loss:  1.76669 accuracy:  0.684182\n",
      "[7 3 4 5 4 0 2 0 9 9 0 3 7 2 7 0 2 9 0 0 3 0 7 3 9 7 4 5 5 9 5 3 4 4 2 7 3\n",
      " 5 4 2 5 3 3 3 9 9 4 4 0 7]\n",
      "epoch:  95  , loss:  1.76665 accuracy:  0.6842\n",
      "[7 3 4 5 4 0 2 0 9 9 0 3 7 2 7 0 2 9 0 0 3 0 7 3 9 7 4 5 5 9 5 3 4 4 2 7 3\n",
      " 5 4 2 5 3 3 3 9 9 4 4 0 7]\n",
      "epoch:  100  , loss:  1.76661 accuracy:  0.684236\n",
      "[7 3 4 5 4 0 2 0 9 9 0 3 7 2 7 0 2 9 0 0 3 0 7 3 9 7 4 5 5 9 5 3 4 4 2 7 3\n",
      " 5 4 2 5 3 3 3 9 9 4 4 0 7]\n"
     ]
    }
   ],
   "source": [
    "loss = tf.reduce_mean(tf.nn.softmax_cross_entropy_with_logits(labels=ys, logits=layer3))\n",
    "\n",
    "train_step = tf.train.GradientDescentOptimizer(0.7).minimize(loss)\n",
    "# train_step = tf.train.RMSPropOptimizer(0.01).minimize(loss)\n",
    "# train_step = tf.train.MomentumOptimizer(0.2,0.1).minimize(loss)\n",
    "\n",
    "correct_prediction = tf.equal(tf.argmax(layer3,1), tf.argmax(ys,1))\n",
    "accuracy = tf.reduce_mean(tf.cast(correct_prediction, tf.float32))\n",
    "\n",
    "batch_size = 200\n",
    "batches = x_train.shape[0]//batch_size\n",
    "index = np.arange(x_train.shape[0])\n",
    "\n",
    "for epoch in range(101):    \n",
    "#     np.random.shuffle(index)\n",
    "    for batch in range(batches):\n",
    "        sess.run(train_step, feed_dict={xs: x_train[[index[batch_size*batch:batch_size*(batch+1)]]], ys: y_train[[index[batch_size*batch:batch_size*(batch+1)]]]})\n",
    "#     sess.run(train_step, feed_dict={xs: x_train[0:100], ys: y_train[0:100]})\n",
    "    \n",
    "    if epoch%5==0:\n",
    "        print \"epoch: \",epoch,\" , loss: \",sess.run(loss, feed_dict={xs: x_train, ys: y_train}),\"accuracy: \",sess.run(accuracy, feed_dict={xs: x_train, ys: y_train})\n",
    "#         print sess.run(tf.argmax(sess.run(layer1, feed_dict={xs: x_train})[0:50],1))\n",
    "#         print sess.run(tf.argmax(sess.run(prediction, feed_dict={xs: x_train})[0:50],1))\n",
    "        print sess.run(tf.argmax(sess.run(layer3, feed_dict={xs: x_train})[0:50],1))"
   ]
  },
  {
   "cell_type": "code",
   "execution_count": 106,
   "metadata": {
    "collapsed": false
   },
   "outputs": [
    {
     "name": "stdout",
     "output_type": "stream",
     "text": [
      "[[  2.16716423e-09   4.07739037e-10   3.44509353e-05 ...,   6.92126842e-11\n",
      "    2.27929592e-10   6.95657265e-09]\n",
      " [  1.69313589e-05   1.25639940e-06   2.94687179e-05 ...,   1.29422006e-06\n",
      "    6.68180711e-09   2.38917960e-06]\n",
      " [  2.46643204e-08   1.12923101e-10   2.23134045e-08 ...,   9.13228689e-07\n",
      "    1.63739733e-09   3.53165355e-08]\n",
      " [  2.24298574e-07   7.64708349e-12   2.36078336e-07 ...,   1.12339746e-08\n",
      "    8.97443439e-11   5.19076366e-07]]\n"
     ]
    },
    {
     "data": {
      "image/png": "[encoded data removed]",
      "text/plain": [
       "<matplotlib.figure.Figure at 0x12494d710>"
      ]
     },
     "metadata": {},
     "output_type": "display_data"
    }
   ],
   "source": [
    "x_ae = np.array([np.reshape(m,(28,28)) for m in sess.run(layer4, feed_dict={xs:x_train})])\n",
    "print sess.run(layer4, feed_dict={xs:x_train})[0:4]\n",
    "fig, ax = plt.subplots(nrows=2, ncols=2)\n",
    "for i,row in enumerate(ax):\n",
    "    for j,col in enumerate(row):\n",
    "        ax[i][j].imshow(x_ae[i*2+j], cmap='gray')"
   ]
  },
  {
   "cell_type": "code",
   "execution_count": 108,
   "metadata": {
    "collapsed": false
   },
   "outputs": [
    {
     "name": "stdout",
     "output_type": "stream",
     "text": [
      "[[  5.39178568e-09   4.80565976e-10   6.94733899e-05 ...,   3.46302292e-11\n",
      "    2.32158348e-10   4.90721730e-09]\n",
      " [  3.83409060e-05   3.42109047e-07   3.07635055e-05 ...,   3.86735655e-06\n",
      "    3.38634436e-08   1.66711561e-05]\n",
      " [  3.97470004e-08   2.16407364e-10   1.25004149e-08 ...,   4.28886278e-06\n",
      "    3.13614712e-09   5.86460871e-08]\n",
      " [  2.42742090e-07   4.04406673e-12   1.50194978e-07 ...,   3.34051964e-09\n",
      "    1.26009911e-10   3.79541035e-07]]\n"
     ]
    },
    {
     "data": {
      "image/png": "[encoded data removed]",
      "text/plain": [
       "<matplotlib.figure.Figure at 0x12a0c0e50>"
      ]
     },
     "metadata": {},
     "output_type": "display_data"
    }
   ],
   "source": [
    "x_ae = np.array([np.reshape(m,(28,28)) for m in sess.run(layer4, feed_dict={xs:x_train})])\n",
    "print sess.run(layer4, feed_dict={xs:x_train})[0:4]\n",
    "fig, ax = plt.subplots(nrows=2, ncols=2)\n",
    "for i,row in enumerate(ax):\n",
    "    for j,col in enumerate(row):\n",
    "        ax[i][j].imshow(x_ae[i*2+j], cmap='gray')"
   ]
  },
  {
   "cell_type": "code",
   "execution_count": 70,
   "metadata": {
    "collapsed": true
   },
   "outputs": [],
   "source": [
    "def  extendList (val, list=[]) :  \n",
    "    list.append(val)  \n",
    "    return list  \n",
    "  \n",
    "list1 = extendList( 10 )  \n",
    "list2 = extendList( 123 ,[])  \n",
    "list3 = extendList( 'a' )  "
   ]
  },
  {
   "cell_type": "code",
   "execution_count": 80,
   "metadata": {
    "collapsed": false
   },
   "outputs": [
    {
     "name": "stdout",
     "output_type": "stream",
     "text": [
      "[10, 'a', 123, 123, 123] [123] [10, 'a', 123, 123, 123]\n"
     ]
    }
   ],
   "source": [
    "print list1,list2,list3"
   ]
  },
  {
   "cell_type": "code",
   "execution_count": 112,
   "metadata": {
    "collapsed": false
   },
   "outputs": [
    {
     "ename": "InvalidArgumentError",
     "evalue": "Shape [-1,784] has negative dimensions\n\t [[Node: Placeholder_48 = Placeholder[dtype=DT_FLOAT, shape=[?,784], _device=\"/job:localhost/replica:0/task:0/cpu:0\"]()]]\n\nCaused by op u'Placeholder_48', defined at:\n  File \"/Users/htlin/anaconda/lib/python2.7/runpy.py\", line 174, in _run_module_as_main\n    \"__main__\", fname, loader, pkg_name)\n  File \"/Users/htlin/anaconda/lib/python2.7/runpy.py\", line 72, in _run_code\n    exec code in run_globals\n  File \"/Users/htlin/anaconda/lib/python2.7/site-packages/ipykernel/__main__.py\", line 3, in <module>\n    app.launch_new_instance()\n  File \"/Users/htlin/anaconda/lib/python2.7/site-packages/traitlets/config/application.py\", line 658, in launch_instance\n    app.start()\n  File \"/Users/htlin/anaconda/lib/python2.7/site-packages/ipykernel/kernelapp.py\", line 474, in start\n    ioloop.IOLoop.instance().start()\n  File \"/Users/htlin/anaconda/lib/python2.7/site-packages/zmq/eventloop/ioloop.py\", line 177, in start\n    super(ZMQIOLoop, self).start()\n  File \"/Users/htlin/anaconda/lib/python2.7/site-packages/tornado/ioloop.py\", line 887, in start\n    handler_func(fd_obj, events)\n  File \"/Users/htlin/anaconda/lib/python2.7/site-packages/tornado/stack_context.py\", line 275, in null_wrapper\n    return fn(*args, **kwargs)\n  File \"/Users/htlin/anaconda/lib/python2.7/site-packages/zmq/eventloop/zmqstream.py\", line 440, in _handle_events\n    self._handle_recv()\n  File \"/Users/htlin/anaconda/lib/python2.7/site-packages/zmq/eventloop/zmqstream.py\", line 472, in _handle_recv\n    self._run_callback(callback, msg)\n  File \"/Users/htlin/anaconda/lib/python2.7/site-packages/zmq/eventloop/zmqstream.py\", line 414, in _run_callback\n    callback(*args, **kwargs)\n  File \"/Users/htlin/anaconda/lib/python2.7/site-packages/tornado/stack_context.py\", line 275, in null_wrapper\n    return fn(*args, **kwargs)\n  File \"/Users/htlin/anaconda/lib/python2.7/site-packages/ipykernel/kernelbase.py\", line 276, in dispatcher\n    return self.dispatch_shell(stream, msg)\n  File \"/Users/htlin/anaconda/lib/python2.7/site-packages/ipykernel/kernelbase.py\", line 228, in dispatch_shell\n    handler(stream, idents, msg)\n  File \"/Users/htlin/anaconda/lib/python2.7/site-packages/ipykernel/kernelbase.py\", line 390, in execute_request\n    user_expressions, allow_stdin)\n  File \"/Users/htlin/anaconda/lib/python2.7/site-packages/ipykernel/ipkernel.py\", line 196, in do_execute\n    res = shell.run_cell(code, store_history=store_history, silent=silent)\n  File \"/Users/htlin/anaconda/lib/python2.7/site-packages/ipykernel/zmqshell.py\", line 501, in run_cell\n    return super(ZMQInteractiveShell, self).run_cell(*args, **kwargs)\n  File \"/Users/htlin/anaconda/lib/python2.7/site-packages/IPython/core/interactiveshell.py\", line 2718, in run_cell\n    interactivity=interactivity, compiler=compiler, result=result)\n  File \"/Users/htlin/anaconda/lib/python2.7/site-packages/IPython/core/interactiveshell.py\", line 2822, in run_ast_nodes\n    if self.run_code(code, result):\n  File \"/Users/htlin/anaconda/lib/python2.7/site-packages/IPython/core/interactiveshell.py\", line 2882, in run_code\n    exec(code_obj, self.user_global_ns, self.user_ns)\n  File \"<ipython-input-98-cdf93f1d1688>\", line 1, in <module>\n    xs = tf.placeholder(tf.float32, [None, 784])    #shape=(100,784)\n  File \"/Users/htlin/anaconda/lib/python2.7/site-packages/tensorflow/python/ops/array_ops.py\", line 1530, in placeholder\n    return gen_array_ops._placeholder(dtype=dtype, shape=shape, name=name)\n  File \"/Users/htlin/anaconda/lib/python2.7/site-packages/tensorflow/python/ops/gen_array_ops.py\", line 1954, in _placeholder\n    name=name)\n  File \"/Users/htlin/anaconda/lib/python2.7/site-packages/tensorflow/python/framework/op_def_library.py\", line 767, in apply_op\n    op_def=op_def)\n  File \"/Users/htlin/anaconda/lib/python2.7/site-packages/tensorflow/python/framework/ops.py\", line 2506, in create_op\n    original_op=self._default_original_op, op_def=op_def)\n  File \"/Users/htlin/anaconda/lib/python2.7/site-packages/tensorflow/python/framework/ops.py\", line 1269, in __init__\n    self._traceback = _extract_stack()\n\nInvalidArgumentError (see above for traceback): Shape [-1,784] has negative dimensions\n\t [[Node: Placeholder_48 = Placeholder[dtype=DT_FLOAT, shape=[?,784], _device=\"/job:localhost/replica:0/task:0/cpu:0\"]()]]\n",
     "output_type": "error",
     "traceback": [
      "\u001b[0;31m---------------------------------------------------------------------------\u001b[0m",
      "\u001b[0;31mInvalidArgumentError\u001b[0m                      Traceback (most recent call last)",
      "\u001b[0;32m<ipython-input-112-1ee4db45af96>\u001b[0m in \u001b[0;36m<module>\u001b[0;34m()\u001b[0m\n\u001b[0;32m----> 1\u001b[0;31m \u001b[0;32mprint\u001b[0m \u001b[0msess\u001b[0m\u001b[0;34m.\u001b[0m\u001b[0mrun\u001b[0m\u001b[0;34m(\u001b[0m\u001b[0mlayer2\u001b[0m\u001b[0;34m)\u001b[0m\u001b[0;34m\u001b[0m\u001b[0m\n\u001b[0m",
      "\u001b[0;32m/Users/htlin/anaconda/lib/python2.7/site-packages/tensorflow/python/client/session.pyc\u001b[0m in \u001b[0;36mrun\u001b[0;34m(self, fetches, feed_dict, options, run_metadata)\u001b[0m\n\u001b[1;32m    787\u001b[0m     \u001b[0;32mtry\u001b[0m\u001b[0;34m:\u001b[0m\u001b[0;34m\u001b[0m\u001b[0m\n\u001b[1;32m    788\u001b[0m       result = self._run(None, fetches, feed_dict, options_ptr,\n\u001b[0;32m--> 789\u001b[0;31m                          run_metadata_ptr)\n\u001b[0m\u001b[1;32m    790\u001b[0m       \u001b[0;32mif\u001b[0m \u001b[0mrun_metadata\u001b[0m\u001b[0;34m:\u001b[0m\u001b[0;34m\u001b[0m\u001b[0m\n\u001b[1;32m    791\u001b[0m         \u001b[0mproto_data\u001b[0m \u001b[0;34m=\u001b[0m \u001b[0mtf_session\u001b[0m\u001b[0;34m.\u001b[0m\u001b[0mTF_GetBuffer\u001b[0m\u001b[0;34m(\u001b[0m\u001b[0mrun_metadata_ptr\u001b[0m\u001b[0;34m)\u001b[0m\u001b[0;34m\u001b[0m\u001b[0m\n",
      "\u001b[0;32m/Users/htlin/anaconda/lib/python2.7/site-packages/tensorflow/python/client/session.pyc\u001b[0m in \u001b[0;36m_run\u001b[0;34m(self, handle, fetches, feed_dict, options, run_metadata)\u001b[0m\n\u001b[1;32m    995\u001b[0m     \u001b[0;32mif\u001b[0m \u001b[0mfinal_fetches\u001b[0m \u001b[0;32mor\u001b[0m \u001b[0mfinal_targets\u001b[0m\u001b[0;34m:\u001b[0m\u001b[0;34m\u001b[0m\u001b[0m\n\u001b[1;32m    996\u001b[0m       results = self._do_run(handle, final_targets, final_fetches,\n\u001b[0;32m--> 997\u001b[0;31m                              feed_dict_string, options, run_metadata)\n\u001b[0m\u001b[1;32m    998\u001b[0m     \u001b[0;32melse\u001b[0m\u001b[0;34m:\u001b[0m\u001b[0;34m\u001b[0m\u001b[0m\n\u001b[1;32m    999\u001b[0m       \u001b[0mresults\u001b[0m \u001b[0;34m=\u001b[0m \u001b[0;34m[\u001b[0m\u001b[0;34m]\u001b[0m\u001b[0;34m\u001b[0m\u001b[0m\n",
      "\u001b[0;32m/Users/htlin/anaconda/lib/python2.7/site-packages/tensorflow/python/client/session.pyc\u001b[0m in \u001b[0;36m_do_run\u001b[0;34m(self, handle, target_list, fetch_list, feed_dict, options, run_metadata)\u001b[0m\n\u001b[1;32m   1130\u001b[0m     \u001b[0;32mif\u001b[0m \u001b[0mhandle\u001b[0m \u001b[0;32mis\u001b[0m \u001b[0mNone\u001b[0m\u001b[0;34m:\u001b[0m\u001b[0;34m\u001b[0m\u001b[0m\n\u001b[1;32m   1131\u001b[0m       return self._do_call(_run_fn, self._session, feed_dict, fetch_list,\n\u001b[0;32m-> 1132\u001b[0;31m                            target_list, options, run_metadata)\n\u001b[0m\u001b[1;32m   1133\u001b[0m     \u001b[0;32melse\u001b[0m\u001b[0;34m:\u001b[0m\u001b[0;34m\u001b[0m\u001b[0m\n\u001b[1;32m   1134\u001b[0m       return self._do_call(_prun_fn, self._session, handle, feed_dict,\n",
      "\u001b[0;32m/Users/htlin/anaconda/lib/python2.7/site-packages/tensorflow/python/client/session.pyc\u001b[0m in \u001b[0;36m_do_call\u001b[0;34m(self, fn, *args)\u001b[0m\n\u001b[1;32m   1150\u001b[0m         \u001b[0;32mexcept\u001b[0m \u001b[0mKeyError\u001b[0m\u001b[0;34m:\u001b[0m\u001b[0;34m\u001b[0m\u001b[0m\n\u001b[1;32m   1151\u001b[0m           \u001b[0;32mpass\u001b[0m\u001b[0;34m\u001b[0m\u001b[0m\n\u001b[0;32m-> 1152\u001b[0;31m       \u001b[0;32mraise\u001b[0m \u001b[0mtype\u001b[0m\u001b[0;34m(\u001b[0m\u001b[0me\u001b[0m\u001b[0;34m)\u001b[0m\u001b[0;34m(\u001b[0m\u001b[0mnode_def\u001b[0m\u001b[0;34m,\u001b[0m \u001b[0mop\u001b[0m\u001b[0;34m,\u001b[0m \u001b[0mmessage\u001b[0m\u001b[0;34m)\u001b[0m\u001b[0;34m\u001b[0m\u001b[0m\n\u001b[0m\u001b[1;32m   1153\u001b[0m \u001b[0;34m\u001b[0m\u001b[0m\n\u001b[1;32m   1154\u001b[0m   \u001b[0;32mdef\u001b[0m \u001b[0m_extend_graph\u001b[0m\u001b[0;34m(\u001b[0m\u001b[0mself\u001b[0m\u001b[0;34m)\u001b[0m\u001b[0;34m:\u001b[0m\u001b[0;34m\u001b[0m\u001b[0m\n",
      "\u001b[0;31mInvalidArgumentError\u001b[0m: Shape [-1,784] has negative dimensions\n\t [[Node: Placeholder_48 = Placeholder[dtype=DT_FLOAT, shape=[?,784], _device=\"/job:localhost/replica:0/task:0/cpu:0\"]()]]\n\nCaused by op u'Placeholder_48', defined at:\n  File \"/Users/htlin/anaconda/lib/python2.7/runpy.py\", line 174, in _run_module_as_main\n    \"__main__\", fname, loader, pkg_name)\n  File \"/Users/htlin/anaconda/lib/python2.7/runpy.py\", line 72, in _run_code\n    exec code in run_globals\n  File \"/Users/htlin/anaconda/lib/python2.7/site-packages/ipykernel/__main__.py\", line 3, in <module>\n    app.launch_new_instance()\n  File \"/Users/htlin/anaconda/lib/python2.7/site-packages/traitlets/config/application.py\", line 658, in launch_instance\n    app.start()\n  File \"/Users/htlin/anaconda/lib/python2.7/site-packages/ipykernel/kernelapp.py\", line 474, in start\n    ioloop.IOLoop.instance().start()\n  File \"/Users/htlin/anaconda/lib/python2.7/site-packages/zmq/eventloop/ioloop.py\", line 177, in start\n    super(ZMQIOLoop, self).start()\n  File \"/Users/htlin/anaconda/lib/python2.7/site-packages/tornado/ioloop.py\", line 887, in start\n    handler_func(fd_obj, events)\n  File \"/Users/htlin/anaconda/lib/python2.7/site-packages/tornado/stack_context.py\", line 275, in null_wrapper\n    return fn(*args, **kwargs)\n  File \"/Users/htlin/anaconda/lib/python2.7/site-packages/zmq/eventloop/zmqstream.py\", line 440, in _handle_events\n    self._handle_recv()\n  File \"/Users/htlin/anaconda/lib/python2.7/site-packages/zmq/eventloop/zmqstream.py\", line 472, in _handle_recv\n    self._run_callback(callback, msg)\n  File \"/Users/htlin/anaconda/lib/python2.7/site-packages/zmq/eventloop/zmqstream.py\", line 414, in _run_callback\n    callback(*args, **kwargs)\n  File \"/Users/htlin/anaconda/lib/python2.7/site-packages/tornado/stack_context.py\", line 275, in null_wrapper\n    return fn(*args, **kwargs)\n  File \"/Users/htlin/anaconda/lib/python2.7/site-packages/ipykernel/kernelbase.py\", line 276, in dispatcher\n    return self.dispatch_shell(stream, msg)\n  File \"/Users/htlin/anaconda/lib/python2.7/site-packages/ipykernel/kernelbase.py\", line 228, in dispatch_shell\n    handler(stream, idents, msg)\n  File \"/Users/htlin/anaconda/lib/python2.7/site-packages/ipykernel/kernelbase.py\", line 390, in execute_request\n    user_expressions, allow_stdin)\n  File \"/Users/htlin/anaconda/lib/python2.7/site-packages/ipykernel/ipkernel.py\", line 196, in do_execute\n    res = shell.run_cell(code, store_history=store_history, silent=silent)\n  File \"/Users/htlin/anaconda/lib/python2.7/site-packages/ipykernel/zmqshell.py\", line 501, in run_cell\n    return super(ZMQInteractiveShell, self).run_cell(*args, **kwargs)\n  File \"/Users/htlin/anaconda/lib/python2.7/site-packages/IPython/core/interactiveshell.py\", line 2718, in run_cell\n    interactivity=interactivity, compiler=compiler, result=result)\n  File \"/Users/htlin/anaconda/lib/python2.7/site-packages/IPython/core/interactiveshell.py\", line 2822, in run_ast_nodes\n    if self.run_code(code, result):\n  File \"/Users/htlin/anaconda/lib/python2.7/site-packages/IPython/core/interactiveshell.py\", line 2882, in run_code\n    exec(code_obj, self.user_global_ns, self.user_ns)\n  File \"<ipython-input-98-cdf93f1d1688>\", line 1, in <module>\n    xs = tf.placeholder(tf.float32, [None, 784])    #shape=(100,784)\n  File \"/Users/htlin/anaconda/lib/python2.7/site-packages/tensorflow/python/ops/array_ops.py\", line 1530, in placeholder\n    return gen_array_ops._placeholder(dtype=dtype, shape=shape, name=name)\n  File \"/Users/htlin/anaconda/lib/python2.7/site-packages/tensorflow/python/ops/gen_array_ops.py\", line 1954, in _placeholder\n    name=name)\n  File \"/Users/htlin/anaconda/lib/python2.7/site-packages/tensorflow/python/framework/op_def_library.py\", line 767, in apply_op\n    op_def=op_def)\n  File \"/Users/htlin/anaconda/lib/python2.7/site-packages/tensorflow/python/framework/ops.py\", line 2506, in create_op\n    original_op=self._default_original_op, op_def=op_def)\n  File \"/Users/htlin/anaconda/lib/python2.7/site-packages/tensorflow/python/framework/ops.py\", line 1269, in __init__\n    self._traceback = _extract_stack()\n\nInvalidArgumentError (see above for traceback): Shape [-1,784] has negative dimensions\n\t [[Node: Placeholder_48 = Placeholder[dtype=DT_FLOAT, shape=[?,784], _device=\"/job:localhost/replica:0/task:0/cpu:0\"]()]]\n"
     ]
    }
   ],
   "source": [
    "print sess.run(layer2)"
   ]
  },
  {
   "cell_type": "code",
   "execution_count": 115,
   "metadata": {
    "collapsed": false
   },
   "outputs": [
    {
     "data": {
      "text/plain": [
       "array([0, 1, 2, 3, 4, 5])"
      ]
     },
     "execution_count": 115,
     "metadata": {},
     "output_type": "execute_result"
    }
   ],
   "source": [
    "np.arange(6)\n"
   ]
  },
  {
   "cell_type": "markdown",
   "metadata": {},
   "source": []
  },
  {
   "cell_type": "markdown",
   "metadata": {},
   "source": []
  },
  {
   "cell_type": "code",
   "execution_count": null,
   "metadata": {
    "collapsed": true
   },
   "outputs": [],
   "source": []
  }
 ],
 "metadata": {
  "kernelspec": {
   "display_name": "Python 2",
   "language": "python",
   "name": "python2"
  },
  "language_info": {
   "codemirror_mode": {
    "name": "ipython",
    "version": 2
   },
   "file_extension": ".py",
   "mimetype": "text/x-python",
   "name": "python",
   "nbconvert_exporter": "python",
   "pygments_lexer": "ipython2",
   "version": "2.7.13"
  }
 },
 "nbformat": 4,
 "nbformat_minor": 2
}

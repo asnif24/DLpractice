{
 "cells": [
  {
   "cell_type": "code",
   "execution_count": 1,
   "metadata": {},
   "outputs": [],
   "source": [
    "import tensorflow as tf\n",
    "from tensorflow.examples.tutorials.mnist import input_data\n",
    "import numpy as np\n",
    "import matplotlib.pyplot as plt\n",
    "\n",
    "%matplotlib inline"
   ]
  },
  {
   "cell_type": "code",
   "execution_count": 2,
   "metadata": {},
   "outputs": [
    {
     "name": "stdout",
     "output_type": "stream",
     "text": [
      "Extracting MNIST_data/train-images-idx3-ubyte.gz\n",
      "Extracting MNIST_data/train-labels-idx1-ubyte.gz\n",
      "Extracting MNIST_data/t10k-images-idx3-ubyte.gz\n",
      "Extracting MNIST_data/t10k-labels-idx1-ubyte.gz\n"
     ]
    }
   ],
   "source": [
    "mnist = input_data.read_data_sets(\"MNIST_data/\", one_hot = True)\n",
    "batch_size = 256\n",
    "g_dim = 100"
   ]
  },
  {
   "cell_type": "code",
   "execution_count": 3,
   "metadata": {},
   "outputs": [],
   "source": [
    "def conv2d(x, W):\n",
    "    return tf.nn.conv2d(x, W, strides=[1, 2, 2, 1], padding = 'SAME')\n",
    "def deconv2d(x, W, output_shape):\n",
    "    return tf.nn.conv2d_transpose(x, W, output_shape, strides = [1, 2, 2, 1], padding = 'SAME')\n",
    "\n",
    "class layer:\n",
    "    def __init__(self, in_size, out_size):\n",
    "#         self.W = tf.Variable(tf.zeros([in_size, out_size]))\n",
    "        self.W = tf.Variable(tf.random_normal([in_size, out_size], mean=0.0, stddev=0.01))\n",
    "#         self.b = tf.Variable(tf.zeros([1,out_size]))\n",
    "#         self.b = tf.Variable(tf.constant(0.1, shape=[1,out_size]))\n",
    "        self.b = tf.Variable(tf.random_normal([1, out_size], mean=0.0, stddev=0.01))\n",
    "    \n",
    "        \n",
    "    def output(self, inputs, activation_function=None):\n",
    "        if activation_function == None:\n",
    "            return tf.matmul(inputs, self.W) + self.b\n",
    "        else :\n",
    "            return activation_function(tf.matmul(inputs, self.W) + self.b)\n",
    "        \n",
    "def weight_variable(shape):\n",
    "    '''Helper function to create a weight variable initialized with\n",
    "    a normal distribution\n",
    "\n",
    "    Parameters\n",
    "    ----------\n",
    "    shape : list\n",
    "        Size of weight variable\n",
    "    '''\n",
    "    initial = tf.random_normal(shape, mean=0.0, stddev=0.01)\n",
    "    return tf.Variable(initial)\n",
    "\n",
    "def bias_variable(shape):\n",
    "    '''Helper function to create a bias variable initialized with\n",
    "    a constant value.\n",
    "\n",
    "    Parameters\n",
    "    ----------\n",
    "    shape : list\n",
    "        Size of weight variable\n",
    "    '''\n",
    "    initial = tf.random_normal(shape, mean=0.0, stddev=0.01)\n",
    "    return tf.Variable(initial)"
   ]
  },
  {
   "cell_type": "code",
   "execution_count": 4,
   "metadata": {},
   "outputs": [],
   "source": [
    "x_d = tf.placeholder(tf.float32, shape = [None, 784])\n",
    "x_g = tf.placeholder(tf.float32, shape = [None, g_dim])"
   ]
  },
  {
   "cell_type": "code",
   "execution_count": 5,
   "metadata": {},
   "outputs": [],
   "source": [
    "# d_l1 = layer(784, g_dim)\n",
    "# d_l2 = layer(g_dim, 1)\n",
    "# d_l3 = layer(g_dim, 1)\n",
    "\n",
    "# g_l1 = layer(g_dim, 256)\n",
    "# g_l2 = layer(256, 784)\n",
    "\n",
    "# var_d = [d_l1.W, d_l1.b, d_l2.W, d_l2.b]\n",
    "# var_g = [g_l1.W, g_l1.b, g_l2.W, g_l2.b]\n",
    "\n",
    "\n",
    "weights = {\n",
    "    \"w_d1\" : weight_variable([5, 5, 1, 32]),\n",
    "    \"w_d2\" : weight_variable([5, 5, 32, 64]),\n",
    "    \"w_d3\" : weight_variable([7 * 7 * 64, 1]),\n",
    "    \n",
    "    \"w_g1\" : weight_variable([g_dim, 4 * 4 * 64]),\n",
    "    \"w_g2\" : weight_variable([5, 5, 32, 64]),\n",
    "    \"w_g3\" : weight_variable([5, 5, 16, 32]),\n",
    "    \"w_g4\" : weight_variable([5, 5, 1, 16])\n",
    "}\n",
    "\n",
    "biases = {\n",
    "    \"b_d1\" : bias_variable([32]),\n",
    "    \"b_d2\" : bias_variable([64]),\n",
    "    \"b_d3\" : bias_variable([1]),\n",
    "    \"b_g1\" : bias_variable([4 * 4 * 64]),\n",
    "    \"b_g2\" : bias_variable([32]),\n",
    "    \"b_g3\" : bias_variable([16]),\n",
    "    \"b_g4\" : bias_variable([1]),\n",
    "}\n",
    "\n",
    "var_d = [weights[\"w_d1\"], weights[\"w_d2\"], weights[\"w_d3\"], biases[\"b_d1\"], biases[\"b_d2\"], biases[\"b_d3\"]]\n",
    "var_g = [weights[\"w_g1\"], weights[\"w_g2\"],weights[\"w_g3\"], weights[\"w_g4\"], biases[\"b_g1\"], biases[\"b_g2\"],biases[\"b_g3\"], biases[\"b_g4\"]]"
   ]
  },
  {
   "cell_type": "code",
   "execution_count": 6,
   "metadata": {},
   "outputs": [],
   "source": [
    "def generator(z):\n",
    "    #100 x 1\n",
    "    h_g1 = tf.nn.relu(tf.add(tf.matmul(z, weights[\"w_g1\"]), biases[\"b_g1\"]))\n",
    "    #-1 x 4*4*128\n",
    "    h_g1_reshape = tf.reshape(h_g1, [-1, 4, 4, 64])\n",
    "    \n",
    "    output_shape_g2 = tf.stack([tf.shape(z)[0], 7, 7, 32])\n",
    "    h_g2 = tf.nn.relu(tf.add(deconv2d(h_g1_reshape, weights[\"w_g2\"], output_shape_g2), biases[\"b_g2\"]))\n",
    "    \n",
    "    output_shape_g3 = tf.stack([tf.shape(z)[0], 14, 14, 16])\n",
    "    h_g3 = tf.nn.relu(tf.add(deconv2d(h_g2, weights[\"w_g3\"], output_shape_g3), biases[\"b_g3\"]))\n",
    "    \n",
    "    output_shape_g4 = tf.stack([tf.shape(z)[0], 28, 28, 1])\n",
    "    h_g4 = tf.nn.tanh(tf.add(deconv2d(h_g3, weights[\"w_g4\"], output_shape_g4), biases[\"b_g4\"]))\n",
    "    \n",
    "    return h_g4\n",
    "\n",
    "\n",
    "def discriminator(x):\n",
    "    x_reshape = tf.reshape(x, [-1, 28, 28, 1])\n",
    "    # 28 x 28 x 1\n",
    "    h_d1 = tf.nn.relu(tf.add(conv2d(x_reshape, weights[\"w_d1\"]), biases[\"b_d1\"]))\n",
    "    # 14 x 14 x 32\n",
    "    h_d2 = tf.nn.relu(tf.add(conv2d(h_d1, weights[\"w_d2\"]), biases[\"b_d2\"]))\n",
    "    # 7 x 7 x 64\n",
    "    h_d2_reshape = tf.reshape(h_d2, [-1, 7 * 7 * 64])\n",
    "    h_d3 = tf.nn.sigmoid(tf.add(tf.matmul(h_d2_reshape, weights[\"w_d3\"]), biases[\"b_d3\"]))\n",
    "    return h_d3"
   ]
  },
  {
   "cell_type": "code",
   "execution_count": 7,
   "metadata": {},
   "outputs": [],
   "source": [
    "def sample_Z(m, n):\n",
    "    return np.random.uniform(-1., 1., size=[m, n])\n",
    "\n",
    "g_sample = generator(x_g)\n",
    "d_real= discriminator(x_d)\n",
    "d_fake = discriminator(g_sample)\n",
    "\n",
    "d_loss = -tf.reduce_mean(tf.log(d_real) + tf.log(1. - d_fake))\n",
    "g_loss = -tf.reduce_mean(tf.log(d_fake))\n",
    "\n",
    "# 只更新 discriminator\n",
    "d_optimizer = tf.train.AdamOptimizer(0.00001).minimize(d_loss, var_list= var_d)\n",
    "# 只更新 generator parameters\n",
    "g_optimizer = tf.train.AdamOptimizer(0.00005).minimize(g_loss, var_list= var_g)\n"
   ]
  },
  {
   "cell_type": "code",
   "execution_count": null,
   "metadata": {},
   "outputs": [
    {
     "name": "stdout",
     "output_type": "stream",
     "text": [
      "step: 0  d-loss: 1.38578  g-loss: 0.695165\n",
      "step: 1000  d-loss: 1.39813  g-loss: 0.685401\n",
      "step: 2000  d-loss: 1.40323  g-loss: 0.678054\n",
      "step: 3000  d-loss: 1.40247  g-loss: 0.675416\n",
      "step: 4000  d-loss: 1.31082  g-loss: 0.811758\n",
      "step: 5000  d-loss: 1.28533  g-loss: 0.734554\n",
      "step: 6000  d-loss: 1.31527  g-loss: 0.801686\n"
     ]
    }
   ],
   "source": [
    "init = tf.global_variables_initializer()\n",
    "sess = tf.Session()\n",
    "sess.run(init)\n",
    "\n",
    "for step in range(20001):\n",
    "    batch_x = mnist.train.next_batch(batch_size)[0]\n",
    "#     _, d_loss_train = sess.run([d_optimizer, d_loss], feed_dict={x_d: batch_x, x_g: sample_Z(batch_size, g_dim)})\n",
    "    sess.run(d_optimizer, feed_dict={x_d: batch_x, x_g: sample_Z(batch_size, g_dim)})\n",
    "#     _, g_loss_train = sess.run([g_optimizer, g_loss], feed_dict={x_g: sample_Z(batch_size, g_dim)})\n",
    "    sess.run(g_optimizer, feed_dict={x_g: sample_Z(batch_size, g_dim)})\n",
    "    if step%1000==0:\n",
    "        d_loss_train, g_loss_train = sess.run([d_loss, g_loss], feed_dict=\n",
    "                            {x_d: batch_x, x_g: sample_Z(batch_size, g_dim)})\n",
    "        print 'step:', step, ' d-loss:', d_loss_train, ' g-loss:', g_loss_train\n",
    "\n",
    "zz = sample_Z(batch_size, g_dim)\n",
    "gg = sess.run(g_sample, feed_dict = {x_g: zz})\n",
    "# gg = sess.run(g_sample, feed_dict = {x_g: sample_Z(batch_size, g_dim)})\n",
    "gg_pic = np.array([np.reshape(m,(28,28)) for m in gg])\n",
    "fig, ax = plt.subplots(nrows=3, ncols=3)\n",
    "for i,row in enumerate(ax):\n",
    "    for j,col in enumerate(row):\n",
    "        ax[i][j].imshow(gg_pic[i*3+j], cmap='gray')\n"
   ]
  },
  {
   "cell_type": "code",
   "execution_count": null,
   "metadata": {},
   "outputs": [],
   "source": [
    "for step in range(20001):\n",
    "    batch_x = mnist.train.next_batch(batch_size)[0]\n",
    "#     _, d_loss_train = sess.run([d_optimizer, d_loss], feed_dict={x_d: batch_x, x_g: sample_Z(batch_size, g_dim)})\n",
    "    sess.run(d_optimizer, feed_dict={x_d: batch_x, x_g: sample_Z(batch_size, g_dim)})\n",
    "#     _, g_loss_train = sess.run([g_optimizer, g_loss], feed_dict={x_g: sample_Z(batch_size, g_dim)})\n",
    "    sess.run(g_optimizer, feed_dict={x_g: sample_Z(batch_size, g_dim)})\n",
    "    if step%1000==0:\n",
    "        d_loss_train, g_loss_train = sess.run([d_loss, g_loss], feed_dict=\n",
    "                            {x_d: batch_x, x_g: sample_Z(batch_size, g_dim)})\n",
    "        print 'step:', step, ' d-loss:', d_loss_train, ' g-loss:', g_loss_train\n",
    "\n",
    "# zz = sample_Z(batch_size, g_dim)\n",
    "gg = sess.run(g_sample, feed_dict = {x_g: zz})\n",
    "# gg = sess.run(g_sample, feed_dict = {x_g: sample_Z(batch_size, g_dim)})\n",
    "gg_pic = np.array([np.reshape(m,(28,28)) for m in gg])\n",
    "fig, ax = plt.subplots(nrows=3, ncols=3)\n",
    "for i,row in enumerate(ax):\n",
    "    for j,col in enumerate(row):\n",
    "        ax[i][j].imshow(gg_pic[i*3+j], cmap='gray')"
   ]
  },
  {
   "cell_type": "code",
   "execution_count": null,
   "metadata": {},
   "outputs": [],
   "source": [
    "for step in range(20001):\n",
    "    batch_x = mnist.train.next_batch(batch_size)[0]\n",
    "#     _, d_loss_train = sess.run([d_optimizer, d_loss], feed_dict={x_d: batch_x, x_g: sample_Z(batch_size, g_dim)})\n",
    "    sess.run(d_optimizer, feed_dict={x_d: batch_x, x_g: sample_Z(batch_size, g_dim)})\n",
    "#     _, g_loss_train = sess.run([g_optimizer, g_loss], feed_dict={x_g: sample_Z(batch_size, g_dim)})\n",
    "    sess.run(g_optimizer, feed_dict={x_g: sample_Z(batch_size, g_dim)})\n",
    "    if step%1000==0:\n",
    "        d_loss_train, g_loss_train = sess.run([d_loss, g_loss], feed_dict=\n",
    "                            {x_d: batch_x, x_g: sample_Z(batch_size, g_dim)})\n",
    "        print 'step:', step, ' d-loss:', d_loss_train, ' g-loss:', g_loss_train\n",
    "\n",
    "# zz = sample_Z(batch_size, g_dim)\n",
    "gg = sess.run(g_sample, feed_dict = {x_g: zz})\n",
    "# gg = sess.run(g_sample, feed_dict = {x_g: sample_Z(batch_size, g_dim)})\n",
    "gg_pic = np.array([np.reshape(m,(28,28)) for m in gg])\n",
    "fig, ax = plt.subplots(nrows=3, ncols=3)\n",
    "for i,row in enumerate(ax):\n",
    "    for j,col in enumerate(row):\n",
    "        ax[i][j].imshow(gg_pic[i*3+j], cmap='gray')"
   ]
  },
  {
   "cell_type": "code",
   "execution_count": 21,
   "metadata": {},
   "outputs": [
    {
     "name": "stdout",
     "output_type": "stream",
     "text": [
      "step: 0  d-loss: 0.0651151  g-loss: 4.36209\n",
      "step: 1000  d-loss: 0.0304308  g-loss: 4.42282\n",
      "step: 2000  d-loss: 0.0306007  g-loss: 4.22416\n",
      "step: 3000  d-loss: 0.125707  g-loss: 4.35759\n",
      "step: 4000  d-loss: 0.0292838  g-loss: 4.80935\n",
      "step: 5000  d-loss: 0.0802077  g-loss: 4.5101\n",
      "step: 6000  d-loss: 0.0699728  g-loss: 4.24772\n",
      "step: 7000  d-loss: 0.10171  g-loss: 3.80868\n",
      "step: 8000  d-loss: 0.124324  g-loss: 3.85416\n",
      "step: 9000  d-loss: 0.100555  g-loss: 3.92421\n",
      "step: 10000  d-loss: 0.05422  g-loss: 3.84427\n",
      "step: 11000  d-loss: 0.0622487  g-loss: 4.19493\n",
      "step: 12000  d-loss: 0.0387862  g-loss: 4.42497\n",
      "step: 13000  d-loss: 0.0659327  g-loss: 3.91113\n",
      "step: 14000  d-loss: 0.125393  g-loss: 3.80247\n",
      "step: 15000  d-loss: 0.0637187  g-loss: 4.18281\n",
      "step: 16000  d-loss: 0.129853  g-loss: 4.15376\n",
      "step: 17000  d-loss: 0.122051  g-loss: 4.27146\n",
      "step: 18000  d-loss: 0.0463155  g-loss: 3.97595\n",
      "step: 19000  d-loss: 0.0768813  g-loss: 4.05855\n",
      "step: 20000  d-loss: 0.0960586  g-loss: 4.00896\n",
      "step: 21000  d-loss: 0.0630925  g-loss: 4.31804\n",
      "step: 22000  d-loss: 0.0982016  g-loss: 4.17478\n",
      "step: 23000  d-loss: 0.0578116  g-loss: 4.03771\n",
      "step: 24000  d-loss: 0.0806686  g-loss: 4.18623\n",
      "step: 25000  d-loss: 0.07493  g-loss: 4.71154\n",
      "step: 26000  d-loss: 0.0934256  g-loss: 3.8225\n",
      "step: 27000  d-loss: 0.0877788  g-loss: 3.8532\n",
      "step: 28000  d-loss: 0.0495573  g-loss: 4.15446\n",
      "step: 29000  d-loss: 0.105758  g-loss: 3.89008\n",
      "step: 30000  d-loss: 0.134243  g-loss: 3.83713\n"
     ]
    },
    {
     "data": {
      "image/png": "[encoded data removed]",
      "text/plain": [
       "<matplotlib.figure.Figure at 0x7f017009da10>"
      ]
     },
     "metadata": {},
     "output_type": "display_data"
    }
   ],
   "source": [
    "for step in range(30001):\n",
    "    batch_x = mnist.train.next_batch(batch_size)[0]\n",
    "#     _, d_loss_train = sess.run([d_optimizer, d_loss], feed_dict={x_d: batch_x, x_g: sample_Z(batch_size, g_dim)})\n",
    "    sess.run(d_optimizer, feed_dict={x_d: batch_x, x_g: sample_Z(batch_size, g_dim)})\n",
    "#     _, g_loss_train = sess.run([g_optimizer, g_loss], feed_dict={x_g: sample_Z(batch_size, g_dim)})\n",
    "    sess.run(g_optimizer, feed_dict={x_g: sample_Z(batch_size, g_dim)})\n",
    "    if step%1000==0:\n",
    "        d_loss_train, g_loss_train = sess.run([d_loss, g_loss], feed_dict=\n",
    "                            {x_d: batch_x, x_g: sample_Z(batch_size, g_dim)})\n",
    "        print 'step:', step, ' d-loss:', d_loss_train, ' g-loss:', g_loss_train\n",
    "\n",
    "# zz = sample_Z(batch_size, g_dim)\n",
    "gg = sess.run(g_sample, feed_dict = {x_g: zz})\n",
    "# gg = sess.run(g_sample, feed_dict = {x_g: sample_Z(batch_size, g_dim)})\n",
    "gg_pic = np.array([np.reshape(m,(28,28)) for m in gg])\n",
    "fig, ax = plt.subplots(nrows=3, ncols=3)\n",
    "for i,row in enumerate(ax):\n",
    "    for j,col in enumerate(row):\n",
    "        ax[i][j].imshow(gg_pic[i*3+j], cmap='gray')"
   ]
  },
  {
   "cell_type": "code",
   "execution_count": 22,
   "metadata": {},
   "outputs": [
    {
     "name": "stdout",
     "output_type": "stream",
     "text": [
      "step: 0  d-loss: 0.0994142  g-loss: 3.9216\n",
      "step: 1000  d-loss: 0.0925164  g-loss: 4.18952\n",
      "step: 2000  d-loss: 0.040922  g-loss: 4.04006\n",
      "step: 3000  d-loss: 0.0515059  g-loss: 4.05547\n",
      "step: 4000  d-loss: 0.0370605  g-loss: 4.09413\n",
      "step: 5000  d-loss: 0.109829  g-loss: 4.35378\n",
      "step: 6000  d-loss: 0.0833332  g-loss: 3.92529\n",
      "step: 7000  d-loss: 0.0654  g-loss: 4.33159\n",
      "step: 8000  d-loss: 0.0835302  g-loss: 4.47045\n",
      "step: 9000  d-loss: 0.0740782  g-loss: 3.47385\n",
      "step: 10000  d-loss: 0.0647099  g-loss: 4.33362\n",
      "step: 11000  d-loss: 0.126959  g-loss: 3.86432\n",
      "step: 12000  d-loss: 0.0800551  g-loss: 4.08515\n",
      "step: 13000  d-loss: 0.0917487  g-loss: 3.82232\n",
      "step: 14000  d-loss: 0.0712216  g-loss: 4.02845\n",
      "step: 15000  d-loss: 0.107803  g-loss: 4.00695\n",
      "step: 16000  d-loss: 0.073175  g-loss: 4.22156\n",
      "step: 17000  d-loss: 0.0831089  g-loss: 4.59877\n",
      "step: 18000  d-loss: 0.0745148  g-loss: 4.31249\n",
      "step: 19000  d-loss: 0.109094  g-loss: 4.00691\n",
      "step: 20000  d-loss: 0.0702343  g-loss: 4.03346\n",
      "step: 21000  d-loss: 0.0302851  g-loss: 4.36765\n",
      "step: 22000  d-loss: 0.0633262  g-loss: 3.82676\n",
      "step: 23000  d-loss: 0.0593135  g-loss: 3.91457\n",
      "step: 24000  d-loss: 0.075241  g-loss: 3.86926\n",
      "step: 25000  d-loss: 0.0698555  g-loss: 4.29311\n",
      "step: 26000  d-loss: 0.0382097  g-loss: 3.91874\n",
      "step: 27000  d-loss: 0.0613178  g-loss: 4.16954\n",
      "step: 28000  d-loss: 0.0463338  g-loss: 4.39981\n",
      "step: 29000  d-loss: 0.0398572  g-loss: 4.3157\n",
      "step: 30000  d-loss: 0.0384494  g-loss: 4.24049\n"
     ]
    },
    {
     "data": {
      "image/png": "[encoded data removed]",
      "text/plain": [
       "<matplotlib.figure.Figure at 0x7f00fe2bad90>"
      ]
     },
     "metadata": {},
     "output_type": "display_data"
    }
   ],
   "source": [
    "for step in range(30001):\n",
    "    batch_x = mnist.train.next_batch(batch_size)[0]\n",
    "#     _, d_loss_train = sess.run([d_optimizer, d_loss], feed_dict={x_d: batch_x, x_g: sample_Z(batch_size, g_dim)})\n",
    "    sess.run(d_optimizer, feed_dict={x_d: batch_x, x_g: sample_Z(batch_size, g_dim)})\n",
    "#     _, g_loss_train = sess.run([g_optimizer, g_loss], feed_dict={x_g: sample_Z(batch_size, g_dim)})\n",
    "    sess.run(g_optimizer, feed_dict={x_g: sample_Z(batch_size, g_dim)})\n",
    "    if step%1000==0:\n",
    "        d_loss_train, g_loss_train = sess.run([d_loss, g_loss], feed_dict=\n",
    "                            {x_d: batch_x, x_g: sample_Z(batch_size, g_dim)})\n",
    "        print 'step:', step, ' d-loss:', d_loss_train, ' g-loss:', g_loss_train\n",
    "\n",
    "# zz = sample_Z(batch_size, g_dim)\n",
    "gg = sess.run(g_sample, feed_dict = {x_g: zz})\n",
    "# gg = sess.run(g_sample, feed_dict = {x_g: sample_Z(batch_size, g_dim)})\n",
    "gg_pic = np.array([np.reshape(m,(28,28)) for m in gg])\n",
    "fig, ax = plt.subplots(nrows=3, ncols=3)\n",
    "for i,row in enumerate(ax):\n",
    "    for j,col in enumerate(row):\n",
    "        ax[i][j].imshow(gg_pic[i*3+j], cmap='gray')"
   ]
  },
  {
   "cell_type": "code",
   "execution_count": 23,
   "metadata": {},
   "outputs": [
    {
     "name": "stdout",
     "output_type": "stream",
     "text": [
      "step: 0  d-loss: 0.087572  g-loss: 4.29509\n",
      "step: 1000  d-loss: 0.0345719  g-loss: 4.26346\n",
      "step: 2000  d-loss: 0.0398793  g-loss: 4.1462\n",
      "step: 3000  d-loss: 0.0552988  g-loss: 4.42831\n",
      "step: 4000  d-loss: 0.0756199  g-loss: 4.34833\n",
      "step: 5000  d-loss: 0.0449228  g-loss: 5.7399\n",
      "step: 6000  d-loss: 0.00570509  g-loss: 6.91358\n",
      "step: 7000  d-loss: 0.0164167  g-loss: 6.47334\n",
      "step: 8000  d-loss: 0.0113083  g-loss: 6.39275\n",
      "step: 9000  d-loss: 0.00332021  g-loss: 6.49785\n",
      "step: 10000  d-loss: 0.0149255  g-loss: 6.97596\n",
      "step: 11000  d-loss: 0.0405028  g-loss: 5.56257\n",
      "step: 12000  d-loss: 0.053746  g-loss: 4.97085\n",
      "step: 13000  d-loss: 0.052267  g-loss: 5.74274\n",
      "step: 14000  d-loss: 0.0289243  g-loss: 5.49849\n",
      "step: 15000  d-loss: 0.0365309  g-loss: 5.15188\n",
      "step: 16000  d-loss: 0.0327876  g-loss: 5.86041\n",
      "step: 17000  d-loss: 0.0274843  g-loss: 5.15085\n",
      "step: 18000  d-loss: 0.0264093  g-loss: 5.08312\n",
      "step: 19000  d-loss: 0.0748322  g-loss: 4.39072\n",
      "step: 20000  d-loss: 0.0233844  g-loss: 4.69934\n",
      "step: 21000  d-loss: 0.0697513  g-loss: 4.51078\n",
      "step: 22000  d-loss: 0.0631094  g-loss: 4.51315\n",
      "step: 23000  d-loss: 0.0373229  g-loss: 4.17883\n",
      "step: 24000  d-loss: 0.0375838  g-loss: 4.83488\n",
      "step: 25000  d-loss: 0.0447226  g-loss: 4.22419\n",
      "step: 26000  d-loss: 0.0857061  g-loss: 4.20411\n",
      "step: 27000  d-loss: 0.066562  g-loss: 4.42513\n",
      "step: 28000  d-loss: 0.0539284  g-loss: 4.29918\n",
      "step: 29000  d-loss: 0.0576342  g-loss: 4.53748\n",
      "step: 30000  d-loss: 0.0683348  g-loss: 4.37056\n"
     ]
    },
    {
     "data": {
      "image/png": "[encoded data removed]",
      "text/plain": [
       "<matplotlib.figure.Figure at 0x7f0189ddd210>"
      ]
     },
     "metadata": {},
     "output_type": "display_data"
    }
   ],
   "source": [
    "for step in range(30001):\n",
    "    batch_x = mnist.train.next_batch(batch_size)[0]\n",
    "#     _, d_loss_train = sess.run([d_optimizer, d_loss], feed_dict={x_d: batch_x, x_g: sample_Z(batch_size, g_dim)})\n",
    "    sess.run(d_optimizer, feed_dict={x_d: batch_x, x_g: sample_Z(batch_size, g_dim)})\n",
    "#     _, g_loss_train = sess.run([g_optimizer, g_loss], feed_dict={x_g: sample_Z(batch_size, g_dim)})\n",
    "    sess.run(g_optimizer, feed_dict={x_g: sample_Z(batch_size, g_dim)})\n",
    "    if step%1000==0:\n",
    "        d_loss_train, g_loss_train = sess.run([d_loss, g_loss], feed_dict=\n",
    "                            {x_d: batch_x, x_g: sample_Z(batch_size, g_dim)})\n",
    "        print 'step:', step, ' d-loss:', d_loss_train, ' g-loss:', g_loss_train\n",
    "\n",
    "# zz = sample_Z(batch_size, g_dim)\n",
    "gg = sess.run(g_sample, feed_dict = {x_g: zz})\n",
    "# gg = sess.run(g_sample, feed_dict = {x_g: sample_Z(batch_size, g_dim)})\n",
    "gg_pic = np.array([np.reshape(m,(28,28)) for m in gg])\n",
    "fig, ax = plt.subplots(nrows=3, ncols=3)\n",
    "for i,row in enumerate(ax):\n",
    "    for j,col in enumerate(row):\n",
    "        ax[i][j].imshow(gg_pic[i*3+j], cmap='gray')"
   ]
  },
  {
   "cell_type": "code",
   "execution_count": null,
   "metadata": {},
   "outputs": [],
   "source": []
  }
 ],
 "metadata": {
  "kernelspec": {
   "display_name": "Python 2",
   "language": "python",
   "name": "python2"
  },
  "language_info": {
   "codemirror_mode": {
    "name": "ipython",
    "version": 2
   },
   "file_extension": ".py",
   "mimetype": "text/x-python",
   "name": "python",
   "nbconvert_exporter": "python",
   "pygments_lexer": "ipython2",
   "version": "2.7.12"
  }
 },
 "nbformat": 4,
 "nbformat_minor": 2
}

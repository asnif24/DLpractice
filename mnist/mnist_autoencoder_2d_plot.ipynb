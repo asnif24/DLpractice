{
 "cells": [
  {
   "cell_type": "code",
   "execution_count": 5,
   "metadata": {
    "collapsed": false
   },
   "outputs": [
    {
     "name": "stdout",
     "output_type": "stream",
     "text": [
      "Extracting MNIST_data/train-images-idx3-ubyte.gz\n",
      "Extracting MNIST_data/train-labels-idx1-ubyte.gz\n",
      "Extracting MNIST_data/t10k-images-idx3-ubyte.gz\n",
      "Extracting MNIST_data/t10k-labels-idx1-ubyte.gz\n"
     ]
    }
   ],
   "source": [
    "import tensorflow as tf\n",
    "from tensorflow.examples.tutorials.mnist import input_data\n",
    "import numpy as np\n",
    "import matplotlib.pyplot as plt\n",
    "\n",
    "%matplotlib inline\n",
    "\n",
    "\n",
    "mnist = input_data.read_data_sets(\"MNIST_data/\", one_hot = True)\n",
    "x_train = mnist.train.images\n",
    "y_train = mnist.train.labels\n",
    "x_test = mnist.test.images\n",
    "y_test = mnist.test.labels"
   ]
  },
  {
   "cell_type": "code",
   "execution_count": 8,
   "metadata": {
    "collapsed": false
   },
   "outputs": [],
   "source": [
    "class layer:\n",
    "    def __init__(self, inputs, in_size, out_size, activation_function=None):\n",
    "#         self.W = tf.Variable(tf.zeros([in_size, out_size]))\n",
    "        self.W = tf.Variable(tf.random_normal([in_size, out_size]))\n",
    "        self.b = tf.Variable(tf.zeros([1,out_size]))\n",
    "        self.Wx_plus_b = tf.matmul(inputs, self.W) + self.b\n",
    "#         self.activation_function = activation_function\n",
    "    def output(self, activation_function=None):\n",
    "        if activation_function == None:\n",
    "            result = self.Wx_plus_b\n",
    "        else :\n",
    "            result = activation_function(self.Wx_plus_b)\n",
    "        return result"
   ]
  },
  {
   "cell_type": "code",
   "execution_count": 18,
   "metadata": {
    "collapsed": false
   },
   "outputs": [],
   "source": [
    "xs = tf.placeholder(tf.float32, [None, 784])    #shape=(100,784)\n",
    "ys = tf.placeholder(tf.float32, [None, 10])    #shape=(100,10)\n",
    "\n",
    "# layer1 = layer(x, 784, 100, tf.nn.sigmoid)\n",
    "# layer2 = layer(layer1.output(), 100, 10, tf.nn.softmax)\n",
    "\n",
    "# layer1 = layer(xs, 784, 100)\n",
    "# layer2 = layer(layer1.output(tf.nn.sigmoid), 100, 20)\n",
    "# layer3 = layer(layer2.output(tf.nn.sigmoid), 20, 2)\n",
    "# layer4 = layer(layer3.output(tf.nn.sigmoid), 2, 20)\n",
    "# layer5 = layer(layer4.output(tf.nn.sigmoid), 20, 100)\n",
    "# layer6 = layer(layer5.output(tf.nn.sigmoid), 100, 784)\n",
    "\n",
    "layer1 = layer(xs, 784, 100)\n",
    "layer2 = layer(layer1.output(tf.nn.relu), 100, 20)\n",
    "layer3 = layer(layer2.output(tf.nn.relu), 20, 2)\n",
    "layer4 = layer(layer3.output(tf.nn.relu), 2, 20)\n",
    "layer5 = layer(layer4.output(tf.nn.relu, 20, 100)\n",
    "layer6 = layer(layer5.output(tf.nn.relu), 100, 784)\n",
    "\n",
    "# loss_ae = tf.reduce_mean(tf.nn.sigmoid_cross_entropy_with_logits(labels=xs, logits=layer6.output(tf.nn.sigmoid)))\n",
    "loss_ae = tf.reduce_mean(tf.nn.(labels=xs, logits=layer6.output(tf.nn.relu)))\n",
    "# loss = tf.reduce_mean(tf.nn.softmax_cross_entropy_with_logits(labels=ys, logits=layer2))\n",
    "# loss = tf.reduce_mean(tf.nn.softmax_cross_entropy_with_logits(labels=ys, logits=prediction))\n",
    "\n",
    "# train_step_ae = tf.train.GradientDescentOptimizer(0.5).minimize(loss_ae)\n",
    "train_step_ae = tf.train.RMSPropOptimizer(0.1).minimize(loss_ae)\n",
    "# train_step = tf.train.GradientDescentOptimizer(0.5).minimize(loss)\n",
    "# train_step = tf.train.RMSPropOptimizer(0.01).minimize(loss)\n",
    "# train_step = tf.train.MomentumOptimizer(0.2,0.1).minimize(loss)\n",
    "\n",
    "# correct_prediction = tf.equal(tf.argmax(layer3,1), tf.argmax(ys,1))\n",
    "# accuracy = tf.reduce_mean(tf.cast(correct_prediction, tf.float32))"
   ]
  },
  {
   "cell_type": "code",
   "execution_count": 19,
   "metadata": {
    "collapsed": false
   },
   "outputs": [],
   "source": [
    "init = tf.global_variables_initializer()\n",
    "\n",
    "sess = tf.Session()\n",
    "sess.run(init)\n",
    "\n",
    "batch_size = 100\n",
    "batches = x_train.shape[0]//batch_size\n",
    "index = np.arange(x_train.shape[0])\n",
    "\n"
   ]
  },
  {
   "cell_type": "code",
   "execution_count": 20,
   "metadata": {
    "collapsed": false
   },
   "outputs": [
    {
     "name": "stdout",
     "output_type": "stream",
     "text": [
      "epoch:  0  , loss:  0.648566\n",
      "epoch:  5  , loss:  0.642341\n",
      "epoch:  10  , loss:  0.641463\n",
      "epoch:  15  , loss:  0.638367\n",
      "epoch:  20  , loss:  0.63796\n",
      "epoch:  25  , loss:  0.636245\n",
      "epoch:  30  , loss:  0.636245\n",
      "epoch:  35  , loss:  0.636245\n",
      "epoch:  40  , loss:  0.635367\n",
      "epoch:  45  , loss:  0.634498\n",
      "epoch:  50  , loss:  0.634498\n",
      "[[  1.00086837e-07   7.95501549e-08   1.00000000e+00 ...,   1.05092369e-07\n",
      "    9.26985848e-08   9.71832392e-08]\n",
      " [  1.00010510e-07   7.94341659e-08   1.00000000e+00 ...,   1.05026231e-07\n",
      "    9.27850863e-08   9.72377450e-08]\n",
      " [  1.00249231e-07   7.96862238e-08   1.00000000e+00 ...,   1.05149908e-07\n",
      "    9.26487402e-08   9.70415428e-08]\n",
      " [  1.00052858e-07   7.95443853e-08   1.00000000e+00 ...,   1.05096973e-07\n",
      "    9.26816170e-08   9.72186527e-08]]\n"
     ]
    },
    {
     "data": {
      "image/png": "[encoded data removed]",
      "text/plain": [
       "<matplotlib.figure.Figure at 0x11decb2d0>"
      ]
     },
     "metadata": {},
     "output_type": "display_data"
    }
   ],
   "source": [
    "#Autoencoder\n",
    "for epoch in range(51):    \n",
    "#     np.random.shuffle(index)\n",
    "    for batch in range(batches):\n",
    "        sess.run(train_step_ae, feed_dict={xs: x_train[[index[batch_size*batch:batch_size*(batch+1)]]]})\n",
    "#     sess.run(train_step, feed_dict={xs: x_train[0:100], ys: y_train[0:100]})\n",
    "    \n",
    "    if epoch%5==0:\n",
    "        print \"epoch: \",epoch,\" , loss: \",sess.run(loss_ae, feed_dict={xs: x_train})\n",
    "#         print sess.run(tf.argmax(sess.run(layer1, feed_dict={xs: x_train})[0:50],1))\n",
    "#         print sess.run(tf.argmax(sess.run(prediction, feed_dict={xs: x_train})[0:50],1))\n",
    "#         print sess.run(tf.argmax(sess.run(output2, feed_dict={xs: x_train})[0:50],1))\n",
    "    \n",
    "\n",
    "\n",
    "# x_ae = np.array([np.reshape(m,(28,28)) for m in sess.run(layer6.output(tf.nn.sigmoid), feed_dict={xs:x_train})])\n",
    "x_ae = np.array([np.reshape(m,(28,28)) for m in sess.run(layer6.output(tf.nn.relu), feed_dict={xs:x_train})])\n",
    "print sess.run(layer6.output(tf.nn.sigmoid), feed_dict={xs:x_train})[0:4]\n",
    "fig, ax = plt.subplots(nrows=2, ncols=2)\n",
    "for i,row in enumerate(ax):\n",
    "    for j,col in enumerate(row):\n",
    "        ax[i][j].imshow(x_ae[i*2+j], cmap='gray')"
   ]
  },
  {
   "cell_type": "code",
   "execution_count": 21,
   "metadata": {
    "collapsed": false
   },
   "outputs": [
    {
     "name": "stdout",
     "output_type": "stream",
     "text": [
      "epoch:  0  , loss:  0.634498\n",
      "epoch:  5  , loss:  0.634498\n",
      "epoch:  10  , loss:  0.633655\n",
      "epoch:  15  , loss:  0.633329\n",
      "epoch:  20  , loss:  0.633329\n",
      "epoch:  25  , loss:  0.633329\n",
      "epoch:  30  , loss:  0.633329\n",
      "epoch:  35  , loss:  0.633329\n",
      "epoch:  40  , loss:  0.633329\n",
      "epoch:  45  , loss:  0.633329\n",
      "epoch:  50  , loss:  0.633329\n",
      "epoch:  55  , loss:  0.632865\n",
      "epoch:  60  , loss:  0.632865\n",
      "epoch:  65  , loss:  0.632865\n",
      "epoch:  70  , loss:  0.632865\n",
      "epoch:  75  , loss:  0.632865\n",
      "epoch:  80  , loss:  0.632865\n",
      "epoch:  85  , loss:  0.632865\n",
      "epoch:  90  , loss:  0.632865\n",
      "epoch:  95  , loss:  0.632865\n",
      "epoch:  100  , loss:  0.632865\n",
      "epoch:  105  , loss:  0.632865\n",
      "epoch:  110  , loss:  0.632865\n",
      "epoch:  115  , loss:  0.632865\n",
      "epoch:  120  , loss:  0.632865\n",
      "epoch:  125  , loss:  0.632865\n",
      "epoch:  130  , loss:  0.632865\n",
      "epoch:  135  , loss:  0.632865\n",
      "epoch:  140  , loss:  0.632865\n",
      "epoch:  145  , loss:  0.632865\n",
      "epoch:  150  , loss:  0.632865\n",
      "epoch:  155  , loss:  0.632865\n",
      "epoch:  160  , loss:  0.632865\n",
      "epoch:  165  , loss:  0.632865\n",
      "epoch:  170  , loss:  0.632865\n",
      "epoch:  175  , loss:  0.632865\n",
      "epoch:  180  , loss:  0.632865\n",
      "epoch:  185  , loss:  0.632865\n",
      "epoch:  190  , loss:  0.632865\n",
      "epoch:  195  , loss:  0.632865\n",
      "epoch:  200  , loss:  0.632865\n",
      "epoch:  205  , loss:  0.632865\n",
      "epoch:  210  , loss:  0.632865\n",
      "epoch:  215  , loss:  0.632865\n",
      "epoch:  220  , loss:  0.632865\n",
      "epoch:  225  , loss:  0.632865\n",
      "epoch:  230  , loss:  0.632865\n",
      "epoch:  235  , loss:  0.632865\n"
     ]
    },
    {
     "ename": "KeyboardInterrupt",
     "evalue": "",
     "output_type": "error",
     "traceback": [
      "\u001b[0;31m---------------------------------------------------------------------------\u001b[0m",
      "\u001b[0;31mKeyboardInterrupt\u001b[0m                         Traceback (most recent call last)",
      "\u001b[0;32m<ipython-input-21-db1d02829cab>\u001b[0m in \u001b[0;36m<module>\u001b[0;34m()\u001b[0m\n\u001b[1;32m      3\u001b[0m \u001b[0;31m#     np.random.shuffle(index)\u001b[0m\u001b[0;34m\u001b[0m\u001b[0;34m\u001b[0m\u001b[0m\n\u001b[1;32m      4\u001b[0m     \u001b[0;32mfor\u001b[0m \u001b[0mbatch\u001b[0m \u001b[0;32min\u001b[0m \u001b[0mrange\u001b[0m\u001b[0;34m(\u001b[0m\u001b[0mbatches\u001b[0m\u001b[0;34m)\u001b[0m\u001b[0;34m:\u001b[0m\u001b[0;34m\u001b[0m\u001b[0m\n\u001b[0;32m----> 5\u001b[0;31m         \u001b[0msess\u001b[0m\u001b[0;34m.\u001b[0m\u001b[0mrun\u001b[0m\u001b[0;34m(\u001b[0m\u001b[0mtrain_step_ae\u001b[0m\u001b[0;34m,\u001b[0m \u001b[0mfeed_dict\u001b[0m\u001b[0;34m=\u001b[0m\u001b[0;34m{\u001b[0m\u001b[0mxs\u001b[0m\u001b[0;34m:\u001b[0m \u001b[0mx_train\u001b[0m\u001b[0;34m[\u001b[0m\u001b[0;34m[\u001b[0m\u001b[0mindex\u001b[0m\u001b[0;34m[\u001b[0m\u001b[0mbatch_size\u001b[0m\u001b[0;34m*\u001b[0m\u001b[0mbatch\u001b[0m\u001b[0;34m:\u001b[0m\u001b[0mbatch_size\u001b[0m\u001b[0;34m*\u001b[0m\u001b[0;34m(\u001b[0m\u001b[0mbatch\u001b[0m\u001b[0;34m+\u001b[0m\u001b[0;36m1\u001b[0m\u001b[0;34m)\u001b[0m\u001b[0;34m]\u001b[0m\u001b[0;34m]\u001b[0m\u001b[0;34m]\u001b[0m\u001b[0;34m}\u001b[0m\u001b[0;34m)\u001b[0m\u001b[0;34m\u001b[0m\u001b[0m\n\u001b[0m\u001b[1;32m      6\u001b[0m \u001b[0;31m#     sess.run(train_step, feed_dict={xs: x_train[0:100], ys: y_train[0:100]})\u001b[0m\u001b[0;34m\u001b[0m\u001b[0;34m\u001b[0m\u001b[0m\n\u001b[1;32m      7\u001b[0m \u001b[0;34m\u001b[0m\u001b[0m\n",
      "\u001b[0;32m/Users/htlin/anaconda/lib/python2.7/site-packages/tensorflow/python/client/session.pyc\u001b[0m in \u001b[0;36mrun\u001b[0;34m(self, fetches, feed_dict, options, run_metadata)\u001b[0m\n\u001b[1;32m    887\u001b[0m     \u001b[0;32mtry\u001b[0m\u001b[0;34m:\u001b[0m\u001b[0;34m\u001b[0m\u001b[0m\n\u001b[1;32m    888\u001b[0m       result = self._run(None, fetches, feed_dict, options_ptr,\n\u001b[0;32m--> 889\u001b[0;31m                          run_metadata_ptr)\n\u001b[0m\u001b[1;32m    890\u001b[0m       \u001b[0;32mif\u001b[0m \u001b[0mrun_metadata\u001b[0m\u001b[0;34m:\u001b[0m\u001b[0;34m\u001b[0m\u001b[0m\n\u001b[1;32m    891\u001b[0m         \u001b[0mproto_data\u001b[0m \u001b[0;34m=\u001b[0m \u001b[0mtf_session\u001b[0m\u001b[0;34m.\u001b[0m\u001b[0mTF_GetBuffer\u001b[0m\u001b[0;34m(\u001b[0m\u001b[0mrun_metadata_ptr\u001b[0m\u001b[0;34m)\u001b[0m\u001b[0;34m\u001b[0m\u001b[0m\n",
      "\u001b[0;32m/Users/htlin/anaconda/lib/python2.7/site-packages/tensorflow/python/client/session.pyc\u001b[0m in \u001b[0;36m_run\u001b[0;34m(self, handle, fetches, feed_dict, options, run_metadata)\u001b[0m\n\u001b[1;32m   1118\u001b[0m     \u001b[0;32mif\u001b[0m \u001b[0mfinal_fetches\u001b[0m \u001b[0;32mor\u001b[0m \u001b[0mfinal_targets\u001b[0m \u001b[0;32mor\u001b[0m \u001b[0;34m(\u001b[0m\u001b[0mhandle\u001b[0m \u001b[0;32mand\u001b[0m \u001b[0mfeed_dict_tensor\u001b[0m\u001b[0;34m)\u001b[0m\u001b[0;34m:\u001b[0m\u001b[0;34m\u001b[0m\u001b[0m\n\u001b[1;32m   1119\u001b[0m       results = self._do_run(handle, final_targets, final_fetches,\n\u001b[0;32m-> 1120\u001b[0;31m                              feed_dict_tensor, options, run_metadata)\n\u001b[0m\u001b[1;32m   1121\u001b[0m     \u001b[0;32melse\u001b[0m\u001b[0;34m:\u001b[0m\u001b[0;34m\u001b[0m\u001b[0m\n\u001b[1;32m   1122\u001b[0m       \u001b[0mresults\u001b[0m \u001b[0;34m=\u001b[0m \u001b[0;34m[\u001b[0m\u001b[0;34m]\u001b[0m\u001b[0;34m\u001b[0m\u001b[0m\n",
      "\u001b[0;32m/Users/htlin/anaconda/lib/python2.7/site-packages/tensorflow/python/client/session.pyc\u001b[0m in \u001b[0;36m_do_run\u001b[0;34m(self, handle, target_list, fetch_list, feed_dict, options, run_metadata)\u001b[0m\n\u001b[1;32m   1315\u001b[0m     \u001b[0;32mif\u001b[0m \u001b[0mhandle\u001b[0m \u001b[0;32mis\u001b[0m \u001b[0mNone\u001b[0m\u001b[0;34m:\u001b[0m\u001b[0;34m\u001b[0m\u001b[0m\n\u001b[1;32m   1316\u001b[0m       return self._do_call(_run_fn, self._session, feeds, fetches, targets,\n\u001b[0;32m-> 1317\u001b[0;31m                            options, run_metadata)\n\u001b[0m\u001b[1;32m   1318\u001b[0m     \u001b[0;32melse\u001b[0m\u001b[0;34m:\u001b[0m\u001b[0;34m\u001b[0m\u001b[0m\n\u001b[1;32m   1319\u001b[0m       \u001b[0;32mreturn\u001b[0m \u001b[0mself\u001b[0m\u001b[0;34m.\u001b[0m\u001b[0m_do_call\u001b[0m\u001b[0;34m(\u001b[0m\u001b[0m_prun_fn\u001b[0m\u001b[0;34m,\u001b[0m \u001b[0mself\u001b[0m\u001b[0;34m.\u001b[0m\u001b[0m_session\u001b[0m\u001b[0;34m,\u001b[0m \u001b[0mhandle\u001b[0m\u001b[0;34m,\u001b[0m \u001b[0mfeeds\u001b[0m\u001b[0;34m,\u001b[0m \u001b[0mfetches\u001b[0m\u001b[0;34m)\u001b[0m\u001b[0;34m\u001b[0m\u001b[0m\n",
      "\u001b[0;32m/Users/htlin/anaconda/lib/python2.7/site-packages/tensorflow/python/client/session.pyc\u001b[0m in \u001b[0;36m_do_call\u001b[0;34m(self, fn, *args)\u001b[0m\n\u001b[1;32m   1321\u001b[0m   \u001b[0;32mdef\u001b[0m \u001b[0m_do_call\u001b[0m\u001b[0;34m(\u001b[0m\u001b[0mself\u001b[0m\u001b[0;34m,\u001b[0m \u001b[0mfn\u001b[0m\u001b[0;34m,\u001b[0m \u001b[0;34m*\u001b[0m\u001b[0margs\u001b[0m\u001b[0;34m)\u001b[0m\u001b[0;34m:\u001b[0m\u001b[0;34m\u001b[0m\u001b[0m\n\u001b[1;32m   1322\u001b[0m     \u001b[0;32mtry\u001b[0m\u001b[0;34m:\u001b[0m\u001b[0;34m\u001b[0m\u001b[0m\n\u001b[0;32m-> 1323\u001b[0;31m       \u001b[0;32mreturn\u001b[0m \u001b[0mfn\u001b[0m\u001b[0;34m(\u001b[0m\u001b[0;34m*\u001b[0m\u001b[0margs\u001b[0m\u001b[0;34m)\u001b[0m\u001b[0;34m\u001b[0m\u001b[0m\n\u001b[0m\u001b[1;32m   1324\u001b[0m     \u001b[0;32mexcept\u001b[0m \u001b[0merrors\u001b[0m\u001b[0;34m.\u001b[0m\u001b[0mOpError\u001b[0m \u001b[0;32mas\u001b[0m \u001b[0me\u001b[0m\u001b[0;34m:\u001b[0m\u001b[0;34m\u001b[0m\u001b[0m\n\u001b[1;32m   1325\u001b[0m       \u001b[0mmessage\u001b[0m \u001b[0;34m=\u001b[0m \u001b[0mcompat\u001b[0m\u001b[0;34m.\u001b[0m\u001b[0mas_text\u001b[0m\u001b[0;34m(\u001b[0m\u001b[0me\u001b[0m\u001b[0;34m.\u001b[0m\u001b[0mmessage\u001b[0m\u001b[0;34m)\u001b[0m\u001b[0;34m\u001b[0m\u001b[0m\n",
      "\u001b[0;32m/Users/htlin/anaconda/lib/python2.7/site-packages/tensorflow/python/client/session.pyc\u001b[0m in \u001b[0;36m_run_fn\u001b[0;34m(session, feed_dict, fetch_list, target_list, options, run_metadata)\u001b[0m\n\u001b[1;32m   1300\u001b[0m           return tf_session.TF_Run(session, options,\n\u001b[1;32m   1301\u001b[0m                                    \u001b[0mfeed_dict\u001b[0m\u001b[0;34m,\u001b[0m \u001b[0mfetch_list\u001b[0m\u001b[0;34m,\u001b[0m \u001b[0mtarget_list\u001b[0m\u001b[0;34m,\u001b[0m\u001b[0;34m\u001b[0m\u001b[0m\n\u001b[0;32m-> 1302\u001b[0;31m                                    status, run_metadata)\n\u001b[0m\u001b[1;32m   1303\u001b[0m \u001b[0;34m\u001b[0m\u001b[0m\n\u001b[1;32m   1304\u001b[0m     \u001b[0;32mdef\u001b[0m \u001b[0m_prun_fn\u001b[0m\u001b[0;34m(\u001b[0m\u001b[0msession\u001b[0m\u001b[0;34m,\u001b[0m \u001b[0mhandle\u001b[0m\u001b[0;34m,\u001b[0m \u001b[0mfeed_dict\u001b[0m\u001b[0;34m,\u001b[0m \u001b[0mfetch_list\u001b[0m\u001b[0;34m)\u001b[0m\u001b[0;34m:\u001b[0m\u001b[0;34m\u001b[0m\u001b[0m\n",
      "\u001b[0;31mKeyboardInterrupt\u001b[0m: "
     ]
    }
   ],
   "source": [
    "#Autoencoder\n",
    "for epoch in range(301):    \n",
    "#     np.random.shuffle(index)\n",
    "    for batch in range(batches):\n",
    "        sess.run(train_step_ae, feed_dict={xs: x_train[[index[batch_size*batch:batch_size*(batch+1)]]]})\n",
    "#     sess.run(train_step, feed_dict={xs: x_train[0:100], ys: y_train[0:100]})\n",
    "    \n",
    "    if epoch%5==0:\n",
    "        print \"epoch: \",epoch,\" , loss: \",sess.run(loss_ae, feed_dict={xs: x_train})\n",
    "#         print sess.run(tf.argmax(sess.run(layer1, feed_dict={xs: x_train})[0:50],1))\n",
    "#         print sess.run(tf.argmax(sess.run(prediction, feed_dict={xs: x_train})[0:50],1))\n",
    "#         print sess.run(tf.argmax(sess.run(output2, feed_dict={xs: x_train})[0:50],1))\n",
    "    \n",
    "\n",
    "\n",
    "x_ae = np.array([np.reshape(m,(28,28)) for m in sess.run(layer6.output(tf.nn.sigmoid), feed_dict={xs:x_train})])\n",
    "print sess.run(layer6.output(tf.nn.sigmoid), feed_dict={xs:x_train})[0:4]\n",
    "fig, ax = plt.subplots(nrows=2, ncols=2)\n",
    "for i,row in enumerate(ax):\n",
    "    for j,col in enumerate(row):\n",
    "        ax[i][j].imshow(x_ae[i*2+j], cmap='gray')"
   ]
  },
  {
   "cell_type": "code",
   "execution_count": null,
   "metadata": {
    "collapsed": true
   },
   "outputs": [],
   "source": [
    "nums_scatter = sess.run(layer3.output(tf.nn.sigmoid), feed_dict={xs:x_train})\n",
    "for i in nums_scatter:\n",
    "    plt.scatter(i[0], i[1], c=y_tray_trainininalpha=.5)"
   ]
  },
  {
   "cell_type": "code",
   "execution_count": null,
   "metadata": {
    "collapsed": true
   },
   "outputs": [],
   "source": []
  }
 ],
 "metadata": {
  "kernelspec": {
   "display_name": "Python 2",
   "language": "python",
   "name": "python2"
  },
  "language_info": {
   "codemirror_mode": {
    "name": "ipython",
    "version": 2
   },
   "file_extension": ".py",
   "mimetype": "text/x-python",
   "name": "python",
   "nbconvert_exporter": "python",
   "pygments_lexer": "ipython2",
   "version": "2.7.13"
  }
 },
 "nbformat": 4,
 "nbformat_minor": 2
}

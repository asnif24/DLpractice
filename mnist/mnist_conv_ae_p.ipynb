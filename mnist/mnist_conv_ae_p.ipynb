{
 "cells": [
  {
   "cell_type": "code",
   "execution_count": 1,
   "metadata": {},
   "outputs": [],
   "source": [
    "import tensorflow as tf\n",
    "from tensorflow.examples.tutorials.mnist import input_data\n",
    "import numpy as np\n",
    "import matplotlib.pyplot as plt\n",
    "\n",
    "%matplotlib inline"
   ]
  },
  {
   "cell_type": "code",
   "execution_count": 2,
   "metadata": {},
   "outputs": [
    {
     "name": "stdout",
     "output_type": "stream",
     "text": [
      "Extracting MNIST_data/train-images-idx3-ubyte.gz\n",
      "Extracting MNIST_data/train-labels-idx1-ubyte.gz\n",
      "Extracting MNIST_data/t10k-images-idx3-ubyte.gz\n",
      "Extracting MNIST_data/t10k-labels-idx1-ubyte.gz\n"
     ]
    }
   ],
   "source": [
    "mnist = input_data.read_data_sets(\"MNIST_data/\", one_hot = True)\n",
    "x_train = mnist.train.images\n",
    "y_train = mnist.train.labels\n",
    "x_test = mnist.test.images\n",
    "y_test = mnist.test.labels"
   ]
  },
  {
   "cell_type": "code",
   "execution_count": 3,
   "metadata": {},
   "outputs": [],
   "source": [
    "def conv2d(x, W):\n",
    "    return tf.nn.conv2d(x, W, strides=[1,1,1,1], padding='SAME')\n",
    "    \n",
    "def deconv2d(x, W, output_shape):\n",
    "    return tf.nn.conv2d_transpose(x, W, output_shape, strides=[1,1,1,1], padding='SAME')\n",
    "\n",
    "def weight_variable(shape):\n",
    "    initial = tf.random_normal(shape, mean=0.0, stddev=0.01)\n",
    "    return tf.Variable(initial)\n",
    "\n",
    "def bias_variable(shape):\n",
    "    initial = tf.random_normal(shape, mean=0.0, stddev=0.01)\n",
    "    return tf.Variable(initial)\n",
    "\n",
    "def max_unpool_2x2(x, output_shape):\n",
    "    out = tf.concat([x, tf.zeros_like(x)], 3)\n",
    "    out = tf.concat([out, tf.zeros_like(out)], 2)\n",
    "    out_size = output_shape\n",
    "    return tf.reshape(out, out_size)\n",
    "\n",
    "def max_pool_2x2(x):\n",
    "    _, argmax = tf.nn.max_pool_with_argmax(x, ksize=[1,2,2,1], strides=[1,2,2,1], padding = 'SAME')\n",
    "    pool = tf.nn.max_pool(x, ksize = [1, 2, 2, 1], strides = [1, 2, 2, 1], padding = 'SAME')\n",
    "    return pool, argmax"
   ]
  },
  {
   "cell_type": "code",
   "execution_count": 24,
   "metadata": {},
   "outputs": [
    {
     "name": "stdout",
     "output_type": "stream",
     "text": [
      "reconstruct layer shape : (?, 28, 28, 1)\n"
     ]
    }
   ],
   "source": [
    "tf.reset_default_graph()\n",
    "x = tf.placeholder(tf.float32, shape = [None, 784])\n",
    "x_origin = tf.reshape(x, [-1,28,28,1])\n",
    "\n",
    "\n",
    "W_e_conv1 = weight_variable([5,5,1,16])\n",
    "b_e_conv1 = bias_variable([16])\n",
    "h_e_conv1 = tf.nn.relu(tf.add(conv2d(x_origin, W_e_conv1), b_e_conv1))\n",
    "h_e_pool1, argmax_e_pool1 = max_pool_2x2(h_e_conv1)\n",
    "\n",
    "# print max_pool_2x2(h_e_conv1)\n",
    "\n",
    "W_e_conv2 = weight_variable([5,5,16,32])\n",
    "b_e_conv2 = bias_variable([32])\n",
    "h_e_conv2 = tf.nn.relu(tf.add(conv2d(h_e_pool1, W_e_conv2), b_e_conv2))\n",
    "h_e_pool2, argmax_e_pool2 = max_pool_2x2(h_e_conv2)\n",
    "\n",
    "\n",
    "# code_layer = argmax_e_pool2\n",
    "# print(\"code layer shape : %s\" % h_e_pool2.get_shape())\n",
    "\n",
    "W_d_conv1 = weight_variable([5,5,16,32])\n",
    "b_d_conv1 = bias_variable([16])\n",
    "output_shape_d_pool1 = tf.stack([tf.shape(x)[0], 14, 14, 32])\n",
    "h_d_pool1 = max_unpool_2x2(h_e_pool2, output_shape_d_pool1)\n",
    "output_shape_d_conv1 = tf.stack([tf.shape(x)[0], 14, 14, 16])\n",
    "h_d_conv1 = tf.nn.relu(deconv2d(h_d_pool1, W_d_conv1, output_shape_d_conv1)+b_d_conv1)\n",
    "\n",
    "\n",
    "# print max_unpool_2x2(h_d_conv1, output_shape_d_pool1)\n",
    "\n",
    "W_d_conv2 = weight_variable([5, 5, 1, 16])\n",
    "b_d_conv2 = bias_variable([1])\n",
    "output_shape_d_pool2 = tf.stack([tf.shape(x)[0], 28, 28, 16])\n",
    "h_d_pool2 = max_unpool_2x2(h_d_conv1, output_shape_d_pool2)\n",
    "output_shape_d_conv2 = tf.stack([tf.shape(x)[0], 28, 28, 1])\n",
    "h_d_conv2 = tf.nn.relu(deconv2d(h_d_pool2, W_d_conv2, output_shape_d_conv2)+b_d_conv2)\n",
    "\n",
    "\n",
    "# print max_unpool_2x2(h_d_conv2, output_shape_d_pool2)\n",
    "\n",
    "x_reconstruct = h_d_conv2\n",
    "print(\"reconstruct layer shape : %s\" % x_reconstruct.get_shape())"
   ]
  },
  {
   "cell_type": "code",
   "execution_count": 31,
   "metadata": {},
   "outputs": [],
   "source": [
    "loss = tf.reduce_mean(tf.pow(x_reconstruct - x_origin, 2))\n",
    "train_step = tf.train.AdamOptimizer(0.000001).minimize(loss)"
   ]
  },
  {
   "cell_type": "code",
   "execution_count": 32,
   "metadata": {},
   "outputs": [],
   "source": [
    "init = tf.global_variables_initializer()\n",
    "\n",
    "sess = tf.Session()\n",
    "sess.run(init)\n",
    "\n",
    "batch_size = 100\n",
    "batches = x_train.shape[0]//batch_size\n",
    "index = np.arange(x_train.shape[0])\n",
    "\n"
   ]
  },
  {
   "cell_type": "code",
   "execution_count": 33,
   "metadata": {},
   "outputs": [
    {
     "name": "stdout",
     "output_type": "stream",
     "text": [
      "epoch:  0  , loss:  0.111946\n",
      "epoch:  10  , loss:  0.0862802\n",
      "epoch:  20  , loss:  0.0748551\n",
      "epoch:  30  , loss:  0.0676719\n",
      "epoch:  40  , loss:  0.0608278\n",
      "epoch:  50  , loss:  0.0545879\n",
      "epoch:  60  , loss:  0.0500858\n",
      "epoch:  70  , loss:  0.0472011\n",
      "epoch:  80  , loss:  0.045011\n",
      "epoch:  90  , loss:  0.0431164\n",
      "epoch:  100  , loss:  0.0414787\n"
     ]
    },
    {
     "data": {
      "image/png": "[encoded data removed]",
      "text/plain": [
       "<matplotlib.figure.Figure at 0x7fcf704a2210>"
      ]
     },
     "metadata": {},
     "output_type": "display_data"
    }
   ],
   "source": [
    "#Autoencoder\n",
    "for epoch in range(101):    \n",
    "#     np.random.shuffle(index)\n",
    "    for batch in range(batches):\n",
    "        sess.run(train_step, feed_dict={x: x_train[[index[batch_size*batch:batch_size*(batch+1)]]]})\n",
    "#     sess.run(train_step, feed_dict={xs: x_train[0:100], ys: y_train[0:100]})\n",
    "    \n",
    "    if epoch%10==0:\n",
    "        print \"epoch: \",epoch,\" , loss: \",sess.run(loss, feed_dict={x: x_train})\n",
    "#         print sess.run(tf.argmax(sess.run(layer1, feed_dict={xs: x_train})[0:50],1))\n",
    "#         print sess.run(tf.argmax(sess.run(prediction, feed_dict={xs: x_train})[0:50],1))\n",
    "#         print sess.run(tf.argmax(sess.run(output2, feed_dict={xs: x_train})[0:50],1))\n",
    "    \n",
    "\n",
    "\n",
    "x_ae = np.array([np.reshape(m,(28,28)) for m in sess.run(x_reconstruct, feed_dict={x:x_train})])\n",
    "x_train2 = np.array([np.reshape(m,(28,28)) for m in x_train])\n",
    "\n",
    "fig, ax = plt.subplots(nrows=2, ncols=6)\n",
    "\n",
    "for i0 in range(len(ax[0])):\n",
    "    ax[0][i0].imshow(x_train2[i0], cmap='gray')\n",
    "for i1 in range(len(ax[1])):\n",
    "    ax[1][i1].imshow(x_ae[i1], cmap='gray')"
   ]
  },
  {
   "cell_type": "code",
   "execution_count": 34,
   "metadata": {},
   "outputs": [
    {
     "name": "stdout",
     "output_type": "stream",
     "text": [
      "epoch:  0  , loss:  0.0413301\n",
      "epoch:  10  , loss:  0.0400034\n",
      "epoch:  20  , loss:  0.0389291\n",
      "epoch:  30  , loss:  0.038055\n",
      "epoch:  40  , loss:  0.0373354\n",
      "epoch:  50  , loss:  0.0367285\n",
      "epoch:  60  , loss:  0.0362141\n",
      "epoch:  70  , loss:  0.0357695\n",
      "epoch:  80  , loss:  0.0353831\n",
      "epoch:  90  , loss:  0.0350456\n",
      "epoch:  100  , loss:  0.034749\n",
      "epoch:  110  , loss:  0.0344857\n",
      "epoch:  120  , loss:  0.0342497\n",
      "epoch:  130  , loss:  0.0340358\n",
      "epoch:  140  , loss:  0.0338403\n",
      "epoch:  150  , loss:  0.0336606\n",
      "epoch:  160  , loss:  0.0334949\n",
      "epoch:  170  , loss:  0.0333416\n",
      "epoch:  180  , loss:  0.0331997\n",
      "epoch:  190  , loss:  0.033068\n",
      "epoch:  200  , loss:  0.0329459\n"
     ]
    },
    {
     "data": {
      "image/png": "[encoded data removed]",
      "text/plain": [
       "<matplotlib.figure.Figure at 0x7fcfd6508610>"
      ]
     },
     "metadata": {},
     "output_type": "display_data"
    }
   ],
   "source": [
    "#Autoencoder\n",
    "for epoch in range(201):    \n",
    "#     np.random.shuffle(index)\n",
    "    for batch in range(batches):\n",
    "        sess.run(train_step, feed_dict={x: x_train[[index[batch_size*batch:batch_size*(batch+1)]]]})\n",
    "#     sess.run(train_step, feed_dict={xs: x_train[0:100], ys: y_train[0:100]})\n",
    "    \n",
    "    if epoch%10==0:\n",
    "        print \"epoch: \",epoch,\" , loss: \",sess.run(loss, feed_dict={x: x_train})\n",
    "#         print sess.run(tf.argmax(sess.run(layer1, feed_dict={xs: x_train})[0:50],1))\n",
    "#         print sess.run(tf.argmax(sess.run(prediction, feed_dict={xs: x_train})[0:50],1))\n",
    "#         print sess.run(tf.argmax(sess.run(output2, feed_dict={xs: x_train})[0:50],1))\n",
    "    \n",
    "\n",
    "\n",
    "x_ae = np.array([np.reshape(m,(28,28)) for m in sess.run(x_reconstruct, feed_dict={x:x_train})])\n",
    "x_train2 = np.array([np.reshape(m,(28,28)) for m in x_train])\n",
    "\n",
    "fig, ax = plt.subplots(nrows=2, ncols=6)\n",
    "\n",
    "for i0 in range(len(ax[0])):\n",
    "    ax[0][i0].imshow(x_train2[i0], cmap='gray')\n",
    "for i1 in range(len(ax[1])):\n",
    "    ax[1][i1].imshow(x_ae[i1], cmap='gray')"
   ]
  },
  {
   "cell_type": "code",
   "execution_count": 35,
   "metadata": {},
   "outputs": [
    {
     "name": "stdout",
     "output_type": "stream",
     "text": [
      "epoch:  0  , loss:  0.0329342\n",
      "epoch:  10  , loss:  0.0328214\n",
      "epoch:  20  , loss:  0.0327161\n",
      "epoch:  30  , loss:  0.0326176\n",
      "epoch:  40  , loss:  0.0325254\n",
      "epoch:  50  , loss:  0.0324387\n",
      "epoch:  60  , loss:  0.0323557\n",
      "epoch:  70  , loss:  0.0322781\n",
      "epoch:  80  , loss:  0.032205\n",
      "epoch:  90  , loss:  0.0321357\n",
      "epoch:  100  , loss:  0.03207\n",
      "epoch:  110  , loss:  0.032006\n",
      "epoch:  120  , loss:  0.031945\n",
      "epoch:  130  , loss:  0.031887\n",
      "epoch:  140  , loss:  0.0318314\n",
      "epoch:  150  , loss:  0.0317782\n",
      "epoch:  160  , loss:  0.031727\n",
      "epoch:  170  , loss:  0.0316779\n",
      "epoch:  180  , loss:  0.0316307\n",
      "epoch:  190  , loss:  0.0315852\n",
      "epoch:  200  , loss:  0.0315415\n",
      "epoch:  210  , loss:  0.0314993\n",
      "epoch:  220  , loss:  0.0314587\n",
      "epoch:  230  , loss:  0.0314195\n",
      "epoch:  240  , loss:  0.0313818\n",
      "epoch:  250  , loss:  0.0313454\n",
      "epoch:  260  , loss:  0.0313103\n",
      "epoch:  270  , loss:  0.0312764\n",
      "epoch:  280  , loss:  0.0312437\n",
      "epoch:  290  , loss:  0.031212\n",
      "epoch:  300  , loss:  0.0311813\n"
     ]
    },
    {
     "data": {
      "image/png": "[encoded data removed]",
      "text/plain": [
       "<matplotlib.figure.Figure at 0x7fcf7029b210>"
      ]
     },
     "metadata": {},
     "output_type": "display_data"
    }
   ],
   "source": [
    "#Autoencoder\n",
    "for epoch in range(301):    \n",
    "#     np.random.shuffle(index)\n",
    "    for batch in range(batches):\n",
    "        sess.run(train_step, feed_dict={x: x_train[[index[batch_size*batch:batch_size*(batch+1)]]]})\n",
    "#     sess.run(train_step, feed_dict={xs: x_train[0:100], ys: y_train[0:100]})\n",
    "    \n",
    "    if epoch%10==0:\n",
    "        print \"epoch: \",epoch,\" , loss: \",sess.run(loss, feed_dict={x: x_train})\n",
    "#         print sess.run(tf.argmax(sess.run(layer1, feed_dict={xs: x_train})[0:50],1))\n",
    "#         print sess.run(tf.argmax(sess.run(prediction, feed_dict={xs: x_train})[0:50],1))\n",
    "#         print sess.run(tf.argmax(sess.run(output2, feed_dict={xs: x_train})[0:50],1))\n",
    "    \n",
    "\n",
    "\n",
    "x_ae = np.array([np.reshape(m,(28,28)) for m in sess.run(x_reconstruct, feed_dict={x:x_train})])\n",
    "x_train2 = np.array([np.reshape(m,(28,28)) for m in x_train])\n",
    "\n",
    "fig, ax = plt.subplots(nrows=2, ncols=6)\n",
    "\n",
    "for i0 in range(len(ax[0])):\n",
    "    ax[0][i0].imshow(x_train2[i0], cmap='gray')\n",
    "for i1 in range(len(ax[1])):\n",
    "    ax[1][i1].imshow(x_ae[i1], cmap='gray')"
   ]
  },
  {
   "cell_type": "code",
   "execution_count": 36,
   "metadata": {},
   "outputs": [
    {
     "name": "stdout",
     "output_type": "stream",
     "text": [
      "epoch:  0  , loss:  0.0311782\n",
      "epoch:  10  , loss:  0.0311486\n",
      "epoch:  20  , loss:  0.0311199\n",
      "epoch:  30  , loss:  0.0310922\n",
      "epoch:  40  , loss:  0.0310654\n",
      "epoch:  50  , loss:  0.0310393\n",
      "epoch:  60  , loss:  0.0310141\n",
      "epoch:  70  , loss:  0.0309895\n",
      "epoch:  80  , loss:  0.0309657\n",
      "epoch:  90  , loss:  0.0309425\n",
      "epoch:  100  , loss:  0.03092\n",
      "epoch:  110  , loss:  0.0308981\n",
      "epoch:  120  , loss:  0.0308768\n",
      "epoch:  130  , loss:  0.030856\n",
      "epoch:  140  , loss:  0.0308358\n",
      "epoch:  150  , loss:  0.0308161\n",
      "epoch:  160  , loss:  0.0307969\n",
      "epoch:  170  , loss:  0.0307782\n",
      "epoch:  180  , loss:  0.0307599\n",
      "epoch:  190  , loss:  0.030742\n",
      "epoch:  200  , loss:  0.0307246\n"
     ]
    },
    {
     "data": {
      "image/png": "[encoded data removed]",
      "text/plain": [
       "<matplotlib.figure.Figure at 0x7fcf7029b1d0>"
      ]
     },
     "metadata": {},
     "output_type": "display_data"
    }
   ],
   "source": [
    "#Autoencoder\n",
    "for epoch in range(201):    \n",
    "#     np.random.shuffle(index)\n",
    "    for batch in range(batches):\n",
    "        sess.run(train_step, feed_dict={x: x_train[[index[batch_size*batch:batch_size*(batch+1)]]]})\n",
    "#     sess.run(train_step, feed_dict={xs: x_train[0:100], ys: y_train[0:100]})\n",
    "    \n",
    "    if epoch%10==0:\n",
    "        print \"epoch: \",epoch,\" , loss: \",sess.run(loss, feed_dict={x: x_train})\n",
    "#         print sess.run(tf.argmax(sess.run(layer1, feed_dict={xs: x_train})[0:50],1))\n",
    "#         print sess.run(tf.argmax(sess.run(prediction, feed_dict={xs: x_train})[0:50],1))\n",
    "#         print sess.run(tf.argmax(sess.run(output2, feed_dict={xs: x_train})[0:50],1))\n",
    "    \n",
    "\n",
    "\n",
    "x_ae = np.array([np.reshape(m,(28,28)) for m in sess.run(x_reconstruct, feed_dict={x:x_train})])\n",
    "x_train2 = np.array([np.reshape(m,(28,28)) for m in x_train])\n",
    "\n",
    "fig, ax = plt.subplots(nrows=2, ncols=6)\n",
    "\n",
    "for i0 in range(len(ax[0])):\n",
    "    ax[0][i0].imshow(x_train2[i0], cmap='gray')\n",
    "for i1 in range(len(ax[1])):\n",
    "    ax[1][i1].imshow(x_ae[i1], cmap='gray')"
   ]
  },
  {
   "cell_type": "code",
   "execution_count": 37,
   "metadata": {},
   "outputs": [
    {
     "name": "stdout",
     "output_type": "stream",
     "text": [
      "epoch:  0  , loss:  0.0307229\n",
      "epoch:  10  , loss:  0.0307059\n",
      "epoch:  20  , loss:  0.0306892\n",
      "epoch:  30  , loss:  0.030673\n",
      "epoch:  40  , loss:  0.0306571\n",
      "epoch:  50  , loss:  0.0306415\n",
      "epoch:  60  , loss:  0.0306262\n",
      "epoch:  70  , loss:  0.0306113\n",
      "epoch:  80  , loss:  0.0305966\n",
      "epoch:  90  , loss:  0.0305822\n",
      "epoch:  100  , loss:  0.0305681\n",
      "epoch:  110  , loss:  0.0305543\n",
      "epoch:  120  , loss:  0.0305407\n",
      "epoch:  130  , loss:  0.0305274\n",
      "epoch:  140  , loss:  0.0305142\n",
      "epoch:  150  , loss:  0.0305014\n",
      "epoch:  160  , loss:  0.0304887\n",
      "epoch:  170  , loss:  0.0304762\n",
      "epoch:  180  , loss:  0.0304639\n",
      "epoch:  190  , loss:  0.0304519\n",
      "epoch:  200  , loss:  0.03044\n",
      "epoch:  210  , loss:  0.0304283\n",
      "epoch:  220  , loss:  0.0304168\n",
      "epoch:  230  , loss:  0.0304054\n",
      "epoch:  240  , loss:  0.0303942\n",
      "epoch:  250  , loss:  0.0303832\n",
      "epoch:  260  , loss:  0.0303724\n",
      "epoch:  270  , loss:  0.0303617\n",
      "epoch:  280  , loss:  0.0303512\n",
      "epoch:  290  , loss:  0.0303408\n",
      "epoch:  300  , loss:  0.0303306\n",
      "epoch:  310  , loss:  0.0303205\n",
      "epoch:  320  , loss:  0.0303105\n",
      "epoch:  330  , loss:  0.0303007\n",
      "epoch:  340  , loss:  0.030291\n",
      "epoch:  350  , loss:  0.0302815\n",
      "epoch:  360  , loss:  0.030272\n",
      "epoch:  370  , loss:  0.0302627\n",
      "epoch:  380  , loss:  0.0302535\n",
      "epoch:  390  , loss:  0.0302444\n",
      "epoch:  400  , loss:  0.0302354\n",
      "epoch:  410  , loss:  0.0302265\n",
      "epoch:  420  , loss:  0.0302177\n",
      "epoch:  430  , loss:  0.030209\n",
      "epoch:  440  , loss:  0.0302004\n",
      "epoch:  450  , loss:  0.030192\n",
      "epoch:  460  , loss:  0.0301836\n",
      "epoch:  470  , loss:  0.0301753\n",
      "epoch:  480  , loss:  0.0301671\n",
      "epoch:  490  , loss:  0.030159\n",
      "epoch:  500  , loss:  0.0301509\n"
     ]
    },
    {
     "data": {
      "image/png": "[encoded data removed]",
      "text/plain": [
       "<matplotlib.figure.Figure at 0x7fcf684f1990>"
      ]
     },
     "metadata": {},
     "output_type": "display_data"
    }
   ],
   "source": [
    "#Autoencoder\n",
    "for epoch in range(501):    \n",
    "#     np.random.shuffle(index)\n",
    "    for batch in range(batches):\n",
    "        sess.run(train_step, feed_dict={x: x_train[[index[batch_size*batch:batch_size*(batch+1)]]]})\n",
    "#     sess.run(train_step, feed_dict={xs: x_train[0:100], ys: y_train[0:100]})\n",
    "    \n",
    "    if epoch%10==0:\n",
    "        print \"epoch: \",epoch,\" , loss: \",sess.run(loss, feed_dict={x: x_train})\n",
    "#         print sess.run(tf.argmax(sess.run(layer1, feed_dict={xs: x_train})[0:50],1))\n",
    "#         print sess.run(tf.argmax(sess.run(prediction, feed_dict={xs: x_train})[0:50],1))\n",
    "#         print sess.run(tf.argmax(sess.run(output2, feed_dict={xs: x_train})[0:50],1))\n",
    "    \n",
    "\n",
    "\n",
    "x_ae = np.array([np.reshape(m,(28,28)) for m in sess.run(x_reconstruct, feed_dict={x:x_train})])\n",
    "x_train2 = np.array([np.reshape(m,(28,28)) for m in x_train])\n",
    "\n",
    "fig, ax = plt.subplots(nrows=2, ncols=6)\n",
    "\n",
    "for i0 in range(len(ax[0])):\n",
    "    ax[0][i0].imshow(x_train2[i0], cmap='gray')\n",
    "for i1 in range(len(ax[1])):\n",
    "    ax[1][i1].imshow(x_ae[i1], cmap='gray')"
   ]
  },
  {
   "cell_type": "code",
   "execution_count": 38,
   "metadata": {},
   "outputs": [
    {
     "name": "stdout",
     "output_type": "stream",
     "text": [
      "epoch:  0  , loss:  0.0301501\n",
      "epoch:  10  , loss:  0.0301422\n",
      "epoch:  20  , loss:  0.0301343\n",
      "epoch:  30  , loss:  0.0301266\n",
      "epoch:  40  , loss:  0.0301189\n",
      "epoch:  50  , loss:  0.0301113\n",
      "epoch:  60  , loss:  0.0301037\n",
      "epoch:  70  , loss:  0.0300963\n",
      "epoch:  80  , loss:  0.0300889\n",
      "epoch:  90  , loss:  0.0300816\n",
      "epoch:  100  , loss:  0.0300744\n",
      "epoch:  110  , loss:  0.0300672\n",
      "epoch:  120  , loss:  0.0300602\n",
      "epoch:  130  , loss:  0.0300532\n",
      "epoch:  140  , loss:  0.0300462\n",
      "epoch:  150  , loss:  0.0300393\n",
      "epoch:  160  , loss:  0.0300325\n",
      "epoch:  170  , loss:  0.0300258\n",
      "epoch:  180  , loss:  0.0300191\n",
      "epoch:  190  , loss:  0.0300125\n",
      "epoch:  200  , loss:  0.030006\n",
      "epoch:  210  , loss:  0.0299995\n",
      "epoch:  220  , loss:  0.0299931\n",
      "epoch:  230  , loss:  0.0299867\n",
      "epoch:  240  , loss:  0.0299804\n",
      "epoch:  250  , loss:  0.0299741\n",
      "epoch:  260  , loss:  0.029968\n",
      "epoch:  270  , loss:  0.0299618\n",
      "epoch:  280  , loss:  0.0299557\n",
      "epoch:  290  , loss:  0.0299497\n",
      "epoch:  300  , loss:  0.0299437\n",
      "epoch:  310  , loss:  0.0299378\n",
      "epoch:  320  , loss:  0.029932\n",
      "epoch:  330  , loss:  0.0299262\n",
      "epoch:  340  , loss:  0.0299204\n",
      "epoch:  350  , loss:  0.0299147\n",
      "epoch:  360  , loss:  0.0299091\n",
      "epoch:  370  , loss:  0.0299035\n",
      "epoch:  380  , loss:  0.029898\n",
      "epoch:  390  , loss:  0.0298925\n",
      "epoch:  400  , loss:  0.029887\n",
      "epoch:  410  , loss:  0.0298816\n",
      "epoch:  420  , loss:  0.0298763\n",
      "epoch:  430  , loss:  0.029871\n",
      "epoch:  440  , loss:  0.0298658\n",
      "epoch:  450  , loss:  0.0298606\n",
      "epoch:  460  , loss:  0.0298554\n",
      "epoch:  470  , loss:  0.0298503\n",
      "epoch:  480  , loss:  0.0298453\n",
      "epoch:  490  , loss:  0.0298403\n",
      "epoch:  500  , loss:  0.0298354\n",
      "epoch:  510  , loss:  0.0298305\n",
      "epoch:  520  , loss:  0.0298256\n",
      "epoch:  530  , loss:  0.0298208\n",
      "epoch:  540  , loss:  0.029816\n",
      "epoch:  550  , loss:  0.0298113\n",
      "epoch:  560  , loss:  0.0298066\n",
      "epoch:  570  , loss:  0.029802\n",
      "epoch:  580  , loss:  0.0297974\n",
      "epoch:  590  , loss:  0.0297929\n",
      "epoch:  600  , loss:  0.0297883\n",
      "epoch:  610  , loss:  0.0297839\n",
      "epoch:  620  , loss:  0.0297794\n",
      "epoch:  630  , loss:  0.029775\n",
      "epoch:  640  , loss:  0.0297707\n",
      "epoch:  650  , loss:  0.0297664\n",
      "epoch:  660  , loss:  0.0297621\n",
      "epoch:  670  , loss:  0.0297578\n",
      "epoch:  680  , loss:  0.0297536\n",
      "epoch:  690  , loss:  0.0297495\n",
      "epoch:  700  , loss:  0.0297454\n",
      "epoch:  710  , loss:  0.0297413\n",
      "epoch:  720  , loss:  0.0297372\n",
      "epoch:  730  , loss:  0.0297332\n",
      "epoch:  740  , loss:  0.0297292\n",
      "epoch:  750  , loss:  0.0297253\n",
      "epoch:  760  , loss:  0.0297213\n",
      "epoch:  770  , loss:  0.0297175\n",
      "epoch:  780  , loss:  0.0297136\n",
      "epoch:  790  , loss:  0.0297098\n",
      "epoch:  800  , loss:  0.029706\n",
      "epoch:  810  , loss:  0.0297023\n",
      "epoch:  820  , loss:  0.0296986\n",
      "epoch:  830  , loss:  0.0296949\n",
      "epoch:  840  , loss:  0.0296912\n",
      "epoch:  850  , loss:  0.0296876\n",
      "epoch:  860  , loss:  0.029684\n",
      "epoch:  870  , loss:  0.0296804\n",
      "epoch:  880  , loss:  0.0296769\n",
      "epoch:  890  , loss:  0.0296734\n",
      "epoch:  900  , loss:  0.0296699\n",
      "epoch:  910  , loss:  0.0296665\n",
      "epoch:  920  , loss:  0.029663\n",
      "epoch:  930  , loss:  0.0296597\n",
      "epoch:  940  , loss:  0.0296563\n",
      "epoch:  950  , loss:  0.029653\n",
      "epoch:  960  , loss:  0.0296497\n",
      "epoch:  970  , loss:  0.0296464\n",
      "epoch:  980  , loss:  0.0296431\n",
      "epoch:  990  , loss:  0.0296399\n",
      "epoch:  1000  , loss:  0.0296367\n"
     ]
    },
    {
     "data": {
      "image/png": "[encoded data removed]",
      "text/plain": [
       "<matplotlib.figure.Figure at 0x7fcfd1e27fd0>"
      ]
     },
     "metadata": {},
     "output_type": "display_data"
    }
   ],
   "source": [
    "#Autoencoder\n",
    "for epoch in range(1001):    \n",
    "#     np.random.shuffle(index)\n",
    "    for batch in range(batches):\n",
    "        sess.run(train_step, feed_dict={x: x_train[[index[batch_size*batch:batch_size*(batch+1)]]]})\n",
    "#     sess.run(train_step, feed_dict={xs: x_train[0:100], ys: y_train[0:100]})\n",
    "    \n",
    "    if epoch%10==0:\n",
    "        print \"epoch: \",epoch,\" , loss: \",sess.run(loss, feed_dict={x: x_train})\n",
    "#         print sess.run(tf.argmax(sess.run(layer1, feed_dict={xs: x_train})[0:50],1))\n",
    "#         print sess.run(tf.argmax(sess.run(prediction, feed_dict={xs: x_train})[0:50],1))\n",
    "#         print sess.run(tf.argmax(sess.run(output2, feed_dict={xs: x_train})[0:50],1))\n",
    "    \n",
    "\n",
    "\n",
    "x_ae = np.array([np.reshape(m,(28,28)) for m in sess.run(x_reconstruct, feed_dict={x:x_train})])\n",
    "x_train2 = np.array([np.reshape(m,(28,28)) for m in x_train])\n",
    "\n",
    "fig, ax = plt.subplots(nrows=2, ncols=6)\n",
    "\n",
    "for i0 in range(len(ax[0])):\n",
    "    ax[0][i0].imshow(x_train2[i0], cmap='gray')\n",
    "for i1 in range(len(ax[1])):\n",
    "    ax[1][i1].imshow(x_ae[i1], cmap='gray')"
   ]
  },
  {
   "cell_type": "code",
   "execution_count": 39,
   "metadata": {},
   "outputs": [
    {
     "data": {
      "image/png": "[encoded data removed]",
      "text/plain": [
       "<matplotlib.figure.Figure at 0x7fcfd1e5cfd0>"
      ]
     },
     "metadata": {},
     "output_type": "display_data"
    }
   ],
   "source": [
    "fig, ax = plt.subplots(nrows=2, ncols=3)\n",
    "\n",
    "for i0 in range(len(ax[0])):\n",
    "    ax[0][i0].imshow(x_train2[i0], cmap='gray')\n",
    "for i1 in range(len(ax[1])):\n",
    "    ax[1][i1].imshow(x_ae[i1], cmap='gray')"
   ]
  },
  {
   "cell_type": "code",
   "execution_count": null,
   "metadata": {},
   "outputs": [],
   "source": []
  },
  {
   "cell_type": "code",
   "execution_count": null,
   "metadata": {},
   "outputs": [],
   "source": []
  },
  {
   "cell_type": "code",
   "execution_count": null,
   "metadata": {},
   "outputs": [],
   "source": []
  },
  {
   "cell_type": "code",
   "execution_count": null,
   "metadata": {},
   "outputs": [],
   "source": []
  },
  {
   "cell_type": "code",
   "execution_count": null,
   "metadata": {},
   "outputs": [],
   "source": []
  }
 ],
 "metadata": {
  "kernelspec": {
   "display_name": "Python 2",
   "language": "python",
   "name": "python2"
  },
  "language_info": {
   "codemirror_mode": {
    "name": "ipython",
    "version": 2
   },
   "file_extension": ".py",
   "mimetype": "text/x-python",
   "name": "python",
   "nbconvert_exporter": "python",
   "pygments_lexer": "ipython2",
   "version": "2.7.12"
  }
 },
 "nbformat": 4,
 "nbformat_minor": 2
}

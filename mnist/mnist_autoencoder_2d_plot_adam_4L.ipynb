{
 "cells": [
  {
   "cell_type": "code",
   "execution_count": 1,
   "metadata": {
    "collapsed": true
   },
   "outputs": [],
   "source": [
    "import tensorflow as tf\n",
    "from tensorflow.examples.tutorials.mnist import input_data\n",
    "import numpy as np\n",
    "import matplotlib.pyplot as plt\n",
    "\n",
    "%matplotlib inline"
   ]
  },
  {
   "cell_type": "code",
   "execution_count": 2,
   "metadata": {
    "collapsed": false
   },
   "outputs": [
    {
     "name": "stdout",
     "output_type": "stream",
     "text": [
      "Extracting MNIST_data/train-images-idx3-ubyte.gz\n",
      "Extracting MNIST_data/train-labels-idx1-ubyte.gz\n",
      "Extracting MNIST_data/t10k-images-idx3-ubyte.gz\n",
      "Extracting MNIST_data/t10k-labels-idx1-ubyte.gz\n"
     ]
    }
   ],
   "source": [
    "mnist = input_data.read_data_sets(\"MNIST_data/\", one_hot = True)\n",
    "x_train = mnist.train.images\n",
    "y_train = mnist.train.labels\n",
    "x_test = mnist.test.images\n",
    "y_test = mnist.test.labels"
   ]
  },
  {
   "cell_type": "code",
   "execution_count": 3,
   "metadata": {
    "collapsed": true
   },
   "outputs": [],
   "source": [
    "class layer:\n",
    "    def __init__(self, inputs, in_size, out_size, activation_function=None):\n",
    "#         self.W = tf.Variable(tf.zeros([in_size, out_size]))\n",
    "        self.W = tf.Variable(tf.random_normal([in_size, out_size]))\n",
    "        self.b = tf.Variable(tf.constant(0.1, shape=[1,out_size]))\n",
    "#         self.b = tf.Variable(tf.random_normal([1,out_size]))\n",
    "        self.Wx_plus_b = tf.matmul(inputs, self.W) + self.b\n",
    "#         self.activation_function = activation_function\n",
    "    def output(self, activation_function=None):\n",
    "        if activation_function == None:\n",
    "            result = self.Wx_plus_b\n",
    "        else :\n",
    "            result = activation_function(self.Wx_plus_b)\n",
    "        return result"
   ]
  },
  {
   "cell_type": "code",
   "execution_count": 4,
   "metadata": {
    "collapsed": false
   },
   "outputs": [],
   "source": [
    "xs = tf.placeholder(tf.float32, [None, 784])    #shape=(100,784)\n",
    "ys = tf.placeholder(tf.float32, [None, 10])    #shape=(100,10)\n",
    "\n",
    "\n",
    "layer1 = layer(xs, 784, 512)\n",
    "layer2 = layer(layer1.output(tf.nn.sigmoid), 512, 256)\n",
    "layer3 = layer(layer2.output(tf.nn.sigmoid), 256, 128)\n",
    "layer4 = layer(layer3.output(tf.nn.sigmoid), 128, 64)\n",
    "layer5 = layer(layer4.output(tf.nn.sigmoid), 64, 32)\n",
    "layer6 = layer(layer5.output(tf.nn.sigmoid), 32, 16)\n",
    "layer7 = layer(layer6.output(tf.nn.sigmoid), 16, 8)\n",
    "layer8 = layer(layer7.output(tf.nn.sigmoid), 8, 4)\n",
    "layer9 = layer(layer8.output(tf.nn.sigmoid), 4, 2)\n",
    "layer10 = layer(layer9.output(tf.nn.sigmoid), 2, 4)\n",
    "layer11 = layer(layer10.output(tf.nn.sigmoid), 4, 8)\n",
    "layer12 = layer(layer11.output(tf.nn.sigmoid), 8, 16)\n",
    "layer13 = layer(layer12.output(tf.nn.sigmoid), 16, 32)\n",
    "layer14 = layer(layer13.output(tf.nn.sigmoid), 32, 64)\n",
    "layer15 = layer(layer14.output(tf.nn.sigmoid), 64, 128)\n",
    "layer16 = layer(layer15.output(tf.nn.sigmoid), 128, 256)\n",
    "layer17 = layer(layer16.output(tf.nn.sigmoid), 256, 512)\n",
    "layer18 = layer(layer17.output(tf.nn.sigmoid), 512, 784)\n",
    "\n",
    "\n",
    "\n",
    "\n",
    "# layer1 = layer(xs, 784, 100)\n",
    "# layer2 = layer(layer1.output(tf.nn.relu), 100, 10)\n",
    "# layer3 = layer(layer2.output(tf.nn.relu), 10, 2)\n",
    "# layer4 = layer(layer3.output(tf.nn.relu), 2, 10)\n",
    "# layer5 = layer(layer4.output(tf.nn.relu), 10, 100)\n",
    "# layer6 = layer(layer5.output(tf.nn.relu), 100, 784)\n",
    "\n",
    "\n",
    "# layer_pre1 = layer(layer1.output(tf.nn.relu), 100, 784)\n",
    "# layer_pre2 = layer(layer2.output(tf.nn.relu), 10, 100)\n",
    "\n",
    "\n",
    "loss_ae = tf.reduce_mean(tf.nn.sigmoid_cross_entropy_with_logits(labels=xs, logits=layer18.output(tf.nn.sigmoid)))\n",
    "# loss_ae = tf.reduce_mean(tf.nn.sigmoid_cross_entropy_with_logits(labels=xs, logits=layer6.output(tf.nn.relu)))\n",
    "# loss_ae_pre1 = tf.reduce_mean(tf.nn.sigmoid_cross_entropy_with_logits(labels=xs, logits=layer10.output(tf.nn.relu)))\n",
    "# loss_ae_pre1 = tf.reduce_mean(tf.nn.sigmoid_cross_entropy_with_logits(labels=xs, logits=layer10.output(tf.nn.relu)))\n",
    "\n",
    "# loss_ae = tf.reduce_mean(tf.square(xs-layer10.output(tf.nn.relu)))\n",
    "# train_step_ae = tf.train.GradientDescentOptimizer(0.5).minimize(loss_ae)\n",
    "# train_step_ae = tf.train.RMSPropOptimizer(0.05).minimize(loss_ae)\n",
    "# train_step_ae = tf.train.MomentumOptimizer(0.2,0.1).minimize(loss_ae)\n",
    "train_step_ae = tf.train.AdamOptimizer(0.003).minimize(loss_ae)\n",
    "\n",
    "\n",
    "# correct_prediction = tf.equal(tf.argmax(layer3,1), tf.argmax(ys,1))\n",
    "# accuracy = tf.reduce_mean(tf.cast(correct_prediction, tf.float32))"
   ]
  },
  {
   "cell_type": "code",
   "execution_count": 5,
   "metadata": {
    "collapsed": true
   },
   "outputs": [],
   "source": [
    "init = tf.global_variables_initializer()\n",
    "\n",
    "sess = tf.Session()\n",
    "sess.run(init)\n",
    "\n",
    "batch_size = 100\n",
    "batches = x_train.shape[0]//batch_size\n",
    "index = np.arange(x_train.shape[0])"
   ]
  },
  {
   "cell_type": "code",
   "execution_count": 6,
   "metadata": {
    "collapsed": false
   },
   "outputs": [
    {
     "name": "stdout",
     "output_type": "stream",
     "text": [
      "epoch:  0  , loss:  0.744171\n",
      "epoch:  5  , loss:  0.741715\n",
      "epoch:  10  , loss:  0.741715\n",
      "epoch:  15  , loss:  0.741715\n",
      "epoch:  20  , loss:  0.741715\n",
      "epoch:  25  , loss:  0.741715\n",
      "epoch:  30  , loss:  0.741715\n",
      "[[  3.88058830e-09   1.03960650e-13   1.18651422e-09 ...,   4.30792380e-09\n",
      "    3.33544199e-11   3.96491867e-11]\n",
      " [  3.88044752e-09   1.03958671e-13   1.18652332e-09 ...,   4.30791536e-09\n",
      "    3.33552456e-11   3.96482812e-11]\n",
      " [  3.88066201e-09   1.03958468e-13   1.18659793e-09 ...,   4.30848246e-09\n",
      "    3.33551832e-11   3.96469940e-11]\n",
      " [  3.87963395e-09   1.03953907e-13   1.18644394e-09 ...,   4.30687219e-09\n",
      "    3.33563940e-11   3.96480557e-11]]\n"
     ]
    },
    {
     "data": {
      "image/png": "[encoded data removed]",
      "text/plain": [
       "<matplotlib.figure.Figure at 0x7f394e7794d0>"
      ]
     },
     "metadata": {},
     "output_type": "display_data"
    }
   ],
   "source": [
    "#Autoencoder\n",
    "for epoch in range(31):    \n",
    "#     np.random.shuffle(index)\n",
    "    for batch in range(batches):\n",
    "        sess.run(train_step_ae, feed_dict={xs: x_train[[index[batch_size*batch:batch_size*(batch+1)]]]})\n",
    "    \n",
    "    if epoch%5==0:\n",
    "        print \"epoch: \",epoch,\" , loss: \",sess.run(loss_ae, feed_dict={xs: x_train})\n",
    "\n",
    "    \n",
    "layer18_outputs = sess.run(layer18.output(tf.nn.sigmoid), feed_dict={xs:x_train})\n",
    "# layer10_outputs = sess.run(layer10.output(tf.nn.relu), feed_dict={xs:x_train})\n",
    "x_ae = np.array([np.reshape(m,(28,28)) for m in layer18_outputs])\n",
    "print layer18_outputs[0:4]\n",
    "fig, ax = plt.subplots(nrows=2, ncols=2)\n",
    "for i,row in enumerate(ax):\n",
    "    for j,col in enumerate(row):\n",
    "        ax[i][j].imshow(x_ae[i*2+j], cmap='gray')"
   ]
  },
  {
   "cell_type": "code",
   "execution_count": 18,
   "metadata": {
    "collapsed": false
   },
   "outputs": [
    {
     "data": {
      "image/png": "[encoded data removed]",
      "text/plain": [
       "<matplotlib.figure.Figure at 0x7f9024e3f190>"
      ]
     },
     "metadata": {},
     "output_type": "display_data"
    }
   ],
   "source": [
    "nums_scatter = sess.run(layer9.output(tf.nn.sigmoid), feed_dict={xs:x_train})\n",
    "yy = np.argmax(y_train, 1)\n",
    "color = {0:'#000000', 1:'#FF0000', 2:'#F75000', 3:'#F9F900', 4:'#00BB00', 5:'#0000C6', 6:'#616130', 7:'#6C3365', 8:'#FF60AF', 9:'#9D9D9D'}\n",
    "# color = {0:'#000000', 1:'r', 2:'#F75000', 3:'#F9F900', 4:'#00BB00', 5:'#0000C6', 6:'#616130', 7:'#6C3365', 8:'#FF60AF', 9:'9D9D9D'}\n",
    "for i,j in enumerate(nums_scatter[0:1000]):\n",
    "    plt.scatter(j[0], j[1], c=color[yy[i]], alpha=1)"
   ]
  },
  {
   "cell_type": "code",
   "execution_count": 19,
   "metadata": {
    "collapsed": false
   },
   "outputs": [
    {
     "name": "stdout",
     "output_type": "stream",
     "text": [
      "epoch:  0  , loss:  0.821468\n"
     ]
    },
    {
     "ename": "KeyboardInterrupt",
     "evalue": "",
     "output_type": "error",
     "traceback": [
      "\u001b[1;31m---------------------------------------------------------------------------\u001b[0m",
      "\u001b[1;31mKeyboardInterrupt\u001b[0m                         Traceback (most recent call last)",
      "\u001b[1;32m<ipython-input-19-7bcda24463dd>\u001b[0m in \u001b[0;36m<module>\u001b[1;34m()\u001b[0m\n\u001b[0;32m      3\u001b[0m \u001b[1;31m#     np.random.shuffle(index)\u001b[0m\u001b[1;33m\u001b[0m\u001b[1;33m\u001b[0m\u001b[0m\n\u001b[0;32m      4\u001b[0m     \u001b[1;32mfor\u001b[0m \u001b[0mbatch\u001b[0m \u001b[1;32min\u001b[0m \u001b[0mrange\u001b[0m\u001b[1;33m(\u001b[0m\u001b[0mbatches\u001b[0m\u001b[1;33m)\u001b[0m\u001b[1;33m:\u001b[0m\u001b[1;33m\u001b[0m\u001b[0m\n\u001b[1;32m----> 5\u001b[1;33m         \u001b[0msess\u001b[0m\u001b[1;33m.\u001b[0m\u001b[0mrun\u001b[0m\u001b[1;33m(\u001b[0m\u001b[0mtrain_step_ae\u001b[0m\u001b[1;33m,\u001b[0m \u001b[0mfeed_dict\u001b[0m\u001b[1;33m=\u001b[0m\u001b[1;33m{\u001b[0m\u001b[0mxs\u001b[0m\u001b[1;33m:\u001b[0m \u001b[0mx_train\u001b[0m\u001b[1;33m[\u001b[0m\u001b[1;33m[\u001b[0m\u001b[0mindex\u001b[0m\u001b[1;33m[\u001b[0m\u001b[0mbatch_size\u001b[0m\u001b[1;33m*\u001b[0m\u001b[0mbatch\u001b[0m\u001b[1;33m:\u001b[0m\u001b[0mbatch_size\u001b[0m\u001b[1;33m*\u001b[0m\u001b[1;33m(\u001b[0m\u001b[0mbatch\u001b[0m\u001b[1;33m+\u001b[0m\u001b[1;36m1\u001b[0m\u001b[1;33m)\u001b[0m\u001b[1;33m]\u001b[0m\u001b[1;33m]\u001b[0m\u001b[1;33m]\u001b[0m\u001b[1;33m}\u001b[0m\u001b[1;33m)\u001b[0m\u001b[1;33m\u001b[0m\u001b[0m\n\u001b[0m\u001b[0;32m      6\u001b[0m \u001b[1;31m#     sess.run(train_step, feed_dict={xs: x_train[0:100], ys: y_train[0:100]})\u001b[0m\u001b[1;33m\u001b[0m\u001b[1;33m\u001b[0m\u001b[0m\n\u001b[0;32m      7\u001b[0m \u001b[1;33m\u001b[0m\u001b[0m\n",
      "\u001b[1;32m/home/htlin/tensorflow/lib/python2.7/site-packages/tensorflow/python/client/session.pyc\u001b[0m in \u001b[0;36mrun\u001b[1;34m(self, fetches, feed_dict, options, run_metadata)\u001b[0m\n\u001b[0;32m    787\u001b[0m     \u001b[1;32mtry\u001b[0m\u001b[1;33m:\u001b[0m\u001b[1;33m\u001b[0m\u001b[0m\n\u001b[0;32m    788\u001b[0m       result = self._run(None, fetches, feed_dict, options_ptr,\n\u001b[1;32m--> 789\u001b[1;33m                          run_metadata_ptr)\n\u001b[0m\u001b[0;32m    790\u001b[0m       \u001b[1;32mif\u001b[0m \u001b[0mrun_metadata\u001b[0m\u001b[1;33m:\u001b[0m\u001b[1;33m\u001b[0m\u001b[0m\n\u001b[0;32m    791\u001b[0m         \u001b[0mproto_data\u001b[0m \u001b[1;33m=\u001b[0m \u001b[0mtf_session\u001b[0m\u001b[1;33m.\u001b[0m\u001b[0mTF_GetBuffer\u001b[0m\u001b[1;33m(\u001b[0m\u001b[0mrun_metadata_ptr\u001b[0m\u001b[1;33m)\u001b[0m\u001b[1;33m\u001b[0m\u001b[0m\n",
      "\u001b[1;32m/home/htlin/tensorflow/lib/python2.7/site-packages/tensorflow/python/client/session.pyc\u001b[0m in \u001b[0;36m_run\u001b[1;34m(self, handle, fetches, feed_dict, options, run_metadata)\u001b[0m\n\u001b[0;32m    995\u001b[0m     \u001b[1;32mif\u001b[0m \u001b[0mfinal_fetches\u001b[0m \u001b[1;32mor\u001b[0m \u001b[0mfinal_targets\u001b[0m\u001b[1;33m:\u001b[0m\u001b[1;33m\u001b[0m\u001b[0m\n\u001b[0;32m    996\u001b[0m       results = self._do_run(handle, final_targets, final_fetches,\n\u001b[1;32m--> 997\u001b[1;33m                              feed_dict_string, options, run_metadata)\n\u001b[0m\u001b[0;32m    998\u001b[0m     \u001b[1;32melse\u001b[0m\u001b[1;33m:\u001b[0m\u001b[1;33m\u001b[0m\u001b[0m\n\u001b[0;32m    999\u001b[0m       \u001b[0mresults\u001b[0m \u001b[1;33m=\u001b[0m \u001b[1;33m[\u001b[0m\u001b[1;33m]\u001b[0m\u001b[1;33m\u001b[0m\u001b[0m\n",
      "\u001b[1;32m/home/htlin/tensorflow/lib/python2.7/site-packages/tensorflow/python/client/session.pyc\u001b[0m in \u001b[0;36m_do_run\u001b[1;34m(self, handle, target_list, fetch_list, feed_dict, options, run_metadata)\u001b[0m\n\u001b[0;32m   1130\u001b[0m     \u001b[1;32mif\u001b[0m \u001b[0mhandle\u001b[0m \u001b[1;32mis\u001b[0m \u001b[0mNone\u001b[0m\u001b[1;33m:\u001b[0m\u001b[1;33m\u001b[0m\u001b[0m\n\u001b[0;32m   1131\u001b[0m       return self._do_call(_run_fn, self._session, feed_dict, fetch_list,\n\u001b[1;32m-> 1132\u001b[1;33m                            target_list, options, run_metadata)\n\u001b[0m\u001b[0;32m   1133\u001b[0m     \u001b[1;32melse\u001b[0m\u001b[1;33m:\u001b[0m\u001b[1;33m\u001b[0m\u001b[0m\n\u001b[0;32m   1134\u001b[0m       return self._do_call(_prun_fn, self._session, handle, feed_dict,\n",
      "\u001b[1;32m/home/htlin/tensorflow/lib/python2.7/site-packages/tensorflow/python/client/session.pyc\u001b[0m in \u001b[0;36m_do_call\u001b[1;34m(self, fn, *args)\u001b[0m\n\u001b[0;32m   1137\u001b[0m   \u001b[1;32mdef\u001b[0m \u001b[0m_do_call\u001b[0m\u001b[1;33m(\u001b[0m\u001b[0mself\u001b[0m\u001b[1;33m,\u001b[0m \u001b[0mfn\u001b[0m\u001b[1;33m,\u001b[0m \u001b[1;33m*\u001b[0m\u001b[0margs\u001b[0m\u001b[1;33m)\u001b[0m\u001b[1;33m:\u001b[0m\u001b[1;33m\u001b[0m\u001b[0m\n\u001b[0;32m   1138\u001b[0m     \u001b[1;32mtry\u001b[0m\u001b[1;33m:\u001b[0m\u001b[1;33m\u001b[0m\u001b[0m\n\u001b[1;32m-> 1139\u001b[1;33m       \u001b[1;32mreturn\u001b[0m \u001b[0mfn\u001b[0m\u001b[1;33m(\u001b[0m\u001b[1;33m*\u001b[0m\u001b[0margs\u001b[0m\u001b[1;33m)\u001b[0m\u001b[1;33m\u001b[0m\u001b[0m\n\u001b[0m\u001b[0;32m   1140\u001b[0m     \u001b[1;32mexcept\u001b[0m \u001b[0merrors\u001b[0m\u001b[1;33m.\u001b[0m\u001b[0mOpError\u001b[0m \u001b[1;32mas\u001b[0m \u001b[0me\u001b[0m\u001b[1;33m:\u001b[0m\u001b[1;33m\u001b[0m\u001b[0m\n\u001b[0;32m   1141\u001b[0m       \u001b[0mmessage\u001b[0m \u001b[1;33m=\u001b[0m \u001b[0mcompat\u001b[0m\u001b[1;33m.\u001b[0m\u001b[0mas_text\u001b[0m\u001b[1;33m(\u001b[0m\u001b[0me\u001b[0m\u001b[1;33m.\u001b[0m\u001b[0mmessage\u001b[0m\u001b[1;33m)\u001b[0m\u001b[1;33m\u001b[0m\u001b[0m\n",
      "\u001b[1;32m/home/htlin/tensorflow/lib/python2.7/site-packages/tensorflow/python/client/session.pyc\u001b[0m in \u001b[0;36m_run_fn\u001b[1;34m(session, feed_dict, fetch_list, target_list, options, run_metadata)\u001b[0m\n\u001b[0;32m   1119\u001b[0m         return tf_session.TF_Run(session, options,\n\u001b[0;32m   1120\u001b[0m                                  \u001b[0mfeed_dict\u001b[0m\u001b[1;33m,\u001b[0m \u001b[0mfetch_list\u001b[0m\u001b[1;33m,\u001b[0m \u001b[0mtarget_list\u001b[0m\u001b[1;33m,\u001b[0m\u001b[1;33m\u001b[0m\u001b[0m\n\u001b[1;32m-> 1121\u001b[1;33m                                  status, run_metadata)\n\u001b[0m\u001b[0;32m   1122\u001b[0m \u001b[1;33m\u001b[0m\u001b[0m\n\u001b[0;32m   1123\u001b[0m     \u001b[1;32mdef\u001b[0m \u001b[0m_prun_fn\u001b[0m\u001b[1;33m(\u001b[0m\u001b[0msession\u001b[0m\u001b[1;33m,\u001b[0m \u001b[0mhandle\u001b[0m\u001b[1;33m,\u001b[0m \u001b[0mfeed_dict\u001b[0m\u001b[1;33m,\u001b[0m \u001b[0mfetch_list\u001b[0m\u001b[1;33m)\u001b[0m\u001b[1;33m:\u001b[0m\u001b[1;33m\u001b[0m\u001b[0m\n",
      "\u001b[1;31mKeyboardInterrupt\u001b[0m: "
     ]
    }
   ],
   "source": [
    "#Autoencoder\n",
    "for epoch in range(101):    \n",
    "#     np.random.shuffle(index)\n",
    "    for batch in range(batches):\n",
    "        sess.run(train_step_ae, feed_dict={xs: x_train[[index[batch_size*batch:batch_size*(batch+1)]]]})\n",
    "#     sess.run(train_step, feed_dict={xs: x_train[0:100], ys: y_train[0:100]})\n",
    "    \n",
    "    if epoch%5==0:\n",
    "        print \"epoch: \",epoch,\" , loss: \",sess.run(loss_ae, feed_dict={xs: x_train})\n",
    "#         print sess.run(tf.argmax(sess.run(layer1, feed_dict={xs: x_train})[0:50],1))\n",
    "#         print sess.run(tf.argmax(sess.run(prediction, feed_dict={xs: x_train})[0:50],1))\n",
    "#         print sess.run(tf.argmax(sess.run(output2, feed_dict={xs: x_train})[0:50],1))\n",
    "    \n",
    "layer18_outputs = sess.run(layer18.output(tf.nn.sigmoid), feed_dict={xs:x_train})\n",
    "# layer10_outputs = sess.run(layer10.output(tf.nn.relu), feed_dict={xs:x_train})\n",
    "x_ae = np.array([np.reshape(m,(28,28)) for m in layer18_outputs])\n",
    "print layer10_outputs[0:4]\n",
    "fig, ax = plt.subplots(nrows=2, ncols=2)\n",
    "for i,row in enumerate(ax):\n",
    "    for j,col in enumerate(row):\n",
    "        ax[i][j].imshow(x_ae[i*2+j], cmap='gray')"
   ]
  },
  {
   "cell_type": "code",
   "execution_count": null,
   "metadata": {
    "collapsed": false
   },
   "outputs": [],
   "source": [
    "nums_scatter = sess.run(layer9.output(tf.nn.sigmoid), feed_dict={xs:x_train})\n",
    "yy = np.argmax(y_train, 1)\n",
    "color = {0:'#000000', 1:'#FF0000', 2:'#F75000', 3:'#F9F900', 4:'#00BB00', 5:'#0000C6', 6:'#616130', 7:'#6C3365', 8:'#FF60AF', 9:'#9D9D9D'}\n",
    "# color = {0:'#000000', 1:'r', 2:'#F75000', 3:'#F9F900', 4:'#00BB00', 5:'#0000C6', 6:'#616130', 7:'#6C3365', 8:'#FF60AF', 9:'9D9D9D'}\n",
    "for i,j in enumerate(nums_scatter[0:1000]):\n",
    "    plt.scatter(j[0], j[1], c=color[yy[i]], alpha=1)"
   ]
  },
  {
   "cell_type": "code",
   "execution_count": null,
   "metadata": {
    "collapsed": false
   },
   "outputs": [],
   "source": [
    "#Autoencoder\n",
    "for epoch in range(301):    \n",
    "#     np.random.shuffle(index)\n",
    "    for batch in range(batches):\n",
    "        sess.run(train_step_ae, feed_dict={xs: x_train[[index[batch_size*batch:batch_size*(batch+1)]]]})\n",
    "#     sess.run(train_step, feed_dict={xs: x_train[0:100], ys: y_train[0:100]})\n",
    "    \n",
    "    if epoch%5==0:\n",
    "        print \"epoch: \",epoch,\" , loss: \",sess.run(loss_ae, feed_dict={xs: x_train})\n",
    "#         print sess.run(tf.argmax(sess.run(layer1, feed_dict={xs: x_train})[0:50],1))\n",
    "#         print sess.run(tf.argmax(sess.run(prediction, feed_dict={xs: x_train})[0:50],1))\n",
    "#         print sess.run(tf.argmax(sess.run(output2, feed_dict={xs: x_train})[0:50],1))\n",
    "    \n",
    "layer18_outputs = sess.run(layer18.output(tf.nn.sigmoid), feed_dict={xs:x_train})\n",
    "# layer10_outputs = sess.run(layer10.output(tf.nn.relu), feed_dict={xs:x_train})\n",
    "x_ae = np.array([np.reshape(m,(28,28)) for m in layer18_outputs])\n",
    "print layer10_outputs[0:4]\n",
    "fig, ax = plt.subplots(nrows=3, ncols=3)\n",
    "for i,row in enumerate(ax):\n",
    "    for j,col in enumerate(row):\n",
    "        ax[i][j].imshow(x_ae[i*3+j], cmap='gray')"
   ]
  },
  {
   "cell_type": "code",
   "execution_count": null,
   "metadata": {
    "collapsed": true
   },
   "outputs": [],
   "source": [
    "nums_scatter = sess.run(layer9.output(tf.nn.sigmoid), feed_dict={xs:x_train})\n",
    "yy = np.argmax(y_train, 1)\n",
    "color = {0:'#000000', 1:'#FF0000', 2:'#F75000', 3:'#F9F900', 4:'#00BB00', 5:'#0000C6', 6:'#616130', 7:'#6C3365', 8:'#FF60AF', 9:'#9D9D9D'}\n",
    "# color = {0:'#000000', 1:'r', 2:'#F75000', 3:'#F9F900', 4:'#00BB00', 5:'#0000C6', 6:'#616130', 7:'#6C3365', 8:'#FF60AF', 9:'9D9D9D'}\n",
    "for i,j in enumerate(nums_scatter[0:1000]):\n",
    "    plt.scatter(j[0], j[1], c=color[yy[i]], alpha=1)"
   ]
  },
  {
   "cell_type": "code",
   "execution_count": null,
   "metadata": {
    "collapsed": true
   },
   "outputs": [],
   "source": [
    "#Autoencoder\n",
    "for epoch in range(301):    \n",
    "#     np.random.shuffle(index)\n",
    "    for batch in range(batches):\n",
    "        sess.run(train_step_ae, feed_dict={xs: x_train[[index[batch_size*batch:batch_size*(batch+1)]]]})\n",
    "#     sess.run(train_step, feed_dict={xs: x_train[0:100], ys: y_train[0:100]})\n",
    "    \n",
    "    if epoch%5==0:\n",
    "        print \"epoch: \",epoch,\" , loss: \",sess.run(loss_ae, feed_dict={xs: x_train})\n",
    "#         print sess.run(tf.argmax(sess.run(layer1, feed_dict={xs: x_train})[0:50],1))\n",
    "#         print sess.run(tf.argmax(sess.run(prediction, feed_dict={xs: x_train})[0:50],1))\n",
    "#         print sess.run(tf.argmax(sess.run(output2, feed_dict={xs: x_train})[0:50],1))\n",
    "    \n",
    "layer10_outputs = sess.run(layer18.output(tf.nn.sigmoid), feed_dict={xs:x_train})\n",
    "# layer10_outputs = sess.run(layer10.output(tf.nn.relu), feed_dict={xs:x_train})\n",
    "x_ae = np.array([np.reshape(m,(28,28)) for m in layer10_outputs])\n",
    "print layer10_outputs[0:4]\n",
    "fig, ax = plt.subplots(nrows=3, ncols=3)\n",
    "for i,row in enumerate(ax):\n",
    "    for j,col in enumerate(row):\n",
    "        ax[i][j].imshow(x_ae[i*3+j], cmap='gray')"
   ]
  },
  {
   "cell_type": "code",
   "execution_count": null,
   "metadata": {
    "collapsed": true
   },
   "outputs": [],
   "source": [
    "nums_scatter = sess.run(layer9.output(tf.nn.sigmoid), feed_dict={xs:x_train})\n",
    "yy = np.argmax(y_train, 1)\n",
    "color = {0:'#000000', 1:'#FF0000', 2:'#F75000', 3:'#F9F900', 4:'#00BB00', 5:'#0000C6', 6:'#616130', 7:'#6C3365', 8:'#FF60AF', 9:'#9D9D9D'}\n",
    "# color = {0:'#000000', 1:'r', 2:'#F75000', 3:'#F9F900', 4:'#00BB00', 5:'#0000C6', 6:'#616130', 7:'#6C3365', 8:'#FF60AF', 9:'9D9D9D'}\n",
    "for i,j in enumerate(nums_scatter[0:1000]):\n",
    "    plt.scatter(j[0], j[1], c=color[yy[i]], alpha=1)"
   ]
  },
  {
   "cell_type": "code",
   "execution_count": null,
   "metadata": {
    "collapsed": true
   },
   "outputs": [],
   "source": [
    "#Autoencoder\n",
    "for epoch in range(301):    \n",
    "#     np.random.shuffle(index)\n",
    "    for batch in range(batches):\n",
    "        sess.run(train_step_ae, feed_dict={xs: x_train[[index[batch_size*batch:batch_size*(batch+1)]]]})\n",
    "#     sess.run(train_step, feed_dict={xs: x_train[0:100], ys: y_train[0:100]})\n",
    "    \n",
    "    if epoch%5==0:\n",
    "        print \"epoch: \",epoch,\" , loss: \",sess.run(loss_ae, feed_dict={xs: x_train})\n",
    "#         print sess.run(tf.argmax(sess.run(layer1, feed_dict={xs: x_train})[0:50],1))\n",
    "#         print sess.run(tf.argmax(sess.run(prediction, feed_dict={xs: x_train})[0:50],1))\n",
    "#         print sess.run(tf.argmax(sess.run(output2, feed_dict={xs: x_train})[0:50],1))\n",
    "    \n",
    "layer10_outputs = sess.run(layer18.output(tf.nn.sigmoid), feed_dict={xs:x_train})\n",
    "# layer10_outputs = sess.run(layer10.output(tf.nn.relu), feed_dict={xs:x_train})\n",
    "x_ae = np.array([np.reshape(m,(28,28)) for m in layer10_outputs])\n",
    "print layer10_outputs[0:4]\n",
    "fig, ax = plt.subplots(nrows=3, ncols=3)\n",
    "for i,row in enumerate(ax):\n",
    "    for j,col in enumerate(row):\n",
    "        ax[i][j].imshow(x_ae[i*3+j], cmap='gray')"
   ]
  },
  {
   "cell_type": "code",
   "execution_count": null,
   "metadata": {
    "collapsed": true
   },
   "outputs": [],
   "source": [
    "nums_scatter = sess.run(layer9.output(tf.nn.sigmoid), feed_dict={xs:x_train})\n",
    "yy = np.argmax(y_train, 1)\n",
    "color = {0:'#000000', 1:'#FF0000', 2:'#F75000', 3:'#F9F900', 4:'#00BB00', 5:'#0000C6', 6:'#616130', 7:'#6C3365', 8:'#FF60AF', 9:'#9D9D9D'}\n",
    "# color = {0:'#000000', 1:'r', 2:'#F75000', 3:'#F9F900', 4:'#00BB00', 5:'#0000C6', 6:'#616130', 7:'#6C3365', 8:'#FF60AF', 9:'9D9D9D'}\n",
    "for i,j in enumerate(nums_scatter[0:1000]):\n",
    "    plt.scatter(j[0], j[1], c=color[yy[i]], alpha=1)"
   ]
  },
  {
   "cell_type": "code",
   "execution_count": null,
   "metadata": {
    "collapsed": true
   },
   "outputs": [],
   "source": [
    "#Autoencoder\n",
    "for epoch in range(301):    \n",
    "#     np.random.shuffle(index)\n",
    "    for batch in range(batches):\n",
    "        sess.run(train_step_ae, feed_dict={xs: x_train[[index[batch_size*batch:batch_size*(batch+1)]]]})\n",
    "#     sess.run(train_step, feed_dict={xs: x_train[0:100], ys: y_train[0:100]})\n",
    "    \n",
    "    if epoch%5==0:\n",
    "        print \"epoch: \",epoch,\" , loss: \",sess.run(loss_ae, feed_dict={xs: x_train})\n",
    "#         print sess.run(tf.argmax(sess.run(layer1, feed_dict={xs: x_train})[0:50],1))\n",
    "#         print sess.run(tf.argmax(sess.run(prediction, feed_dict={xs: x_train})[0:50],1))\n",
    "#         print sess.run(tf.argmax(sess.run(output2, feed_dict={xs: x_train})[0:50],1))\n",
    "    \n",
    "layer10_outputs = sess.run(layer18.output(tf.nn.sigmoid), feed_dict={xs:x_train})\n",
    "# layer10_outputs = sess.run(layer10.output(tf.nn.relu), feed_dict={xs:x_train})\n",
    "x_ae = np.array([np.reshape(m,(28,28)) for m in layer10_outputs])\n",
    "print layer10_outputs[0:4]\n",
    "fig, ax = plt.subplots(nrows=3, ncols=3)\n",
    "for i,row in enumerate(ax):\n",
    "    for j,col in enumerate(row):\n",
    "        ax[i][j].imshow(x_ae[i*3+j], cmap='gray')"
   ]
  },
  {
   "cell_type": "code",
   "execution_count": null,
   "metadata": {
    "collapsed": true
   },
   "outputs": [],
   "source": [
    "nums_scatter = sess.run(layer9.output(tf.nn.sigmoid), feed_dict={xs:x_train})\n",
    "yy = np.argmax(y_train, 1)\n",
    "color = {0:'#000000', 1:'#FF0000', 2:'#F75000', 3:'#F9F900', 4:'#00BB00', 5:'#0000C6', 6:'#616130', 7:'#6C3365', 8:'#FF60AF', 9:'#9D9D9D'}\n",
    "# color = {0:'#000000', 1:'r', 2:'#F75000', 3:'#F9F900', 4:'#00BB00', 5:'#0000C6', 6:'#616130', 7:'#6C3365', 8:'#FF60AF', 9:'9D9D9D'}\n",
    "for i,j in enumerate(nums_scatter[0:1000]):\n",
    "    plt.scatter(j[0], j[1], c=color[yy[i]], alpha=1)"
   ]
  },
  {
   "cell_type": "code",
   "execution_count": null,
   "metadata": {
    "collapsed": true
   },
   "outputs": [],
   "source": []
  },
  {
   "cell_type": "code",
   "execution_count": null,
   "metadata": {
    "collapsed": true
   },
   "outputs": [],
   "source": []
  },
  {
   "cell_type": "code",
   "execution_count": null,
   "metadata": {
    "collapsed": true
   },
   "outputs": [],
   "source": []
  },
  {
   "cell_type": "code",
   "execution_count": null,
   "metadata": {
    "collapsed": true
   },
   "outputs": [],
   "source": []
  }
 ],
 "metadata": {
  "kernelspec": {
   "display_name": "Python 2",
   "language": "python",
   "name": "python2"
  },
  "language_info": {
   "codemirror_mode": {
    "name": "ipython",
    "version": 2
   },
   "file_extension": ".py",
   "mimetype": "text/x-python",
   "name": "python",
   "nbconvert_exporter": "python",
   "pygments_lexer": "ipython2",
   "version": "2.7.6"
  }
 },
 "nbformat": 4,
 "nbformat_minor": 2
}

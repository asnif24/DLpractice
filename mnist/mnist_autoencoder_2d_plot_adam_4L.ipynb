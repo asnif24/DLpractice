{
 "cells": [
  {
   "cell_type": "code",
   "execution_count": 1,
   "metadata": {},
   "outputs": [],
   "source": [
    "import tensorflow as tf\n",
    "from tensorflow.examples.tutorials.mnist import input_data\n",
    "import numpy as np\n",
    "import matplotlib.pyplot as plt\n",
    "\n",
    "%matplotlib inline"
   ]
  },
  {
   "cell_type": "code",
   "execution_count": 2,
   "metadata": {},
   "outputs": [
    {
     "name": "stdout",
     "output_type": "stream",
     "text": [
      "Extracting MNIST_data/train-images-idx3-ubyte.gz\n",
      "Extracting MNIST_data/train-labels-idx1-ubyte.gz\n",
      "Extracting MNIST_data/t10k-images-idx3-ubyte.gz\n",
      "Extracting MNIST_data/t10k-labels-idx1-ubyte.gz\n"
     ]
    }
   ],
   "source": [
    "mnist = input_data.read_data_sets(\"MNIST_data/\", one_hot = True)\n",
    "x_train = mnist.train.images\n",
    "y_train = mnist.train.labels\n",
    "x_test = mnist.test.images\n",
    "y_test = mnist.test.labels"
   ]
  },
  {
   "cell_type": "code",
   "execution_count": 81,
   "metadata": {},
   "outputs": [],
   "source": [
    "class layer:\n",
    "    def __init__(self, inputs, in_size, out_size, activation_function=None):\n",
    "#         self.W = tf.Variable(tf.zeros([in_size, out_size]))\n",
    "        self.W = tf.Variable(tf.random_normal([in_size, out_size]))\n",
    "        self.b = tf.Variable(tf.constant(0.1, shape=[1,out_size]))\n",
    "#         self.b = tf.Variable(tf.random_normal([1,out_size]))\n",
    "        self.Wx_plus_b = tf.matmul(inputs, self.W) + self.b\n",
    "#         self.activation_function = activation_function\n",
    "    def output(self, activation_function=None):\n",
    "        if activation_function == None:\n",
    "            result = self.Wx_plus_b\n",
    "        else :\n",
    "            result = activation_function(self.Wx_plus_b)\n",
    "        return result"
   ]
  },
  {
   "cell_type": "code",
   "execution_count": 85,
   "metadata": {},
   "outputs": [],
   "source": [
    "xs = tf.placeholder(tf.float32, [None, 784])    #shape=(100,784)\n",
    "ys = tf.placeholder(tf.float32, [None, 10])    #shape=(100,10)\n",
    "\n",
    "\n",
    "layer1 = layer(xs, 784, 512)\n",
    "layer2 = layer(layer1.output(tf.nn.relu), 512, 256)\n",
    "layer3 = layer(layer2.output(tf.nn.relu), 256, 128)\n",
    "layer4 = layer(layer3.output(tf.nn.relu), 128, 64)\n",
    "layer5 = layer(layer4.output(tf.nn.relu), 64, 32)\n",
    "layer6 = layer(layer5.output(tf.nn.relu), 32, 16)\n",
    "layer7 = layer(layer6.output(tf.nn.relu), 16, 8)\n",
    "layer8 = layer(layer7.output(tf.nn.relu), 8, 4)\n",
    "layer9 = layer(layer8.output(tf.nn.relu), 4, 2)\n",
    "layer10 = layer(layer9.output(tf.nn.relu), 2, 4)\n",
    "layer11 = layer(layer10.output(tf.nn.relu), 4, 8)\n",
    "layer12 = layer(layer11.output(tf.nn.relu), 8, 16)\n",
    "layer13 = layer(layer12.output(tf.nn.relu), 16, 32)\n",
    "layer14 = layer(layer13.output(tf.nn.relu), 32, 64)\n",
    "layer15 = layer(layer14.output(tf.nn.relu), 64, 128)\n",
    "layer16 = layer(layer15.output(tf.nn.relu), 128, 256)\n",
    "layer17 = layer(layer16.output(tf.nn.relu), 256, 512)\n",
    "layer18 = layer(layer17.output(tf.nn.sigmoid), 512, 784)\n",
    "\n",
    "\n",
    "\n",
    "\n",
    "# layer1 = layer(xs, 784, 100)\n",
    "# layer2 = layer(layer1.output(tf.nn.relu), 100, 10)\n",
    "# layer3 = layer(layer2.output(tf.nn.relu), 10, 2)\n",
    "# layer4 = layer(layer3.output(tf.nn.relu), 2, 10)\n",
    "# layer5 = layer(layer4.output(tf.nn.relu), 10, 100)\n",
    "# layer6 = layer(layer5.output(tf.nn.relu), 100, 784)\n",
    "\n",
    "\n",
    "# layer_pre1 = layer(layer1.output(tf.nn.relu), 100, 784)\n",
    "# layer_pre2 = layer(layer2.output(tf.nn.relu), 10, 100)\n",
    "\n",
    "\n",
    "loss_ae = tf.reduce_mean(tf.nn.sigmoid_cross_entropy_with_logits(labels=xs, logits=layer18.output(tf.nn.sigmoid)))\n",
    "# loss_ae = tf.reduce_mean(tf.nn.sigmoid_cross_entropy_with_logits(labels=xs, logits=layer6.output(tf.nn.relu)))\n",
    "# loss_ae_pre1 = tf.reduce_mean(tf.nn.sigmoid_cross_entropy_with_logits(labels=xs, logits=layer10.output(tf.nn.relu)))\n",
    "# loss_ae_pre1 = tf.reduce_mean(tf.nn.sigmoid_cross_entropy_with_logits(labels=xs, logits=layer10.output(tf.nn.relu)))\n",
    "\n",
    "# loss_ae = tf.reduce_mean(tf.square(xs-layer10.output(tf.nn.relu)))\n",
    "# train_step_ae = tf.train.GradientDescentOptimizer(0.5).minimize(loss_ae)\n",
    "# train_step_ae = tf.train.RMSPropOptimizer(0.05).minimize(loss_ae)\n",
    "train_step_ae = tf.train.MomentumOptimizer(0.2,0.1).minimize(loss_ae)\n",
    "# train_step_ae = tf.train.AdamOptimizer(0.002).minimize(loss_ae)\n",
    "\n",
    "\n",
    "# correct_prediction = tf.equal(tf.argmax(layer3,1), tf.argmax(ys,1))\n",
    "# accuracy = tf.reduce_mean(tf.cast(correct_prediction, tf.float32))"
   ]
  },
  {
   "cell_type": "code",
   "execution_count": 86,
   "metadata": {},
   "outputs": [],
   "source": [
    "init = tf.global_variables_initializer()\n",
    "\n",
    "sess = tf.Session()\n",
    "sess.run(init)\n",
    "\n",
    "batch_size = 200\n",
    "batches = x_train.shape[0]//batch_size\n",
    "index = np.arange(x_train.shape[0])"
   ]
  },
  {
   "cell_type": "code",
   "execution_count": 87,
   "metadata": {},
   "outputs": [
    {
     "name": "stdout",
     "output_type": "stream",
     "text": [
      "epoch:  0  , loss:  0.917678\n",
      "epoch:  5  , loss:  0.885612\n",
      "epoch:  10  , loss:  0.871607\n",
      "epoch:  15  , loss:  0.858039\n",
      "epoch:  20  , loss:  0.847209\n",
      "epoch:  25  , loss:  0.840878\n",
      "epoch:  30  , loss:  0.836518\n",
      "[[  3.86821775e-09   1.72045205e-08   1.84466700e-08 ...,   1.01832006e-11\n",
      "    3.98861122e-09   4.26208180e-09]\n",
      " [  1.24449540e-09   1.02454316e-10   5.58069813e-09 ...,   1.99121537e-08\n",
      "    6.78398893e-09   2.89033375e-09]\n",
      " [  3.05060505e-10   3.18813598e-09   1.00908544e-08 ...,   7.76045406e-13\n",
      "    5.89113980e-10   3.80464354e-10]\n",
      " [  1.65299383e-08   5.20288390e-09   7.27524307e-09 ...,   2.20582077e-11\n",
      "    4.23139124e-09   5.24967447e-09]]\n"
     ]
    },
    {
     "data": {
      "image/png": "[encoded data removed]",
      "text/plain": [
       "<matplotlib.figure.Figure at 0x7fc3060e7550>"
      ]
     },
     "metadata": {},
     "output_type": "display_data"
    }
   ],
   "source": [
    "#Autoencoder\n",
    "for epoch in range(31):    \n",
    "#     np.random.shuffle(index)\n",
    "    for batch in range(batches):\n",
    "        sess.run(train_step_ae, feed_dict={xs: x_train[[index[batch_size*batch:batch_size*(batch+1)]]]})\n",
    "    \n",
    "    if epoch%5==0:\n",
    "        print \"epoch: \",epoch,\" , loss: \",sess.run(loss_ae, feed_dict={xs: x_train})\n",
    "\n",
    "    \n",
    "layer18_outputs = sess.run(layer18.output(tf.nn.sigmoid), feed_dict={xs:x_train})\n",
    "# layer10_outputs = sess.run(layer10.output(tf.nn.relu), feed_dict={xs:x_train})\n",
    "x_ae = np.array([np.reshape(m,(28,28)) for m in layer18_outputs])\n",
    "print layer10_outputs[0:4]\n",
    "fig, ax = plt.subplots(nrows=2, ncols=2)\n",
    "for i,row in enumerate(ax):\n",
    "    for j,col in enumerate(row):\n",
    "        ax[i][j].imshow(x_ae[i*2+j], cmap='gray')"
   ]
  },
  {
   "cell_type": "code",
   "execution_count": 88,
   "metadata": {},
   "outputs": [
    {
     "data": {
      "image/png": "[encoded data removed]",
      "text/plain": [
       "<matplotlib.figure.Figure at 0x7fc30d510590>"
      ]
     },
     "metadata": {},
     "output_type": "display_data"
    }
   ],
   "source": [
    "nums_scatter = sess.run(layer9.output(tf.nn.sigmoid), feed_dict={xs:x_train})\n",
    "yy = np.argmax(y_train, 1)\n",
    "color = {0:'#000000', 1:'#FF0000', 2:'#F75000', 3:'#F9F900', 4:'#00BB00', 5:'#0000C6', 6:'#616130', 7:'#6C3365', 8:'#FF60AF', 9:'#9D9D9D'}\n",
    "# color = {0:'#000000', 1:'r', 2:'#F75000', 3:'#F9F900', 4:'#00BB00', 5:'#0000C6', 6:'#616130', 7:'#6C3365', 8:'#FF60AF', 9:'9D9D9D'}\n",
    "for i,j in enumerate(nums_scatter[0:1000]):\n",
    "    plt.scatter(j[0], j[1], c=color[yy[i]], alpha=1)"
   ]
  },
  {
   "cell_type": "code",
   "execution_count": 78,
   "metadata": {},
   "outputs": [
    {
     "name": "stdout",
     "output_type": "stream",
     "text": [
      "epoch:  0  , loss:  0.656306\n",
      "epoch:  5  , loss:  0.656306\n",
      "epoch:  10  , loss:  0.656306\n",
      "epoch:  15  , loss:  0.656306\n",
      "epoch:  20  , loss:  0.656306\n",
      "epoch:  25  , loss:  0.656306\n",
      "epoch:  30  , loss:  0.656306\n",
      "epoch:  35  , loss:  0.656306\n",
      "epoch:  40  , loss:  0.656306\n",
      "epoch:  45  , loss:  0.656306\n",
      "epoch:  50  , loss:  0.655454\n",
      "epoch:  55  , loss:  0.645095\n",
      "epoch:  60  , loss:  0.645095\n",
      "epoch:  65  , loss:  0.645095\n",
      "epoch:  70  , loss:  0.645095\n",
      "epoch:  75  , loss:  0.645095\n",
      "epoch:  80  , loss:  0.645095\n",
      "epoch:  85  , loss:  0.645095\n",
      "epoch:  90  , loss:  0.645095\n",
      "epoch:  95  , loss:  0.645095\n",
      "epoch:  100  , loss:  0.645095\n",
      "[[  3.86821775e-09   1.72045205e-08   1.84466700e-08 ...,   1.01832006e-11\n",
      "    3.98861122e-09   4.26208180e-09]\n",
      " [  1.24449540e-09   1.02454316e-10   5.58069813e-09 ...,   1.99121537e-08\n",
      "    6.78398893e-09   2.89033375e-09]\n",
      " [  3.05060505e-10   3.18813598e-09   1.00908544e-08 ...,   7.76045406e-13\n",
      "    5.89113980e-10   3.80464354e-10]\n",
      " [  1.65299383e-08   5.20288390e-09   7.27524307e-09 ...,   2.20582077e-11\n",
      "    4.23139124e-09   5.24967447e-09]]\n"
     ]
    },
    {
     "data": {
      "image/png": "[encoded data removed]",
      "text/plain": [
       "<matplotlib.figure.Figure at 0x7fc306fbfe10>"
      ]
     },
     "metadata": {},
     "output_type": "display_data"
    }
   ],
   "source": [
    "#Autoencoder\n",
    "for epoch in range(101):    \n",
    "#     np.random.shuffle(index)\n",
    "    for batch in range(batches):\n",
    "        sess.run(train_step_ae, feed_dict={xs: x_train[[index[batch_size*batch:batch_size*(batch+1)]]]})\n",
    "#     sess.run(train_step, feed_dict={xs: x_train[0:100], ys: y_train[0:100]})\n",
    "    \n",
    "    if epoch%5==0:\n",
    "        print \"epoch: \",epoch,\" , loss: \",sess.run(loss_ae, feed_dict={xs: x_train})\n",
    "#         print sess.run(tf.argmax(sess.run(layer1, feed_dict={xs: x_train})[0:50],1))\n",
    "#         print sess.run(tf.argmax(sess.run(prediction, feed_dict={xs: x_train})[0:50],1))\n",
    "#         print sess.run(tf.argmax(sess.run(output2, feed_dict={xs: x_train})[0:50],1))\n",
    "    \n",
    "layer4_outputs = sess.run(layer18.output(tf.nn.sigmoid), feed_dict={xs:x_train})\n",
    "# layer10_outputs = sess.run(layer10.output(tf.nn.relu), feed_dict={xs:x_train})\n",
    "x_ae = np.array([np.reshape(m,(28,28)) for m in layer4_outputs])\n",
    "print layer10_outputs[0:4]\n",
    "fig, ax = plt.subplots(nrows=2, ncols=2)\n",
    "for i,row in enumerate(ax):\n",
    "    for j,col in enumerate(row):\n",
    "        ax[i][j].imshow(x_ae[i*2+j], cmap='gray')"
   ]
  },
  {
   "cell_type": "code",
   "execution_count": 79,
   "metadata": {},
   "outputs": [
    {
     "data": {
      "image/png": "[encoded data removed]",
      "text/plain": [
       "<matplotlib.figure.Figure at 0x7fc30699af90>"
      ]
     },
     "metadata": {},
     "output_type": "display_data"
    }
   ],
   "source": [
    "nums_scatter = sess.run(layer9.output(tf.nn.sigmoid), feed_dict={xs:x_train})\n",
    "yy = np.argmax(y_train, 1)\n",
    "color = {0:'#000000', 1:'#FF0000', 2:'#F75000', 3:'#F9F900', 4:'#00BB00', 5:'#0000C6', 6:'#616130', 7:'#6C3365', 8:'#FF60AF', 9:'#9D9D9D'}\n",
    "# color = {0:'#000000', 1:'r', 2:'#F75000', 3:'#F9F900', 4:'#00BB00', 5:'#0000C6', 6:'#616130', 7:'#6C3365', 8:'#FF60AF', 9:'9D9D9D'}\n",
    "for i,j in enumerate(nums_scatter[0:1000]):\n",
    "    plt.scatter(j[0], j[1], c=color[yy[i]], alpha=1)"
   ]
  },
  {
   "cell_type": "code",
   "execution_count": 80,
   "metadata": {},
   "outputs": [
    {
     "name": "stdout",
     "output_type": "stream",
     "text": [
      "epoch:  0  , loss:  0.645095\n",
      "epoch:  5  , loss:  0.645095\n",
      "epoch:  10  , loss:  0.645095\n",
      "epoch:  15  , loss:  0.645095\n",
      "epoch:  20  , loss:  0.645095\n",
      "epoch:  25  , loss:  0.645095\n",
      "epoch:  30  , loss:  0.645095\n",
      "epoch:  35  , loss:  0.645095\n",
      "epoch:  40  , loss:  0.645095\n",
      "epoch:  45  , loss:  0.645095\n",
      "epoch:  50  , loss:  0.645095\n",
      "epoch:  55  , loss:  0.645095\n",
      "epoch:  60  , loss:  0.645095\n",
      "epoch:  65  , loss:  0.645095\n",
      "epoch:  70  , loss:  0.645095\n",
      "epoch:  75  , loss:  0.645095\n",
      "epoch:  80  , loss:  0.645095\n",
      "epoch:  85  , loss:  0.645095\n",
      "epoch:  90  , loss:  0.645095\n",
      "epoch:  95  , loss:  0.645095\n",
      "epoch:  100  , loss:  0.645095\n",
      "epoch:  105  , loss:  0.645095\n",
      "epoch:  110  , loss:  0.645095\n",
      "epoch:  115  , loss:  0.645095\n",
      "epoch:  120  , loss:  0.645095\n",
      "epoch:  125  , loss:  0.645095\n",
      "epoch:  130  , loss:  0.645095\n",
      "epoch:  135  , loss:  0.645095\n",
      "epoch:  140  , loss:  0.645095\n",
      "epoch:  145  , loss:  0.645095\n",
      "epoch:  150  , loss:  0.645095\n",
      "epoch:  155  , loss:  0.645095\n",
      "epoch:  160  , loss:  0.645095\n",
      "epoch:  165  , loss:  0.645095\n",
      "epoch:  170  , loss:  0.645095\n",
      "epoch:  175  , loss:  0.645095\n",
      "epoch:  180  , loss:  0.645095\n",
      "epoch:  185  , loss:  0.645095\n",
      "epoch:  190  , loss:  0.645095\n",
      "epoch:  195  , loss:  0.645095\n",
      "epoch:  200  , loss:  0.645095\n",
      "epoch:  205  , loss:  0.645095\n",
      "epoch:  210  , loss:  0.645095\n",
      "epoch:  215  , loss:  0.645095\n",
      "epoch:  220  , loss:  0.645095\n",
      "epoch:  225  , loss:  0.645095\n",
      "epoch:  230  , loss:  0.645095\n",
      "epoch:  235  , loss:  0.645095\n",
      "epoch:  240  , loss:  0.645095\n",
      "epoch:  245  , loss:  0.645095\n",
      "epoch:  250  , loss:  0.645095\n",
      "epoch:  255  , loss:  0.645095\n",
      "epoch:  260  , loss:  0.645095\n",
      "epoch:  265  , loss:  0.645095\n",
      "epoch:  270  , loss:  0.645095\n",
      "epoch:  275  , loss:  0.645095\n",
      "epoch:  280  , loss:  0.645095\n",
      "epoch:  285  , loss:  0.645095\n",
      "epoch:  290  , loss:  0.645095\n"
     ]
    },
    {
     "ename": "KeyboardInterrupt",
     "evalue": "",
     "output_type": "error",
     "traceback": [
      "\u001b[0;31m---------------------------------------------------------------------------\u001b[0m",
      "\u001b[0;31mKeyboardInterrupt\u001b[0m                         Traceback (most recent call last)",
      "\u001b[0;32m<ipython-input-80-56739bc61431>\u001b[0m in \u001b[0;36m<module>\u001b[0;34m()\u001b[0m\n\u001b[1;32m      3\u001b[0m \u001b[0;31m#     np.random.shuffle(index)\u001b[0m\u001b[0;34m\u001b[0m\u001b[0;34m\u001b[0m\u001b[0m\n\u001b[1;32m      4\u001b[0m     \u001b[0;32mfor\u001b[0m \u001b[0mbatch\u001b[0m \u001b[0;32min\u001b[0m \u001b[0mrange\u001b[0m\u001b[0;34m(\u001b[0m\u001b[0mbatches\u001b[0m\u001b[0;34m)\u001b[0m\u001b[0;34m:\u001b[0m\u001b[0;34m\u001b[0m\u001b[0m\n\u001b[0;32m----> 5\u001b[0;31m         \u001b[0msess\u001b[0m\u001b[0;34m.\u001b[0m\u001b[0mrun\u001b[0m\u001b[0;34m(\u001b[0m\u001b[0mtrain_step_ae\u001b[0m\u001b[0;34m,\u001b[0m \u001b[0mfeed_dict\u001b[0m\u001b[0;34m=\u001b[0m\u001b[0;34m{\u001b[0m\u001b[0mxs\u001b[0m\u001b[0;34m:\u001b[0m \u001b[0mx_train\u001b[0m\u001b[0;34m[\u001b[0m\u001b[0;34m[\u001b[0m\u001b[0mindex\u001b[0m\u001b[0;34m[\u001b[0m\u001b[0mbatch_size\u001b[0m\u001b[0;34m*\u001b[0m\u001b[0mbatch\u001b[0m\u001b[0;34m:\u001b[0m\u001b[0mbatch_size\u001b[0m\u001b[0;34m*\u001b[0m\u001b[0;34m(\u001b[0m\u001b[0mbatch\u001b[0m\u001b[0;34m+\u001b[0m\u001b[0;36m1\u001b[0m\u001b[0;34m)\u001b[0m\u001b[0;34m]\u001b[0m\u001b[0;34m]\u001b[0m\u001b[0;34m]\u001b[0m\u001b[0;34m}\u001b[0m\u001b[0;34m)\u001b[0m\u001b[0;34m\u001b[0m\u001b[0m\n\u001b[0m\u001b[1;32m      6\u001b[0m \u001b[0;31m#     sess.run(train_step, feed_dict={xs: x_train[0:100], ys: y_train[0:100]})\u001b[0m\u001b[0;34m\u001b[0m\u001b[0;34m\u001b[0m\u001b[0m\n\u001b[1;32m      7\u001b[0m \u001b[0;34m\u001b[0m\u001b[0m\n",
      "\u001b[0;32m/usr/local/lib/python2.7/dist-packages/tensorflow/python/client/session.pyc\u001b[0m in \u001b[0;36mrun\u001b[0;34m(self, fetches, feed_dict, options, run_metadata)\u001b[0m\n\u001b[1;32m    887\u001b[0m     \u001b[0;32mtry\u001b[0m\u001b[0;34m:\u001b[0m\u001b[0;34m\u001b[0m\u001b[0m\n\u001b[1;32m    888\u001b[0m       result = self._run(None, fetches, feed_dict, options_ptr,\n\u001b[0;32m--> 889\u001b[0;31m                          run_metadata_ptr)\n\u001b[0m\u001b[1;32m    890\u001b[0m       \u001b[0;32mif\u001b[0m \u001b[0mrun_metadata\u001b[0m\u001b[0;34m:\u001b[0m\u001b[0;34m\u001b[0m\u001b[0m\n\u001b[1;32m    891\u001b[0m         \u001b[0mproto_data\u001b[0m \u001b[0;34m=\u001b[0m \u001b[0mtf_session\u001b[0m\u001b[0;34m.\u001b[0m\u001b[0mTF_GetBuffer\u001b[0m\u001b[0;34m(\u001b[0m\u001b[0mrun_metadata_ptr\u001b[0m\u001b[0;34m)\u001b[0m\u001b[0;34m\u001b[0m\u001b[0m\n",
      "\u001b[0;32m/usr/local/lib/python2.7/dist-packages/tensorflow/python/client/session.pyc\u001b[0m in \u001b[0;36m_run\u001b[0;34m(self, handle, fetches, feed_dict, options, run_metadata)\u001b[0m\n\u001b[1;32m   1118\u001b[0m     \u001b[0;32mif\u001b[0m \u001b[0mfinal_fetches\u001b[0m \u001b[0;32mor\u001b[0m \u001b[0mfinal_targets\u001b[0m \u001b[0;32mor\u001b[0m \u001b[0;34m(\u001b[0m\u001b[0mhandle\u001b[0m \u001b[0;32mand\u001b[0m \u001b[0mfeed_dict_tensor\u001b[0m\u001b[0;34m)\u001b[0m\u001b[0;34m:\u001b[0m\u001b[0;34m\u001b[0m\u001b[0m\n\u001b[1;32m   1119\u001b[0m       results = self._do_run(handle, final_targets, final_fetches,\n\u001b[0;32m-> 1120\u001b[0;31m                              feed_dict_tensor, options, run_metadata)\n\u001b[0m\u001b[1;32m   1121\u001b[0m     \u001b[0;32melse\u001b[0m\u001b[0;34m:\u001b[0m\u001b[0;34m\u001b[0m\u001b[0m\n\u001b[1;32m   1122\u001b[0m       \u001b[0mresults\u001b[0m \u001b[0;34m=\u001b[0m \u001b[0;34m[\u001b[0m\u001b[0;34m]\u001b[0m\u001b[0;34m\u001b[0m\u001b[0m\n",
      "\u001b[0;32m/usr/local/lib/python2.7/dist-packages/tensorflow/python/client/session.pyc\u001b[0m in \u001b[0;36m_do_run\u001b[0;34m(self, handle, target_list, fetch_list, feed_dict, options, run_metadata)\u001b[0m\n\u001b[1;32m   1315\u001b[0m     \u001b[0;32mif\u001b[0m \u001b[0mhandle\u001b[0m \u001b[0;32mis\u001b[0m \u001b[0mNone\u001b[0m\u001b[0;34m:\u001b[0m\u001b[0;34m\u001b[0m\u001b[0m\n\u001b[1;32m   1316\u001b[0m       return self._do_call(_run_fn, self._session, feeds, fetches, targets,\n\u001b[0;32m-> 1317\u001b[0;31m                            options, run_metadata)\n\u001b[0m\u001b[1;32m   1318\u001b[0m     \u001b[0;32melse\u001b[0m\u001b[0;34m:\u001b[0m\u001b[0;34m\u001b[0m\u001b[0m\n\u001b[1;32m   1319\u001b[0m       \u001b[0;32mreturn\u001b[0m \u001b[0mself\u001b[0m\u001b[0;34m.\u001b[0m\u001b[0m_do_call\u001b[0m\u001b[0;34m(\u001b[0m\u001b[0m_prun_fn\u001b[0m\u001b[0;34m,\u001b[0m \u001b[0mself\u001b[0m\u001b[0;34m.\u001b[0m\u001b[0m_session\u001b[0m\u001b[0;34m,\u001b[0m \u001b[0mhandle\u001b[0m\u001b[0;34m,\u001b[0m \u001b[0mfeeds\u001b[0m\u001b[0;34m,\u001b[0m \u001b[0mfetches\u001b[0m\u001b[0;34m)\u001b[0m\u001b[0;34m\u001b[0m\u001b[0m\n",
      "\u001b[0;32m/usr/local/lib/python2.7/dist-packages/tensorflow/python/client/session.pyc\u001b[0m in \u001b[0;36m_do_call\u001b[0;34m(self, fn, *args)\u001b[0m\n\u001b[1;32m   1321\u001b[0m   \u001b[0;32mdef\u001b[0m \u001b[0m_do_call\u001b[0m\u001b[0;34m(\u001b[0m\u001b[0mself\u001b[0m\u001b[0;34m,\u001b[0m \u001b[0mfn\u001b[0m\u001b[0;34m,\u001b[0m \u001b[0;34m*\u001b[0m\u001b[0margs\u001b[0m\u001b[0;34m)\u001b[0m\u001b[0;34m:\u001b[0m\u001b[0;34m\u001b[0m\u001b[0m\n\u001b[1;32m   1322\u001b[0m     \u001b[0;32mtry\u001b[0m\u001b[0;34m:\u001b[0m\u001b[0;34m\u001b[0m\u001b[0m\n\u001b[0;32m-> 1323\u001b[0;31m       \u001b[0;32mreturn\u001b[0m \u001b[0mfn\u001b[0m\u001b[0;34m(\u001b[0m\u001b[0;34m*\u001b[0m\u001b[0margs\u001b[0m\u001b[0;34m)\u001b[0m\u001b[0;34m\u001b[0m\u001b[0m\n\u001b[0m\u001b[1;32m   1324\u001b[0m     \u001b[0;32mexcept\u001b[0m \u001b[0merrors\u001b[0m\u001b[0;34m.\u001b[0m\u001b[0mOpError\u001b[0m \u001b[0;32mas\u001b[0m \u001b[0me\u001b[0m\u001b[0;34m:\u001b[0m\u001b[0;34m\u001b[0m\u001b[0m\n\u001b[1;32m   1325\u001b[0m       \u001b[0mmessage\u001b[0m \u001b[0;34m=\u001b[0m \u001b[0mcompat\u001b[0m\u001b[0;34m.\u001b[0m\u001b[0mas_text\u001b[0m\u001b[0;34m(\u001b[0m\u001b[0me\u001b[0m\u001b[0;34m.\u001b[0m\u001b[0mmessage\u001b[0m\u001b[0;34m)\u001b[0m\u001b[0;34m\u001b[0m\u001b[0m\n",
      "\u001b[0;32m/usr/local/lib/python2.7/dist-packages/tensorflow/python/client/session.pyc\u001b[0m in \u001b[0;36m_run_fn\u001b[0;34m(session, feed_dict, fetch_list, target_list, options, run_metadata)\u001b[0m\n\u001b[1;32m   1300\u001b[0m           return tf_session.TF_Run(session, options,\n\u001b[1;32m   1301\u001b[0m                                    \u001b[0mfeed_dict\u001b[0m\u001b[0;34m,\u001b[0m \u001b[0mfetch_list\u001b[0m\u001b[0;34m,\u001b[0m \u001b[0mtarget_list\u001b[0m\u001b[0;34m,\u001b[0m\u001b[0;34m\u001b[0m\u001b[0m\n\u001b[0;32m-> 1302\u001b[0;31m                                    status, run_metadata)\n\u001b[0m\u001b[1;32m   1303\u001b[0m \u001b[0;34m\u001b[0m\u001b[0m\n\u001b[1;32m   1304\u001b[0m     \u001b[0;32mdef\u001b[0m \u001b[0m_prun_fn\u001b[0m\u001b[0;34m(\u001b[0m\u001b[0msession\u001b[0m\u001b[0;34m,\u001b[0m \u001b[0mhandle\u001b[0m\u001b[0;34m,\u001b[0m \u001b[0mfeed_dict\u001b[0m\u001b[0;34m,\u001b[0m \u001b[0mfetch_list\u001b[0m\u001b[0;34m)\u001b[0m\u001b[0;34m:\u001b[0m\u001b[0;34m\u001b[0m\u001b[0m\n",
      "\u001b[0;31mKeyboardInterrupt\u001b[0m: "
     ]
    }
   ],
   "source": [
    "#Autoencoder\n",
    "for epoch in range(301):    \n",
    "#     np.random.shuffle(index)\n",
    "    for batch in range(batches):\n",
    "        sess.run(train_step_ae, feed_dict={xs: x_train[[index[batch_size*batch:batch_size*(batch+1)]]]})\n",
    "#     sess.run(train_step, feed_dict={xs: x_train[0:100], ys: y_train[0:100]})\n",
    "    \n",
    "    if epoch%5==0:\n",
    "        print \"epoch: \",epoch,\" , loss: \",sess.run(loss_ae, feed_dict={xs: x_train})\n",
    "#         print sess.run(tf.argmax(sess.run(layer1, feed_dict={xs: x_train})[0:50],1))\n",
    "#         print sess.run(tf.argmax(sess.run(prediction, feed_dict={xs: x_train})[0:50],1))\n",
    "#         print sess.run(tf.argmax(sess.run(output2, feed_dict={xs: x_train})[0:50],1))\n",
    "    \n",
    "layer10_outputs = sess.run(layer18.output(tf.nn.sigmoid), feed_dict={xs:x_train})\n",
    "# layer10_outputs = sess.run(layer10.output(tf.nn.relu), feed_dict={xs:x_train})\n",
    "x_ae = np.array([np.reshape(m,(28,28)) for m in layer10_outputs])\n",
    "print layer10_outputs[0:4]\n",
    "fig, ax = plt.subplots(nrows=3, ncols=3)\n",
    "for i,row in enumerate(ax):\n",
    "    for j,col in enumerate(row):\n",
    "        ax[i][j].imshow(x_ae[i*3+j], cmap='gray')"
   ]
  },
  {
   "cell_type": "code",
   "execution_count": null,
   "metadata": {},
   "outputs": [],
   "source": [
    "nums_scatter = sess.run(layer9.output(tf.nn.sigmoid), feed_dict={xs:x_train})\n",
    "yy = np.argmax(y_train, 1)\n",
    "color = {0:'#000000', 1:'#FF0000', 2:'#F75000', 3:'#F9F900', 4:'#00BB00', 5:'#0000C6', 6:'#616130', 7:'#6C3365', 8:'#FF60AF', 9:'#9D9D9D'}\n",
    "# color = {0:'#000000', 1:'r', 2:'#F75000', 3:'#F9F900', 4:'#00BB00', 5:'#0000C6', 6:'#616130', 7:'#6C3365', 8:'#FF60AF', 9:'9D9D9D'}\n",
    "for i,j in enumerate(nums_scatter[0:1000]):\n",
    "    plt.scatter(j[0], j[1], c=color[yy[i]], alpha=1)"
   ]
  },
  {
   "cell_type": "code",
   "execution_count": null,
   "metadata": {},
   "outputs": [],
   "source": [
    "#Autoencoder\n",
    "for epoch in range(301):    \n",
    "#     np.random.shuffle(index)\n",
    "    for batch in range(batches):\n",
    "        sess.run(train_step_ae, feed_dict={xs: x_train[[index[batch_size*batch:batch_size*(batch+1)]]]})\n",
    "#     sess.run(train_step, feed_dict={xs: x_train[0:100], ys: y_train[0:100]})\n",
    "    \n",
    "    if epoch%5==0:\n",
    "        print \"epoch: \",epoch,\" , loss: \",sess.run(loss_ae, feed_dict={xs: x_train})\n",
    "#         print sess.run(tf.argmax(sess.run(layer1, feed_dict={xs: x_train})[0:50],1))\n",
    "#         print sess.run(tf.argmax(sess.run(prediction, feed_dict={xs: x_train})[0:50],1))\n",
    "#         print sess.run(tf.argmax(sess.run(output2, feed_dict={xs: x_train})[0:50],1))\n",
    "    \n",
    "layer10_outputs = sess.run(layer18.output(tf.nn.sigmoid), feed_dict={xs:x_train})\n",
    "# layer10_outputs = sess.run(layer10.output(tf.nn.relu), feed_dict={xs:x_train})\n",
    "x_ae = np.array([np.reshape(m,(28,28)) for m in layer10_outputs])\n",
    "print layer10_outputs[0:4]\n",
    "fig, ax = plt.subplots(nrows=3, ncols=3)\n",
    "for i,row in enumerate(ax):\n",
    "    for j,col in enumerate(row):\n",
    "        ax[i][j].imshow(x_ae[i*3+j], cmap='gray')"
   ]
  },
  {
   "cell_type": "code",
   "execution_count": null,
   "metadata": {},
   "outputs": [],
   "source": [
    "nums_scatter = sess.run(layer9.output(tf.nn.sigmoid), feed_dict={xs:x_train})\n",
    "yy = np.argmax(y_train, 1)\n",
    "color = {0:'#000000', 1:'#FF0000', 2:'#F75000', 3:'#F9F900', 4:'#00BB00', 5:'#0000C6', 6:'#616130', 7:'#6C3365', 8:'#FF60AF', 9:'#9D9D9D'}\n",
    "# color = {0:'#000000', 1:'r', 2:'#F75000', 3:'#F9F900', 4:'#00BB00', 5:'#0000C6', 6:'#616130', 7:'#6C3365', 8:'#FF60AF', 9:'9D9D9D'}\n",
    "for i,j in enumerate(nums_scatter[0:1000]):\n",
    "    plt.scatter(j[0], j[1], c=color[yy[i]], alpha=1)"
   ]
  },
  {
   "cell_type": "code",
   "execution_count": null,
   "metadata": {},
   "outputs": [],
   "source": [
    "#Autoencoder\n",
    "for epoch in range(301):    \n",
    "#     np.random.shuffle(index)\n",
    "    for batch in range(batches):\n",
    "        sess.run(train_step_ae, feed_dict={xs: x_train[[index[batch_size*batch:batch_size*(batch+1)]]]})\n",
    "#     sess.run(train_step, feed_dict={xs: x_train[0:100], ys: y_train[0:100]})\n",
    "    \n",
    "    if epoch%5==0:\n",
    "        print \"epoch: \",epoch,\" , loss: \",sess.run(loss_ae, feed_dict={xs: x_train})\n",
    "#         print sess.run(tf.argmax(sess.run(layer1, feed_dict={xs: x_train})[0:50],1))\n",
    "#         print sess.run(tf.argmax(sess.run(prediction, feed_dict={xs: x_train})[0:50],1))\n",
    "#         print sess.run(tf.argmax(sess.run(output2, feed_dict={xs: x_train})[0:50],1))\n",
    "    \n",
    "layer10_outputs = sess.run(layer18.output(tf.nn.sigmoid), feed_dict={xs:x_train})\n",
    "# layer10_outputs = sess.run(layer10.output(tf.nn.relu), feed_dict={xs:x_train})\n",
    "x_ae = np.array([np.reshape(m,(28,28)) for m in layer10_outputs])\n",
    "print layer10_outputs[0:4]\n",
    "fig, ax = plt.subplots(nrows=3, ncols=3)\n",
    "for i,row in enumerate(ax):\n",
    "    for j,col in enumerate(row):\n",
    "        ax[i][j].imshow(x_ae[i*3+j], cmap='gray')"
   ]
  },
  {
   "cell_type": "code",
   "execution_count": null,
   "metadata": {},
   "outputs": [],
   "source": [
    "nums_scatter = sess.run(layer9.output(tf.nn.sigmoid), feed_dict={xs:x_train})\n",
    "yy = np.argmax(y_train, 1)\n",
    "color = {0:'#000000', 1:'#FF0000', 2:'#F75000', 3:'#F9F900', 4:'#00BB00', 5:'#0000C6', 6:'#616130', 7:'#6C3365', 8:'#FF60AF', 9:'#9D9D9D'}\n",
    "# color = {0:'#000000', 1:'r', 2:'#F75000', 3:'#F9F900', 4:'#00BB00', 5:'#0000C6', 6:'#616130', 7:'#6C3365', 8:'#FF60AF', 9:'9D9D9D'}\n",
    "for i,j in enumerate(nums_scatter[0:1000]):\n",
    "    plt.scatter(j[0], j[1], c=color[yy[i]], alpha=1)"
   ]
  },
  {
   "cell_type": "code",
   "execution_count": null,
   "metadata": {},
   "outputs": [],
   "source": [
    "#Autoencoder\n",
    "for epoch in range(301):    \n",
    "#     np.random.shuffle(index)\n",
    "    for batch in range(batches):\n",
    "        sess.run(train_step_ae, feed_dict={xs: x_train[[index[batch_size*batch:batch_size*(batch+1)]]]})\n",
    "#     sess.run(train_step, feed_dict={xs: x_train[0:100], ys: y_train[0:100]})\n",
    "    \n",
    "    if epoch%5==0:\n",
    "        print \"epoch: \",epoch,\" , loss: \",sess.run(loss_ae, feed_dict={xs: x_train})\n",
    "#         print sess.run(tf.argmax(sess.run(layer1, feed_dict={xs: x_train})[0:50],1))\n",
    "#         print sess.run(tf.argmax(sess.run(prediction, feed_dict={xs: x_train})[0:50],1))\n",
    "#         print sess.run(tf.argmax(sess.run(output2, feed_dict={xs: x_train})[0:50],1))\n",
    "    \n",
    "layer10_outputs = sess.run(layer18.output(tf.nn.sigmoid), feed_dict={xs:x_train})\n",
    "# layer10_outputs = sess.run(layer10.output(tf.nn.relu), feed_dict={xs:x_train})\n",
    "x_ae = np.array([np.reshape(m,(28,28)) for m in layer10_outputs])\n",
    "print layer10_outputs[0:4]\n",
    "fig, ax = plt.subplots(nrows=3, ncols=3)\n",
    "for i,row in enumerate(ax):\n",
    "    for j,col in enumerate(row):\n",
    "        ax[i][j].imshow(x_ae[i*3+j], cmap='gray')"
   ]
  },
  {
   "cell_type": "code",
   "execution_count": null,
   "metadata": {},
   "outputs": [],
   "source": [
    "nums_scatter = sess.run(layer9.output(tf.nn.sigmoid), feed_dict={xs:x_train})\n",
    "yy = np.argmax(y_train, 1)\n",
    "color = {0:'#000000', 1:'#FF0000', 2:'#F75000', 3:'#F9F900', 4:'#00BB00', 5:'#0000C6', 6:'#616130', 7:'#6C3365', 8:'#FF60AF', 9:'#9D9D9D'}\n",
    "# color = {0:'#000000', 1:'r', 2:'#F75000', 3:'#F9F900', 4:'#00BB00', 5:'#0000C6', 6:'#616130', 7:'#6C3365', 8:'#FF60AF', 9:'9D9D9D'}\n",
    "for i,j in enumerate(nums_scatter[0:1000]):\n",
    "    plt.scatter(j[0], j[1], c=color[yy[i]], alpha=1)"
   ]
  },
  {
   "cell_type": "code",
   "execution_count": null,
   "metadata": {},
   "outputs": [],
   "source": []
  },
  {
   "cell_type": "code",
   "execution_count": null,
   "metadata": {},
   "outputs": [],
   "source": []
  },
  {
   "cell_type": "code",
   "execution_count": null,
   "metadata": {},
   "outputs": [],
   "source": []
  },
  {
   "cell_type": "code",
   "execution_count": null,
   "metadata": {},
   "outputs": [],
   "source": []
  }
 ],
 "metadata": {
  "kernelspec": {
   "display_name": "Python 2",
   "language": "python",
   "name": "python2"
  },
  "language_info": {
   "codemirror_mode": {
    "name": "ipython",
    "version": 2
   },
   "file_extension": ".py",
   "mimetype": "text/x-python",
   "name": "python",
   "nbconvert_exporter": "python",
   "pygments_lexer": "ipython2",
   "version": "2.7.12"
  }
 },
 "nbformat": 4,
 "nbformat_minor": 2
}

{
 "cells": [
  {
   "cell_type": "code",
   "execution_count": 1,
   "metadata": {},
   "outputs": [],
   "source": [
    "import tensorflow as tf\n",
    "from tensorflow.examples.tutorials.mnist import input_data\n",
    "import numpy as np\n",
    "import matplotlib.pyplot as plt\n",
    "\n",
    "%matplotlib inline"
   ]
  },
  {
   "cell_type": "code",
   "execution_count": 2,
   "metadata": {},
   "outputs": [
    {
     "name": "stdout",
     "output_type": "stream",
     "text": [
      "Extracting MNIST_data/train-images-idx3-ubyte.gz\n",
      "Extracting MNIST_data/train-labels-idx1-ubyte.gz\n",
      "Extracting MNIST_data/t10k-images-idx3-ubyte.gz\n",
      "Extracting MNIST_data/t10k-labels-idx1-ubyte.gz\n"
     ]
    }
   ],
   "source": [
    "mnist = input_data.read_data_sets(\"MNIST_data/\", one_hot = True)\n",
    "x_train = mnist.train.images\n",
    "y_train = mnist.train.labels\n",
    "x_test = mnist.test.images\n",
    "y_test = mnist.test.labels"
   ]
  },
  {
   "cell_type": "code",
   "execution_count": 3,
   "metadata": {},
   "outputs": [],
   "source": [
    "def conv2d(x, W):\n",
    "    return tf.nn.conv2d(x, W, strides=[1,2,2,1], padding='SAME')\n",
    "    \n",
    "def deconv2d(x, W, output_shape):\n",
    "    return tf.nn.conv2d_transpose(x, W, output_shape, strides=[1,2,2,1], padding='SAME')\n",
    "\n",
    "def weight_variable(shape):\n",
    "    initial = tf.random_normal(shape, mean=0.0, stddev=0.01)\n",
    "    return tf.Variable(initial)\n",
    "\n",
    "def bias_variable(shape):\n",
    "    initial = tf.random_normal(shape, mean=0.0, stddev=0.01)\n",
    "    return tf.Variable(initial)"
   ]
  },
  {
   "cell_type": "code",
   "execution_count": 26,
   "metadata": {},
   "outputs": [
    {
     "name": "stdout",
     "output_type": "stream",
     "text": [
      "code layer shape : (?, 7, 7, 32)\n",
      "reconstruct layer shape : (?, 28, 28, 1)\n"
     ]
    }
   ],
   "source": [
    "tf.reset_default_graph()\n",
    "x = tf.placeholder(tf.float32, shape = [None, 784])\n",
    "x_origin = tf.reshape(x, [-1,28,28,1])\n",
    "\n",
    "\n",
    "W_e_conv1 = weight_variable([5,5,1,16])\n",
    "b_e_conv1 = bias_variable([16])\n",
    "h_e_conv1 = tf.nn.relu(tf.add(conv2d(x_origin, W_e_conv1), b_e_conv1))\n",
    "\n",
    "W_e_conv2 = weight_variable([5,5,16,32])\n",
    "b_e_conv2 = bias_variable([32])\n",
    "h_e_conv2 = tf.nn.relu(tf.add(conv2d(h_e_conv1, W_e_conv2), b_e_conv2))\n",
    "\n",
    "code_layer = h_e_conv2\n",
    "print(\"code layer shape : %s\" % h_e_conv2.get_shape())\n",
    "\n",
    "W_d_conv1 = weight_variable([5,5,16,32])\n",
    "b_d_conv1 = bias_variable([16])\n",
    "output_shape_d_conv1 = tf.stack([tf.shape(x)[0], 14, 14, 16])\n",
    "h_d_conv1 = tf.nn.relu(tf.add(deconv2d(h_e_conv2, W_d_conv1, output_shape_d_conv1), b_d_conv1))\n",
    "\n",
    "W_d_conv2 = weight_variable([5, 5, 1, 16])\n",
    "b_d_conv2 = bias_variable([1])\n",
    "output_shape_d_conv2 = tf.stack([tf.shape(x)[0], 28, 28, 1])\n",
    "h_d_conv2 = tf.nn.relu(tf.add(deconv2d(h_d_conv1, W_d_conv2, output_shape_d_conv2), b_d_conv2))\n",
    "\n",
    "x_reconstruct = h_d_conv2\n",
    "print(\"reconstruct layer shape : %s\" % x_reconstruct.get_shape())"
   ]
  },
  {
   "cell_type": "code",
   "execution_count": 27,
   "metadata": {},
   "outputs": [],
   "source": [
    "loss = tf.reduce_mean(tf.pow(x_reconstruct - x_origin, 2))\n",
    "train_step = tf.train.AdamOptimizer(0.0001).minimize(loss)"
   ]
  },
  {
   "cell_type": "code",
   "execution_count": 28,
   "metadata": {},
   "outputs": [],
   "source": [
    "init = tf.global_variables_initializer()\n",
    "\n",
    "sess = tf.Session()\n",
    "sess.run(init)\n",
    "\n",
    "batch_size = 100\n",
    "batches = x_train.shape[0]//batch_size\n",
    "index = np.arange(x_train.shape[0])\n",
    "\n"
   ]
  },
  {
   "cell_type": "code",
   "execution_count": 47,
   "metadata": {},
   "outputs": [
    {
     "name": "stdout",
     "output_type": "stream",
     "text": [
      "epoch:  0  , loss:  2.36482e-05\n",
      "epoch:  10  , loss:  0.000431394\n",
      "epoch:  20  , loss:  6.89903e-06\n",
      "epoch:  30  , loss:  6.78362e-06\n",
      "epoch:  40  , loss:  5.1658e-06\n",
      "epoch:  50  , loss:  4.70223e-06\n"
     ]
    },
    {
     "data": {
      "image/png": "[encoded data removed]",
      "text/plain": [
       "<matplotlib.figure.Figure at 0x7f52642442d0>"
      ]
     },
     "metadata": {},
     "output_type": "display_data"
    }
   ],
   "source": [
    "#Autoencoder\n",
    "for epoch in range(51):    \n",
    "#     np.random.shuffle(index)\n",
    "    for batch in range(batches):\n",
    "        sess.run(train_step, feed_dict={x: x_train[[index[batch_size*batch:batch_size*(batch+1)]]]})\n",
    "#     sess.run(train_step, feed_dict={xs: x_train[0:100], ys: y_train[0:100]})\n",
    "    \n",
    "    if epoch%10==0:\n",
    "        print \"epoch: \",epoch,\" , loss: \",sess.run(loss, feed_dict={x: x_train})\n",
    "#         print sess.run(tf.argmax(sess.run(layer1, feed_dict={xs: x_train})[0:50],1))\n",
    "#         print sess.run(tf.argmax(sess.run(prediction, feed_dict={xs: x_train})[0:50],1))\n",
    "#         print sess.run(tf.argmax(sess.run(output2, feed_dict={xs: x_train})[0:50],1))\n",
    "    \n",
    "\n",
    "\n",
    "x_ae = np.array([np.reshape(m,(28,28)) for m in sess.run(x_reconstruct, feed_dict={x:x_train})])\n",
    "x_train2 = np.array([np.reshape(m,(28,28)) for m in x_train])\n",
    "\n",
    "fig, ax = plt.subplots(nrows=2, ncols=6)\n",
    "\n",
    "for i0 in range(len(ax[0])):\n",
    "    ax[0][i0].imshow(x_train2[i0], cmap='gray')\n",
    "for i1 in range(len(ax[1])):\n",
    "    ax[1][i1].imshow(x_ae[i1], cmap='gray')"
   ]
  },
  {
   "cell_type": "code",
   "execution_count": 50,
   "metadata": {},
   "outputs": [
    {
     "data": {
      "image/png": "[encoded data removed]",
      "text/plain": [
       "<matplotlib.figure.Figure at 0x7f527f36c290>"
      ]
     },
     "metadata": {},
     "output_type": "display_data"
    }
   ],
   "source": [
    "# x_ae = np.array([np.reshape(m,(28,28)) for m in sess.run(layer6.output(tf.nn.sigmoid), feed_dict={xs:x_train})])\n",
    "x_ae = np.array([np.reshape(m,(28,28)) for m in sess.run(x_reconstruct, feed_dict={x:x_train})])\n",
    "x_train2 = np.array([np.reshape(m,(28,28)) for m in x_train])\n",
    "\n",
    "fig, ax = plt.subplots(nrows=2, ncols=6)\n",
    "\n",
    "for i0 in range(len(ax[0])):\n",
    "    ax[0][i0].imshow(x_train2[i0], cmap='gray')\n",
    "for i1 in range(len(ax[1])):\n",
    "    ax[1][i1].imshow(x_ae[i1], cmap='gray')"
   ]
  },
  {
   "cell_type": "code",
   "execution_count": null,
   "metadata": {},
   "outputs": [],
   "source": []
  },
  {
   "cell_type": "code",
   "execution_count": null,
   "metadata": {},
   "outputs": [],
   "source": []
  },
  {
   "cell_type": "code",
   "execution_count": null,
   "metadata": {},
   "outputs": [],
   "source": []
  },
  {
   "cell_type": "code",
   "execution_count": null,
   "metadata": {},
   "outputs": [],
   "source": []
  },
  {
   "cell_type": "code",
   "execution_count": null,
   "metadata": {},
   "outputs": [],
   "source": []
  },
  {
   "cell_type": "code",
   "execution_count": null,
   "metadata": {},
   "outputs": [],
   "source": []
  },
  {
   "cell_type": "code",
   "execution_count": null,
   "metadata": {},
   "outputs": [],
   "source": []
  },
  {
   "cell_type": "code",
   "execution_count": null,
   "metadata": {},
   "outputs": [],
   "source": []
  },
  {
   "cell_type": "code",
   "execution_count": null,
   "metadata": {},
   "outputs": [],
   "source": []
  },
  {
   "cell_type": "code",
   "execution_count": null,
   "metadata": {},
   "outputs": [],
   "source": []
  }
 ],
 "metadata": {
  "kernelspec": {
   "display_name": "Python 2",
   "language": "python",
   "name": "python2"
  },
  "language_info": {
   "codemirror_mode": {
    "name": "ipython",
    "version": 2
   },
   "file_extension": ".py",
   "mimetype": "text/x-python",
   "name": "python",
   "nbconvert_exporter": "python",
   "pygments_lexer": "ipython2",
   "version": "2.7.12"
  }
 },
 "nbformat": 4,
 "nbformat_minor": 2
}

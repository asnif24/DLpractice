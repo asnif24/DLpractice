{
 "cells": [
  {
   "cell_type": "code",
   "execution_count": 29,
   "metadata": {},
   "outputs": [],
   "source": [
    "import tensorflow as tf\n",
    "from tensorflow.examples.tutorials.mnist import input_data\n",
    "import numpy as np\n",
    "import matplotlib.pyplot as plt\n",
    "\n",
    "%matplotlib inline"
   ]
  },
  {
   "cell_type": "code",
   "execution_count": 42,
   "metadata": {},
   "outputs": [],
   "source": [
    "class layer:\n",
    "    def __init__(self, in_size, out_size):\n",
    "#         self.W = tf.Variable(tf.zeros([in_size, out_size]))\n",
    "        self.W = tf.Variable(tf.random_normal([in_size, out_size], mean=0.0, stddev=0.01))\n",
    "#         self.b = tf.Variable(tf.zeros([1,out_size]))\n",
    "#         self.b = tf.Variable(tf.constant(0.1, shape=[1,out_size]))\n",
    "        self.b = tf.Variable(tf.random_normal([1, out_size], mean=0.0, stddev=0.01))\n",
    "    \n",
    "        \n",
    "    def output(self, inputs, activation_function=None):\n",
    "        if activation_function == None:\n",
    "            return tf.matmul(inputs, self.W) + self.b\n",
    "        else :\n",
    "            return activation_function(tf.matmul(inputs, self.W) + self.b)"
   ]
  },
  {
   "cell_type": "code",
   "execution_count": 43,
   "metadata": {},
   "outputs": [
    {
     "name": "stdout",
     "output_type": "stream",
     "text": [
      "Extracting MNIST_data/train-images-idx3-ubyte.gz\n",
      "Extracting MNIST_data/train-labels-idx1-ubyte.gz\n",
      "Extracting MNIST_data/t10k-images-idx3-ubyte.gz\n",
      "Extracting MNIST_data/t10k-labels-idx1-ubyte.gz\n"
     ]
    }
   ],
   "source": [
    "mnist = input_data.read_data_sets(\"MNIST_data/\", one_hot = True)\n",
    "batch_size = 256\n",
    "g_dim = 128"
   ]
  },
  {
   "cell_type": "code",
   "execution_count": 44,
   "metadata": {},
   "outputs": [],
   "source": [
    "x_d = tf.placeholder(tf.float32, shape=[None, 784])\n",
    "x_g = tf.placeholder(tf.float32, shape=[None, 128])"
   ]
  },
  {
   "cell_type": "code",
   "execution_count": 45,
   "metadata": {},
   "outputs": [],
   "source": [
    "d_l1 = layer(784, g_dim)\n",
    "d_l2 = layer(g_dim, 1)\n",
    "\n",
    "g_l1 = layer(g_dim, 256)\n",
    "g_l2 = layer(256, 784)\n",
    "\n",
    "var_d = [d_l1.W, d_l1.b, d_l2.W, d_l2.b]\n",
    "var_g = [g_l1.W, g_l1.b, g_l2.W, g_l2.b]"
   ]
  },
  {
   "cell_type": "code",
   "execution_count": 46,
   "metadata": {},
   "outputs": [],
   "source": [
    "def discriminator(x):\n",
    "    h_d1 = d_l1.output(x, tf.nn.relu)\n",
    "    h_d2 = d_l2.output(h_d1, tf.nn.sigmoid)\n",
    "    return h_d2\n",
    "\n",
    "def generator(x):\n",
    "    h_g1 = g_l1.output(x, tf.nn.relu)\n",
    "    h_g2 = g_l2.output(h_g1, tf.nn.sigmoid)\n",
    "    return h_g2\n",
    "\n",
    "def sample_Z(m,n):\n",
    "    return np.random.uniform(-1., 1., size=[m,n])\n",
    "\n",
    "g_sample = generator(x_g)\n",
    "d_real = discriminator(x_d)\n",
    "d_fake = discriminator(g_sample)\n",
    "\n",
    "d_loss = -tf.reduce_mean(tf.log(d_real)+tf.log(1-d_fake))    # d_real, 1-d_fake bigger -> better\n",
    "g_loss = -tf.reduce_mean(tf.log(d_fake))    # d_fake bigger -> better\n"
   ]
  },
  {
   "cell_type": "code",
   "execution_count": 55,
   "metadata": {},
   "outputs": [],
   "source": [
    "d_optimizer = tf.train.AdamOptimizer(0.00003).minimize(d_loss, var_list = var_d)\n",
    "g_optimizer = tf.train.AdamOptimizer(0.00003).minimize(g_loss, var_list = var_g)"
   ]
  },
  {
   "cell_type": "code",
   "execution_count": 56,
   "metadata": {},
   "outputs": [
    {
     "name": "stdout",
     "output_type": "stream",
     "text": [
      "step: 0  d-loss: 1.37994  g-loss: 0.702405\n",
      "step: 1000  d-loss: 0.522309  g-loss: 2.96665\n",
      "step: 2000  d-loss: 0.96359  g-loss: 1.3541\n",
      "step: 3000  d-loss: 0.991985  g-loss: 1.24193\n",
      "step: 4000  d-loss: 0.979071  g-loss: 1.13577\n",
      "step: 5000  d-loss: 1.09433  g-loss: 0.905695\n",
      "step: 6000  d-loss: 1.30563  g-loss: 0.640911\n",
      "step: 7000  d-loss: 1.25377  g-loss: 0.564495\n",
      "step: 8000  d-loss: 1.26228  g-loss: 0.547918\n",
      "step: 9000  d-loss: 1.3177  g-loss: 0.552689\n",
      "step: 10000  d-loss: 1.28511  g-loss: 0.623009\n",
      "step: 11000  d-loss: 1.07464  g-loss: 0.824603\n",
      "step: 12000  d-loss: 0.941013  g-loss: 0.977839\n",
      "step: 13000  d-loss: 0.970323  g-loss: 1.02105\n",
      "step: 14000  d-loss: 0.835574  g-loss: 1.142\n",
      "step: 15000  d-loss: 0.94058  g-loss: 1.08585\n",
      "step: 16000  d-loss: 0.781637  g-loss: 1.14396\n",
      "step: 17000  d-loss: 0.812396  g-loss: 1.12312\n",
      "step: 18000  d-loss: 0.820979  g-loss: 1.14954\n",
      "step: 19000  d-loss: 1.07443  g-loss: 1.0843\n",
      "step: 20000  d-loss: 0.968502  g-loss: 1.17991\n"
     ]
    },
    {
     "data": {
      "image/png": "[encoded data removed]",
      "text/plain": [
       "<matplotlib.figure.Figure at 0x7fca36c97810>"
      ]
     },
     "metadata": {},
     "output_type": "display_data"
    }
   ],
   "source": [
    "init = tf.global_variables_initializer()\n",
    "sess = tf.Session()\n",
    "sess.run(init)\n",
    "\n",
    "for step in range(20001):\n",
    "    batch_x = mnist.train.next_batch(batch_size)[0]\n",
    "#     _, d_loss_train = sess.run([d_optimizer, d_loss], feed_dict={x_d: batch_x, x_g: sample_Z(batch_size, g_dim)})\n",
    "    sess.run(d_optimizer, feed_dict={x_d: batch_x, x_g: sample_Z(batch_size, g_dim)})\n",
    "#     _, g_loss_train = sess.run([g_optimizer, g_loss], feed_dict={x_g: sample_Z(batch_size, g_dim)})\n",
    "    sess.run(g_optimizer, feed_dict={x_g: sample_Z(batch_size, g_dim)})\n",
    "    if step%1000==0:\n",
    "        d_loss_train, g_loss_train = sess.run([d_loss, g_loss], feed_dict=\n",
    "                            {x_d: batch_x, x_g: sample_Z(batch_size, g_dim)})\n",
    "        print 'step:', step, ' d-loss:', d_loss_train, ' g-loss:', g_loss_train\n",
    "\n",
    "zz = sample_Z(batch_size, g_dim)\n",
    "gg = sess.run(g_sample, feed_dict = {x_g: zz})\n",
    "# gg = sess.run(g_sample, feed_dict = {x_g: sample_Z(batch_size, g_dim)})\n",
    "gg_pic = np.array([np.reshape(m,(28,28)) for m in gg])\n",
    "fig, ax = plt.subplots(nrows=3, ncols=3)\n",
    "for i,row in enumerate(ax):\n",
    "    for j,col in enumerate(row):\n",
    "        ax[i][j].imshow(gg_pic[i*3+j], cmap='gray')\n"
   ]
  },
  {
   "cell_type": "code",
   "execution_count": 57,
   "metadata": {},
   "outputs": [
    {
     "name": "stdout",
     "output_type": "stream",
     "text": [
      "step: 0  d-loss: 1.00025  g-loss: 1.10962\n",
      "step: 1000  d-loss: 0.88363  g-loss: 1.17284\n",
      "step: 2000  d-loss: 0.792074  g-loss: 1.2462\n",
      "step: 3000  d-loss: 0.988545  g-loss: 1.07126\n",
      "step: 4000  d-loss: 0.868466  g-loss: 1.16003\n",
      "step: 5000  d-loss: 0.882058  g-loss: 1.05231\n",
      "step: 6000  d-loss: 0.914829  g-loss: 1.06049\n",
      "step: 7000  d-loss: 0.841191  g-loss: 1.212\n",
      "step: 8000  d-loss: 0.796479  g-loss: 1.30614\n",
      "step: 9000  d-loss: 0.853633  g-loss: 1.15465\n",
      "step: 10000  d-loss: 0.836867  g-loss: 1.21891\n",
      "step: 11000  d-loss: 0.781589  g-loss: 1.29157\n",
      "step: 12000  d-loss: 0.844492  g-loss: 1.13469\n",
      "step: 13000  d-loss: 0.826341  g-loss: 1.23906\n",
      "step: 14000  d-loss: 0.977776  g-loss: 1.16397\n",
      "step: 15000  d-loss: 0.903497  g-loss: 1.15131\n",
      "step: 16000  d-loss: 0.901091  g-loss: 1.1118\n",
      "step: 17000  d-loss: 0.871058  g-loss: 1.15371\n",
      "step: 18000  d-loss: 0.841184  g-loss: 1.20214\n",
      "step: 19000  d-loss: 0.790267  g-loss: 1.24049\n",
      "step: 20000  d-loss: 0.734003  g-loss: 1.31652\n",
      "step: 21000  d-loss: 0.650191  g-loss: 1.50202\n",
      "step: 22000  d-loss: 0.654167  g-loss: 1.48271\n",
      "step: 23000  d-loss: 0.752628  g-loss: 1.53427\n",
      "step: 24000  d-loss: 0.604151  g-loss: 1.62862\n",
      "step: 25000  d-loss: 0.574576  g-loss: 1.56651\n",
      "step: 26000  d-loss: 0.45479  g-loss: 1.97646\n",
      "step: 27000  d-loss: 0.771855  g-loss: 1.33351\n",
      "step: 28000  d-loss: 0.657088  g-loss: 1.58236\n",
      "step: 29000  d-loss: 0.748654  g-loss: 1.47347\n",
      "step: 30000  d-loss: 0.861025  g-loss: 1.25084\n",
      "step: 31000  d-loss: 0.824969  g-loss: 1.32095\n",
      "step: 32000  d-loss: 0.787162  g-loss: 1.34243\n",
      "step: 33000  d-loss: 0.724347  g-loss: 1.50193\n",
      "step: 34000  d-loss: 0.660052  g-loss: 1.50913\n",
      "step: 35000  d-loss: 0.600707  g-loss: 1.45507\n",
      "step: 36000  d-loss: 0.694286  g-loss: 1.47448\n",
      "step: 37000  d-loss: 0.584804  g-loss: 1.52025\n",
      "step: 38000  d-loss: 0.568484  g-loss: 1.59058\n",
      "step: 39000  d-loss: 0.568809  g-loss: 1.61153\n",
      "step: 40000  d-loss: 0.497039  g-loss: 1.6805\n",
      "step: 41000  d-loss: 0.531679  g-loss: 1.67558\n",
      "step: 42000  d-loss: 0.562539  g-loss: 1.71392\n",
      "step: 43000  d-loss: 0.46239  g-loss: 1.93345\n",
      "step: 44000  d-loss: 0.48112  g-loss: 1.71888\n",
      "step: 45000  d-loss: 0.573049  g-loss: 1.68342\n",
      "step: 46000  d-loss: 0.500711  g-loss: 1.73666\n",
      "step: 47000  d-loss: 0.524243  g-loss: 1.86132\n",
      "step: 48000  d-loss: 0.557753  g-loss: 1.77701\n",
      "step: 49000  d-loss: 0.452225  g-loss: 1.81631\n",
      "step: 50000  d-loss: 0.534247  g-loss: 1.77973\n"
     ]
    },
    {
     "data": {
      "image/png": "[encoded data removed]",
      "text/plain": [
       "<matplotlib.figure.Figure at 0x7fca5c168890>"
      ]
     },
     "metadata": {},
     "output_type": "display_data"
    }
   ],
   "source": [
    "for step in range(50001):\n",
    "    batch_x = mnist.train.next_batch(batch_size)[0]\n",
    "#     _, d_loss_train = sess.run([d_optimizer, d_loss], feed_dict={x_d: batch_x, x_g: sample_Z(batch_size, g_dim)})\n",
    "    sess.run(d_optimizer, feed_dict={x_d: batch_x, x_g: sample_Z(batch_size, g_dim)})\n",
    "#     _, g_loss_train = sess.run([g_optimizer, g_loss], feed_dict={x_g: sample_Z(batch_size, g_dim)})\n",
    "    sess.run(g_optimizer, feed_dict={x_g: sample_Z(batch_size, g_dim)})\n",
    "    if step%1000==0:\n",
    "        d_loss_train, g_loss_train = sess.run([d_loss, g_loss], feed_dict=\n",
    "                            {x_d: batch_x, x_g: sample_Z(batch_size, g_dim)})\n",
    "        print 'step:', step, ' d-loss:', d_loss_train, ' g-loss:', g_loss_train\n",
    "        if d_loss_train<1. and g_loss_train<1. :\n",
    "            break\n",
    "\n",
    "zz = sample_Z(batch_size, g_dim)\n",
    "gg = sess.run(g_sample, feed_dict = {x_g: zz})\n",
    "# gg = sess.run(g_sample, feed_dict = {x_g: sample_Z(batch_size, g_dim)})\n",
    "gg_pic = np.array([np.reshape(m,(28,28)) for m in gg])\n",
    "fig, ax = plt.subplots(nrows=3, ncols=3)\n",
    "for i,row in enumerate(ax):\n",
    "    for j,col in enumerate(row):\n",
    "        ax[i][j].imshow(gg_pic[i*3+j], cmap='gray')"
   ]
  },
  {
   "cell_type": "code",
   "execution_count": 58,
   "metadata": {},
   "outputs": [
    {
     "name": "stdout",
     "output_type": "stream",
     "text": [
      "step: 0  d-loss: 0.58757  g-loss: 1.76931\n",
      "step: 1000  d-loss: 0.522093  g-loss: 1.92261\n",
      "step: 2000  d-loss: 0.499806  g-loss: 1.90954\n",
      "step: 3000  d-loss: 0.517347  g-loss: 1.87499\n",
      "step: 4000  d-loss: 0.562874  g-loss: 1.90112\n",
      "step: 5000  d-loss: 0.518282  g-loss: 1.87929\n",
      "step: 6000  d-loss: 0.590301  g-loss: 1.80154\n",
      "step: 7000  d-loss: 0.595789  g-loss: 1.71658\n",
      "step: 8000  d-loss: 0.575677  g-loss: 1.74024\n",
      "step: 9000  d-loss: 0.532695  g-loss: 1.80966\n",
      "step: 10000  d-loss: 0.617757  g-loss: 1.69601\n",
      "step: 11000  d-loss: 0.549402  g-loss: 1.79342\n",
      "step: 12000  d-loss: 0.616854  g-loss: 1.78625\n",
      "step: 13000  d-loss: 0.571698  g-loss: 1.86347\n",
      "step: 14000  d-loss: 0.57975  g-loss: 1.81542\n",
      "step: 15000  d-loss: 0.567021  g-loss: 1.90713\n",
      "step: 16000  d-loss: 0.575631  g-loss: 1.77218\n",
      "step: 17000  d-loss: 0.513963  g-loss: 1.96944\n",
      "step: 18000  d-loss: 0.586429  g-loss: 1.86989\n",
      "step: 19000  d-loss: 0.542875  g-loss: 1.92564\n",
      "step: 20000  d-loss: 0.541094  g-loss: 1.80602\n",
      "step: 21000  d-loss: 0.549822  g-loss: 1.78615\n",
      "step: 22000  d-loss: 0.560894  g-loss: 1.94303\n",
      "step: 23000  d-loss: 0.590855  g-loss: 1.79679\n",
      "step: 24000  d-loss: 0.514041  g-loss: 1.98762\n",
      "step: 25000  d-loss: 0.508739  g-loss: 1.95382\n",
      "step: 26000  d-loss: 0.453042  g-loss: 2.06127\n",
      "step: 27000  d-loss: 0.4253  g-loss: 2.18223\n",
      "step: 28000  d-loss: 0.423648  g-loss: 2.21237\n",
      "step: 29000  d-loss: 0.43785  g-loss: 2.12159\n",
      "step: 30000  d-loss: 0.44082  g-loss: 2.13557\n",
      "step: 31000  d-loss: 0.389957  g-loss: 2.18196\n",
      "step: 32000  d-loss: 0.386009  g-loss: 2.25981\n",
      "step: 33000  d-loss: 0.418248  g-loss: 2.14125\n",
      "step: 34000  d-loss: 0.468424  g-loss: 2.07856\n",
      "step: 35000  d-loss: 0.471965  g-loss: 2.10039\n",
      "step: 36000  d-loss: 0.462744  g-loss: 2.10005\n",
      "step: 37000  d-loss: 0.488642  g-loss: 2.04738\n",
      "step: 38000  d-loss: 0.446736  g-loss: 2.25422\n",
      "step: 39000  d-loss: 0.479532  g-loss: 2.15022\n",
      "step: 40000  d-loss: 0.485426  g-loss: 2.08803\n",
      "step: 41000  d-loss: 0.516456  g-loss: 1.9866\n",
      "step: 42000  d-loss: 0.522729  g-loss: 2.07421\n",
      "step: 43000  d-loss: 0.473367  g-loss: 2.11127\n",
      "step: 44000  d-loss: 0.48959  g-loss: 1.98393\n",
      "step: 45000  d-loss: 0.537145  g-loss: 1.96867\n",
      "step: 46000  d-loss: 0.531513  g-loss: 2.06124\n",
      "step: 47000  d-loss: 0.623708  g-loss: 2.00052\n",
      "step: 48000  d-loss: 0.521089  g-loss: 2.01665\n",
      "step: 49000  d-loss: 0.527502  g-loss: 2.09573\n",
      "step: 50000  d-loss: 0.586372  g-loss: 2.02554\n"
     ]
    },
    {
     "data": {
      "image/png": "[encoded data removed]",
      "text/plain": [
       "<matplotlib.figure.Figure at 0x7fca5ce96e50>"
      ]
     },
     "metadata": {},
     "output_type": "display_data"
    }
   ],
   "source": [
    "for step in range(50001):\n",
    "    batch_x = mnist.train.next_batch(batch_size)[0]\n",
    "#     _, d_loss_train = sess.run([d_optimizer, d_loss], feed_dict={x_d: batch_x, x_g: sample_Z(batch_size, g_dim)})\n",
    "    sess.run(d_optimizer, feed_dict={x_d: batch_x, x_g: sample_Z(batch_size, g_dim)})\n",
    "#     _, g_loss_train = sess.run([g_optimizer, g_loss], feed_dict={x_g: sample_Z(batch_size, g_dim)})\n",
    "    sess.run(g_optimizer, feed_dict={x_g: sample_Z(batch_size, g_dim)})\n",
    "    if step%1000==0:\n",
    "        d_loss_train, g_loss_train = sess.run([d_loss, g_loss], feed_dict=\n",
    "                            {x_d: batch_x, x_g: sample_Z(batch_size, g_dim)})\n",
    "        print 'step:', step, ' d-loss:', d_loss_train, ' g-loss:', g_loss_train\n",
    "        if d_loss_train<1. and g_loss_train<1. :\n",
    "            break\n",
    "\n",
    "# zz = sample_Z(batch_size, g_dim)\n",
    "gg = sess.run(g_sample, feed_dict = {x_g: zz})\n",
    "# gg = sess.run(g_sample, feed_dict = {x_g: sample_Z(batch_size, g_dim)})\n",
    "gg_pic = np.array([np.reshape(m,(28,28)) for m in gg])\n",
    "fig, ax = plt.subplots(nrows=3, ncols=3)\n",
    "for i,row in enumerate(ax):\n",
    "    for j,col in enumerate(row):\n",
    "        ax[i][j].imshow(gg_pic[i*3+j], cmap='gray')"
   ]
  },
  {
   "cell_type": "code",
   "execution_count": 60,
   "metadata": {},
   "outputs": [
    {
     "name": "stdout",
     "output_type": "stream",
     "text": [
      "step: 0  d-loss: 0.689405  g-loss: 1.76538\n",
      "step: 1000  d-loss: 0.720091  g-loss: 1.77148\n",
      "step: 2000  d-loss: 0.63783  g-loss: 1.84894\n",
      "step: 3000  d-loss: 0.768359  g-loss: 1.69308\n",
      "step: 4000  d-loss: 0.642236  g-loss: 1.92746\n",
      "step: 5000  d-loss: 0.700051  g-loss: 1.74665\n",
      "step: 6000  d-loss: 0.751301  g-loss: 1.9059\n",
      "step: 7000  d-loss: 0.560945  g-loss: 2.02689\n",
      "step: 8000  d-loss: 0.68651  g-loss: 1.76775\n",
      "step: 9000  d-loss: 0.751329  g-loss: 1.77361\n",
      "step: 10000  d-loss: 0.702232  g-loss: 1.70083\n",
      "step: 11000  d-loss: 0.714947  g-loss: 1.89112\n",
      "step: 12000  d-loss: 0.670437  g-loss: 1.80841\n",
      "step: 13000  d-loss: 0.71338  g-loss: 1.85468\n",
      "step: 14000  d-loss: 0.713452  g-loss: 1.8182\n",
      "step: 15000  d-loss: 0.753993  g-loss: 1.7052\n",
      "step: 16000  d-loss: 0.777876  g-loss: 1.76389\n",
      "step: 17000  d-loss: 0.654094  g-loss: 1.71913\n",
      "step: 18000  d-loss: 0.705933  g-loss: 1.7899\n",
      "step: 19000  d-loss: 0.684919  g-loss: 1.78723\n",
      "step: 20000  d-loss: 0.725403  g-loss: 1.70332\n",
      "step: 21000  d-loss: 0.732477  g-loss: 1.78603\n",
      "step: 22000  d-loss: 0.752291  g-loss: 1.72777\n",
      "step: 23000  d-loss: 0.729377  g-loss: 1.88097\n",
      "step: 24000  d-loss: 0.831624  g-loss: 1.7173\n",
      "step: 25000  d-loss: 0.727297  g-loss: 1.82275\n",
      "step: 26000  d-loss: 0.76103  g-loss: 1.69148\n",
      "step: 27000  d-loss: 0.722152  g-loss: 1.77306\n",
      "step: 28000  d-loss: 0.797302  g-loss: 1.63354\n",
      "step: 29000  d-loss: 0.664171  g-loss: 1.86913\n",
      "step: 30000  d-loss: 0.722263  g-loss: 1.80465\n",
      "step: 31000  d-loss: 0.730197  g-loss: 1.80306\n",
      "step: 32000  d-loss: 0.779408  g-loss: 1.84044\n",
      "step: 33000  d-loss: 0.692139  g-loss: 1.7117\n",
      "step: 34000  d-loss: 0.704364  g-loss: 1.67119\n",
      "step: 35000  d-loss: 0.765574  g-loss: 1.73706\n",
      "step: 36000  d-loss: 0.700114  g-loss: 1.71345\n",
      "step: 37000  d-loss: 0.7747  g-loss: 1.69742\n",
      "step: 38000  d-loss: 0.757492  g-loss: 1.74075\n",
      "step: 39000  d-loss: 0.731002  g-loss: 1.7895\n",
      "step: 40000  d-loss: 0.752226  g-loss: 1.78158\n",
      "step: 41000  d-loss: 0.770664  g-loss: 1.7196\n",
      "step: 42000  d-loss: 0.617553  g-loss: 1.78413\n",
      "step: 43000  d-loss: 0.741961  g-loss: 1.81289\n",
      "step: 44000  d-loss: 0.698677  g-loss: 1.69996\n",
      "step: 45000  d-loss: 0.798379  g-loss: 1.70298\n",
      "step: 46000  d-loss: 0.81104  g-loss: 1.70011\n",
      "step: 47000  d-loss: 0.729915  g-loss: 1.64987\n",
      "step: 48000  d-loss: 0.708149  g-loss: 1.8104\n",
      "step: 49000  d-loss: 0.738  g-loss: 1.79039\n",
      "step: 50000  d-loss: 0.725354  g-loss: 1.80671\n"
     ]
    },
    {
     "data": {
      "image/png": "[encoded data removed]",
      "text/plain": [
       "<matplotlib.figure.Figure at 0x7fca36d3bc50>"
      ]
     },
     "metadata": {},
     "output_type": "display_data"
    }
   ],
   "source": [
    "for step in range(50001):\n",
    "    batch_x = mnist.train.next_batch(batch_size)[0]\n",
    "#     _, d_loss_train = sess.run([d_optimizer, d_loss], feed_dict={x_d: batch_x, x_g: sample_Z(batch_size, g_dim)})\n",
    "    sess.run(d_optimizer, feed_dict={x_d: batch_x, x_g: sample_Z(batch_size, g_dim)})\n",
    "#     _, g_loss_train = sess.run([g_optimizer, g_loss], feed_dict={x_g: sample_Z(batch_size, g_dim)})\n",
    "    sess.run(g_optimizer, feed_dict={x_g: sample_Z(batch_size, g_dim)})\n",
    "    if step%1000==0:\n",
    "        d_loss_train, g_loss_train = sess.run([d_loss, g_loss], feed_dict=\n",
    "                            {x_d: batch_x, x_g: sample_Z(batch_size, g_dim)})\n",
    "        print 'step:', step, ' d-loss:', d_loss_train, ' g-loss:', g_loss_train\n",
    "        if d_loss_train<1.5 and g_loss_train<1.5 :\n",
    "            break\n",
    "\n",
    "# zz = sample_Z(batch_size, g_dim)\n",
    "gg = sess.run(g_sample, feed_dict = {x_g: zz})\n",
    "# gg = sess.run(g_sample, feed_dict = {x_g: sample_Z(batch_size, g_dim)})\n",
    "gg_pic = np.array([np.reshape(m,(28,28)) for m in gg])\n",
    "fig, ax = plt.subplots(nrows=3, ncols=3)\n",
    "for i,row in enumerate(ax):\n",
    "    for j,col in enumerate(row):\n",
    "        ax[i][j].imshow(gg_pic[i*3+j], cmap='gray')"
   ]
  },
  {
   "cell_type": "code",
   "execution_count": 61,
   "metadata": {},
   "outputs": [
    {
     "name": "stdout",
     "output_type": "stream",
     "text": [
      "step: 0  d-loss: 0.67844  g-loss: 1.84176\n",
      "step: 1000  d-loss: 0.735484  g-loss: 1.77122\n",
      "step: 2000  d-loss: 0.701726  g-loss: 1.8253\n",
      "step: 3000  d-loss: 0.783137  g-loss: 1.73584\n",
      "step: 4000  d-loss: 0.725918  g-loss: 1.69626\n",
      "step: 5000  d-loss: 0.703575  g-loss: 1.78666\n",
      "step: 6000  d-loss: 0.809319  g-loss: 1.70256\n",
      "step: 7000  d-loss: 0.768983  g-loss: 1.6007\n",
      "step: 8000  d-loss: 0.749025  g-loss: 1.82507\n",
      "step: 9000  d-loss: 0.72166  g-loss: 1.76702\n",
      "step: 10000  d-loss: 0.844308  g-loss: 1.67886\n",
      "step: 11000  d-loss: 0.774709  g-loss: 1.74928\n",
      "step: 12000  d-loss: 0.72114  g-loss: 1.83341\n",
      "step: 13000  d-loss: 0.758098  g-loss: 1.85115\n",
      "step: 14000  d-loss: 0.766542  g-loss: 1.78518\n",
      "step: 15000  d-loss: 0.697457  g-loss: 1.81452\n",
      "step: 16000  d-loss: 0.754214  g-loss: 1.82327\n",
      "step: 17000  d-loss: 0.690539  g-loss: 1.77624\n",
      "step: 18000  d-loss: 0.726351  g-loss: 1.67686\n",
      "step: 19000  d-loss: 0.700163  g-loss: 1.89845\n",
      "step: 20000  d-loss: 0.814417  g-loss: 1.6119\n",
      "step: 21000  d-loss: 0.804299  g-loss: 1.81889\n",
      "step: 22000  d-loss: 0.723283  g-loss: 1.82952\n",
      "step: 23000  d-loss: 0.7585  g-loss: 1.66353\n",
      "step: 24000  d-loss: 0.837238  g-loss: 1.58851\n",
      "step: 25000  d-loss: 0.726834  g-loss: 1.76192\n",
      "step: 26000  d-loss: 0.805063  g-loss: 1.7776\n",
      "step: 27000  d-loss: 0.774513  g-loss: 1.653\n",
      "step: 28000  d-loss: 0.835087  g-loss: 1.68331\n",
      "step: 29000  d-loss: 0.784087  g-loss: 1.85296\n",
      "step: 30000  d-loss: 0.817319  g-loss: 1.65492\n",
      "step: 31000  d-loss: nan  g-loss: nan\n",
      "step: 32000  d-loss: nan  g-loss: nan\n",
      "step: 33000  d-loss: nan  g-loss: nan\n",
      "step: 34000  d-loss: nan  g-loss: nan\n",
      "step: 35000  d-loss: nan  g-loss: nan\n",
      "step: 36000  d-loss: nan  g-loss: nan\n",
      "step: 37000  d-loss: nan  g-loss: nan\n",
      "step: 38000  d-loss: nan  g-loss: nan\n",
      "step: 39000  d-loss: nan  g-loss: nan\n",
      "step: 40000  d-loss: nan  g-loss: nan\n",
      "step: 41000  d-loss: nan  g-loss: nan\n",
      "step: 42000  d-loss: nan  g-loss: nan\n",
      "step: 43000  d-loss: nan  g-loss: nan\n",
      "step: 44000  d-loss: nan  g-loss: nan\n",
      "step: 45000  d-loss: nan  g-loss: nan\n",
      "step: 46000  d-loss: nan  g-loss: nan\n",
      "step: 47000  d-loss: nan  g-loss: nan\n",
      "step: 48000  d-loss: nan  g-loss: nan\n",
      "step: 49000  d-loss: nan  g-loss: nan\n",
      "step: 50000  d-loss: nan  g-loss: nan\n"
     ]
    },
    {
     "ename": "AttributeError",
     "evalue": "'MaskedConstant' object has no attribute '_fill_value'",
     "output_type": "error",
     "traceback": [
      "\u001b[0;31m---------------------------------------------------------------------------\u001b[0m",
      "\u001b[0;31mAttributeError\u001b[0m                            Traceback (most recent call last)",
      "\u001b[0;32m/usr/local/lib/python2.7/dist-packages/IPython/core/formatters.pyc\u001b[0m in \u001b[0;36m__call__\u001b[0;34m(self, obj)\u001b[0m\n\u001b[1;32m    332\u001b[0m                 \u001b[0;32mpass\u001b[0m\u001b[0;34m\u001b[0m\u001b[0m\n\u001b[1;32m    333\u001b[0m             \u001b[0;32melse\u001b[0m\u001b[0;34m:\u001b[0m\u001b[0;34m\u001b[0m\u001b[0m\n\u001b[0;32m--> 334\u001b[0;31m                 \u001b[0;32mreturn\u001b[0m \u001b[0mprinter\u001b[0m\u001b[0;34m(\u001b[0m\u001b[0mobj\u001b[0m\u001b[0;34m)\u001b[0m\u001b[0;34m\u001b[0m\u001b[0m\n\u001b[0m\u001b[1;32m    335\u001b[0m             \u001b[0;31m# Finally look for special method names\u001b[0m\u001b[0;34m\u001b[0m\u001b[0;34m\u001b[0m\u001b[0m\n\u001b[1;32m    336\u001b[0m             \u001b[0mmethod\u001b[0m \u001b[0;34m=\u001b[0m \u001b[0mget_real_method\u001b[0m\u001b[0;34m(\u001b[0m\u001b[0mobj\u001b[0m\u001b[0;34m,\u001b[0m \u001b[0mself\u001b[0m\u001b[0;34m.\u001b[0m\u001b[0mprint_method\u001b[0m\u001b[0;34m)\u001b[0m\u001b[0;34m\u001b[0m\u001b[0m\n",
      "\u001b[0;32m/usr/local/lib/python2.7/dist-packages/IPython/core/pylabtools.pyc\u001b[0m in \u001b[0;36m<lambda>\u001b[0;34m(fig)\u001b[0m\n\u001b[1;32m    239\u001b[0m \u001b[0;34m\u001b[0m\u001b[0m\n\u001b[1;32m    240\u001b[0m     \u001b[0;32mif\u001b[0m \u001b[0;34m'png'\u001b[0m \u001b[0;32min\u001b[0m \u001b[0mformats\u001b[0m\u001b[0;34m:\u001b[0m\u001b[0;34m\u001b[0m\u001b[0m\n\u001b[0;32m--> 241\u001b[0;31m         \u001b[0mpng_formatter\u001b[0m\u001b[0;34m.\u001b[0m\u001b[0mfor_type\u001b[0m\u001b[0;34m(\u001b[0m\u001b[0mFigure\u001b[0m\u001b[0;34m,\u001b[0m \u001b[0;32mlambda\u001b[0m \u001b[0mfig\u001b[0m\u001b[0;34m:\u001b[0m \u001b[0mprint_figure\u001b[0m\u001b[0;34m(\u001b[0m\u001b[0mfig\u001b[0m\u001b[0;34m,\u001b[0m \u001b[0;34m'png'\u001b[0m\u001b[0;34m,\u001b[0m \u001b[0;34m**\u001b[0m\u001b[0mkwargs\u001b[0m\u001b[0;34m)\u001b[0m\u001b[0;34m)\u001b[0m\u001b[0;34m\u001b[0m\u001b[0m\n\u001b[0m\u001b[1;32m    242\u001b[0m     \u001b[0;32mif\u001b[0m \u001b[0;34m'retina'\u001b[0m \u001b[0;32min\u001b[0m \u001b[0mformats\u001b[0m \u001b[0;32mor\u001b[0m \u001b[0;34m'png2x'\u001b[0m \u001b[0;32min\u001b[0m \u001b[0mformats\u001b[0m\u001b[0;34m:\u001b[0m\u001b[0;34m\u001b[0m\u001b[0m\n\u001b[1;32m    243\u001b[0m         \u001b[0mpng_formatter\u001b[0m\u001b[0;34m.\u001b[0m\u001b[0mfor_type\u001b[0m\u001b[0;34m(\u001b[0m\u001b[0mFigure\u001b[0m\u001b[0;34m,\u001b[0m \u001b[0;32mlambda\u001b[0m \u001b[0mfig\u001b[0m\u001b[0;34m:\u001b[0m \u001b[0mretina_figure\u001b[0m\u001b[0;34m(\u001b[0m\u001b[0mfig\u001b[0m\u001b[0;34m,\u001b[0m \u001b[0;34m**\u001b[0m\u001b[0mkwargs\u001b[0m\u001b[0;34m)\u001b[0m\u001b[0;34m)\u001b[0m\u001b[0;34m\u001b[0m\u001b[0m\n",
      "\u001b[0;32m/usr/local/lib/python2.7/dist-packages/IPython/core/pylabtools.pyc\u001b[0m in \u001b[0;36mprint_figure\u001b[0;34m(fig, fmt, bbox_inches, **kwargs)\u001b[0m\n\u001b[1;32m    123\u001b[0m \u001b[0;34m\u001b[0m\u001b[0m\n\u001b[1;32m    124\u001b[0m     \u001b[0mbytes_io\u001b[0m \u001b[0;34m=\u001b[0m \u001b[0mBytesIO\u001b[0m\u001b[0;34m(\u001b[0m\u001b[0;34m)\u001b[0m\u001b[0;34m\u001b[0m\u001b[0m\n\u001b[0;32m--> 125\u001b[0;31m     \u001b[0mfig\u001b[0m\u001b[0;34m.\u001b[0m\u001b[0mcanvas\u001b[0m\u001b[0;34m.\u001b[0m\u001b[0mprint_figure\u001b[0m\u001b[0;34m(\u001b[0m\u001b[0mbytes_io\u001b[0m\u001b[0;34m,\u001b[0m \u001b[0;34m**\u001b[0m\u001b[0mkw\u001b[0m\u001b[0;34m)\u001b[0m\u001b[0;34m\u001b[0m\u001b[0m\n\u001b[0m\u001b[1;32m    126\u001b[0m     \u001b[0mdata\u001b[0m \u001b[0;34m=\u001b[0m \u001b[0mbytes_io\u001b[0m\u001b[0;34m.\u001b[0m\u001b[0mgetvalue\u001b[0m\u001b[0;34m(\u001b[0m\u001b[0;34m)\u001b[0m\u001b[0;34m\u001b[0m\u001b[0m\n\u001b[1;32m    127\u001b[0m     \u001b[0;32mif\u001b[0m \u001b[0mfmt\u001b[0m \u001b[0;34m==\u001b[0m \u001b[0;34m'svg'\u001b[0m\u001b[0;34m:\u001b[0m\u001b[0;34m\u001b[0m\u001b[0m\n",
      "\u001b[0;32m/usr/local/lib/python2.7/dist-packages/matplotlib/backend_bases.pyc\u001b[0m in \u001b[0;36mprint_figure\u001b[0;34m(self, filename, dpi, facecolor, edgecolor, orientation, format, **kwargs)\u001b[0m\n\u001b[1;32m   2206\u001b[0m                     \u001b[0morientation\u001b[0m\u001b[0;34m=\u001b[0m\u001b[0morientation\u001b[0m\u001b[0;34m,\u001b[0m\u001b[0;34m\u001b[0m\u001b[0m\n\u001b[1;32m   2207\u001b[0m                     \u001b[0mdryrun\u001b[0m\u001b[0;34m=\u001b[0m\u001b[0mTrue\u001b[0m\u001b[0;34m,\u001b[0m\u001b[0;34m\u001b[0m\u001b[0m\n\u001b[0;32m-> 2208\u001b[0;31m                     **kwargs)\n\u001b[0m\u001b[1;32m   2209\u001b[0m                 \u001b[0mrenderer\u001b[0m \u001b[0;34m=\u001b[0m \u001b[0mself\u001b[0m\u001b[0;34m.\u001b[0m\u001b[0mfigure\u001b[0m\u001b[0;34m.\u001b[0m\u001b[0m_cachedRenderer\u001b[0m\u001b[0;34m\u001b[0m\u001b[0m\n\u001b[1;32m   2210\u001b[0m                 \u001b[0mbbox_inches\u001b[0m \u001b[0;34m=\u001b[0m \u001b[0mself\u001b[0m\u001b[0;34m.\u001b[0m\u001b[0mfigure\u001b[0m\u001b[0;34m.\u001b[0m\u001b[0mget_tightbbox\u001b[0m\u001b[0;34m(\u001b[0m\u001b[0mrenderer\u001b[0m\u001b[0;34m)\u001b[0m\u001b[0;34m\u001b[0m\u001b[0m\n",
      "\u001b[0;32m/usr/local/lib/python2.7/dist-packages/matplotlib/backends/backend_agg.pyc\u001b[0m in \u001b[0;36mprint_png\u001b[0;34m(self, filename_or_obj, *args, **kwargs)\u001b[0m\n\u001b[1;32m    505\u001b[0m \u001b[0;34m\u001b[0m\u001b[0m\n\u001b[1;32m    506\u001b[0m     \u001b[0;32mdef\u001b[0m \u001b[0mprint_png\u001b[0m\u001b[0;34m(\u001b[0m\u001b[0mself\u001b[0m\u001b[0;34m,\u001b[0m \u001b[0mfilename_or_obj\u001b[0m\u001b[0;34m,\u001b[0m \u001b[0;34m*\u001b[0m\u001b[0margs\u001b[0m\u001b[0;34m,\u001b[0m \u001b[0;34m**\u001b[0m\u001b[0mkwargs\u001b[0m\u001b[0;34m)\u001b[0m\u001b[0;34m:\u001b[0m\u001b[0;34m\u001b[0m\u001b[0m\n\u001b[0;32m--> 507\u001b[0;31m         \u001b[0mFigureCanvasAgg\u001b[0m\u001b[0;34m.\u001b[0m\u001b[0mdraw\u001b[0m\u001b[0;34m(\u001b[0m\u001b[0mself\u001b[0m\u001b[0;34m)\u001b[0m\u001b[0;34m\u001b[0m\u001b[0m\n\u001b[0m\u001b[1;32m    508\u001b[0m         \u001b[0mrenderer\u001b[0m \u001b[0;34m=\u001b[0m \u001b[0mself\u001b[0m\u001b[0;34m.\u001b[0m\u001b[0mget_renderer\u001b[0m\u001b[0;34m(\u001b[0m\u001b[0;34m)\u001b[0m\u001b[0;34m\u001b[0m\u001b[0m\n\u001b[1;32m    509\u001b[0m         \u001b[0moriginal_dpi\u001b[0m \u001b[0;34m=\u001b[0m \u001b[0mrenderer\u001b[0m\u001b[0;34m.\u001b[0m\u001b[0mdpi\u001b[0m\u001b[0;34m\u001b[0m\u001b[0m\n",
      "\u001b[0;32m/usr/local/lib/python2.7/dist-packages/matplotlib/backends/backend_agg.pyc\u001b[0m in \u001b[0;36mdraw\u001b[0;34m(self)\u001b[0m\n\u001b[1;32m    428\u001b[0m             \u001b[0;32mif\u001b[0m \u001b[0mtoolbar\u001b[0m\u001b[0;34m:\u001b[0m\u001b[0;34m\u001b[0m\u001b[0m\n\u001b[1;32m    429\u001b[0m                 \u001b[0mtoolbar\u001b[0m\u001b[0;34m.\u001b[0m\u001b[0mset_cursor\u001b[0m\u001b[0;34m(\u001b[0m\u001b[0mcursors\u001b[0m\u001b[0;34m.\u001b[0m\u001b[0mWAIT\u001b[0m\u001b[0;34m)\u001b[0m\u001b[0;34m\u001b[0m\u001b[0m\n\u001b[0;32m--> 430\u001b[0;31m             \u001b[0mself\u001b[0m\u001b[0;34m.\u001b[0m\u001b[0mfigure\u001b[0m\u001b[0;34m.\u001b[0m\u001b[0mdraw\u001b[0m\u001b[0;34m(\u001b[0m\u001b[0mself\u001b[0m\u001b[0;34m.\u001b[0m\u001b[0mrenderer\u001b[0m\u001b[0;34m)\u001b[0m\u001b[0;34m\u001b[0m\u001b[0m\n\u001b[0m\u001b[1;32m    431\u001b[0m         \u001b[0;32mfinally\u001b[0m\u001b[0;34m:\u001b[0m\u001b[0;34m\u001b[0m\u001b[0m\n\u001b[1;32m    432\u001b[0m             \u001b[0;32mif\u001b[0m \u001b[0mtoolbar\u001b[0m\u001b[0;34m:\u001b[0m\u001b[0;34m\u001b[0m\u001b[0m\n",
      "\u001b[0;32m/usr/local/lib/python2.7/dist-packages/matplotlib/artist.pyc\u001b[0m in \u001b[0;36mdraw_wrapper\u001b[0;34m(artist, renderer, *args, **kwargs)\u001b[0m\n\u001b[1;32m     53\u001b[0m                 \u001b[0mrenderer\u001b[0m\u001b[0;34m.\u001b[0m\u001b[0mstart_filter\u001b[0m\u001b[0;34m(\u001b[0m\u001b[0;34m)\u001b[0m\u001b[0;34m\u001b[0m\u001b[0m\n\u001b[1;32m     54\u001b[0m \u001b[0;34m\u001b[0m\u001b[0m\n\u001b[0;32m---> 55\u001b[0;31m             \u001b[0;32mreturn\u001b[0m \u001b[0mdraw\u001b[0m\u001b[0;34m(\u001b[0m\u001b[0martist\u001b[0m\u001b[0;34m,\u001b[0m \u001b[0mrenderer\u001b[0m\u001b[0;34m,\u001b[0m \u001b[0;34m*\u001b[0m\u001b[0margs\u001b[0m\u001b[0;34m,\u001b[0m \u001b[0;34m**\u001b[0m\u001b[0mkwargs\u001b[0m\u001b[0;34m)\u001b[0m\u001b[0;34m\u001b[0m\u001b[0m\n\u001b[0m\u001b[1;32m     56\u001b[0m         \u001b[0;32mfinally\u001b[0m\u001b[0;34m:\u001b[0m\u001b[0;34m\u001b[0m\u001b[0m\n\u001b[1;32m     57\u001b[0m             \u001b[0;32mif\u001b[0m \u001b[0martist\u001b[0m\u001b[0;34m.\u001b[0m\u001b[0mget_agg_filter\u001b[0m\u001b[0;34m(\u001b[0m\u001b[0;34m)\u001b[0m \u001b[0;32mis\u001b[0m \u001b[0;32mnot\u001b[0m \u001b[0mNone\u001b[0m\u001b[0;34m:\u001b[0m\u001b[0;34m\u001b[0m\u001b[0m\n",
      "\u001b[0;32m/usr/local/lib/python2.7/dist-packages/matplotlib/figure.pyc\u001b[0m in \u001b[0;36mdraw\u001b[0;34m(self, renderer)\u001b[0m\n\u001b[1;32m   1293\u001b[0m \u001b[0;34m\u001b[0m\u001b[0m\n\u001b[1;32m   1294\u001b[0m             mimage._draw_list_compositing_images(\n\u001b[0;32m-> 1295\u001b[0;31m                 renderer, self, artists, self.suppressComposite)\n\u001b[0m\u001b[1;32m   1296\u001b[0m \u001b[0;34m\u001b[0m\u001b[0m\n\u001b[1;32m   1297\u001b[0m             \u001b[0mrenderer\u001b[0m\u001b[0;34m.\u001b[0m\u001b[0mclose_group\u001b[0m\u001b[0;34m(\u001b[0m\u001b[0;34m'figure'\u001b[0m\u001b[0;34m)\u001b[0m\u001b[0;34m\u001b[0m\u001b[0m\n",
      "\u001b[0;32m/usr/local/lib/python2.7/dist-packages/matplotlib/image.pyc\u001b[0m in \u001b[0;36m_draw_list_compositing_images\u001b[0;34m(renderer, parent, artists, suppress_composite)\u001b[0m\n\u001b[1;32m    136\u001b[0m     \u001b[0;32mif\u001b[0m \u001b[0mnot_composite\u001b[0m \u001b[0;32mor\u001b[0m \u001b[0;32mnot\u001b[0m \u001b[0mhas_images\u001b[0m\u001b[0;34m:\u001b[0m\u001b[0;34m\u001b[0m\u001b[0m\n\u001b[1;32m    137\u001b[0m         \u001b[0;32mfor\u001b[0m \u001b[0ma\u001b[0m \u001b[0;32min\u001b[0m \u001b[0martists\u001b[0m\u001b[0;34m:\u001b[0m\u001b[0;34m\u001b[0m\u001b[0m\n\u001b[0;32m--> 138\u001b[0;31m             \u001b[0ma\u001b[0m\u001b[0;34m.\u001b[0m\u001b[0mdraw\u001b[0m\u001b[0;34m(\u001b[0m\u001b[0mrenderer\u001b[0m\u001b[0;34m)\u001b[0m\u001b[0;34m\u001b[0m\u001b[0m\n\u001b[0m\u001b[1;32m    139\u001b[0m     \u001b[0;32melse\u001b[0m\u001b[0;34m:\u001b[0m\u001b[0;34m\u001b[0m\u001b[0m\n\u001b[1;32m    140\u001b[0m         \u001b[0;31m# Composite any adjacent images together\u001b[0m\u001b[0;34m\u001b[0m\u001b[0;34m\u001b[0m\u001b[0m\n",
      "\u001b[0;32m/usr/local/lib/python2.7/dist-packages/matplotlib/artist.pyc\u001b[0m in \u001b[0;36mdraw_wrapper\u001b[0;34m(artist, renderer, *args, **kwargs)\u001b[0m\n\u001b[1;32m     53\u001b[0m                 \u001b[0mrenderer\u001b[0m\u001b[0;34m.\u001b[0m\u001b[0mstart_filter\u001b[0m\u001b[0;34m(\u001b[0m\u001b[0;34m)\u001b[0m\u001b[0;34m\u001b[0m\u001b[0m\n\u001b[1;32m     54\u001b[0m \u001b[0;34m\u001b[0m\u001b[0m\n\u001b[0;32m---> 55\u001b[0;31m             \u001b[0;32mreturn\u001b[0m \u001b[0mdraw\u001b[0m\u001b[0;34m(\u001b[0m\u001b[0martist\u001b[0m\u001b[0;34m,\u001b[0m \u001b[0mrenderer\u001b[0m\u001b[0;34m,\u001b[0m \u001b[0;34m*\u001b[0m\u001b[0margs\u001b[0m\u001b[0;34m,\u001b[0m \u001b[0;34m**\u001b[0m\u001b[0mkwargs\u001b[0m\u001b[0;34m)\u001b[0m\u001b[0;34m\u001b[0m\u001b[0m\n\u001b[0m\u001b[1;32m     56\u001b[0m         \u001b[0;32mfinally\u001b[0m\u001b[0;34m:\u001b[0m\u001b[0;34m\u001b[0m\u001b[0m\n\u001b[1;32m     57\u001b[0m             \u001b[0;32mif\u001b[0m \u001b[0martist\u001b[0m\u001b[0;34m.\u001b[0m\u001b[0mget_agg_filter\u001b[0m\u001b[0;34m(\u001b[0m\u001b[0;34m)\u001b[0m \u001b[0;32mis\u001b[0m \u001b[0;32mnot\u001b[0m \u001b[0mNone\u001b[0m\u001b[0;34m:\u001b[0m\u001b[0;34m\u001b[0m\u001b[0m\n",
      "\u001b[0;32m/usr/local/lib/python2.7/dist-packages/matplotlib/axes/_base.pyc\u001b[0m in \u001b[0;36mdraw\u001b[0;34m(self, renderer, inframe)\u001b[0m\n\u001b[1;32m   2397\u001b[0m             \u001b[0mrenderer\u001b[0m\u001b[0;34m.\u001b[0m\u001b[0mstop_rasterizing\u001b[0m\u001b[0;34m(\u001b[0m\u001b[0;34m)\u001b[0m\u001b[0;34m\u001b[0m\u001b[0m\n\u001b[1;32m   2398\u001b[0m \u001b[0;34m\u001b[0m\u001b[0m\n\u001b[0;32m-> 2399\u001b[0;31m         \u001b[0mmimage\u001b[0m\u001b[0;34m.\u001b[0m\u001b[0m_draw_list_compositing_images\u001b[0m\u001b[0;34m(\u001b[0m\u001b[0mrenderer\u001b[0m\u001b[0;34m,\u001b[0m \u001b[0mself\u001b[0m\u001b[0;34m,\u001b[0m \u001b[0martists\u001b[0m\u001b[0;34m)\u001b[0m\u001b[0;34m\u001b[0m\u001b[0m\n\u001b[0m\u001b[1;32m   2400\u001b[0m \u001b[0;34m\u001b[0m\u001b[0m\n\u001b[1;32m   2401\u001b[0m         \u001b[0mrenderer\u001b[0m\u001b[0;34m.\u001b[0m\u001b[0mclose_group\u001b[0m\u001b[0;34m(\u001b[0m\u001b[0;34m'axes'\u001b[0m\u001b[0;34m)\u001b[0m\u001b[0;34m\u001b[0m\u001b[0m\n",
      "\u001b[0;32m/usr/local/lib/python2.7/dist-packages/matplotlib/image.pyc\u001b[0m in \u001b[0;36m_draw_list_compositing_images\u001b[0;34m(renderer, parent, artists, suppress_composite)\u001b[0m\n\u001b[1;32m    136\u001b[0m     \u001b[0;32mif\u001b[0m \u001b[0mnot_composite\u001b[0m \u001b[0;32mor\u001b[0m \u001b[0;32mnot\u001b[0m \u001b[0mhas_images\u001b[0m\u001b[0;34m:\u001b[0m\u001b[0;34m\u001b[0m\u001b[0m\n\u001b[1;32m    137\u001b[0m         \u001b[0;32mfor\u001b[0m \u001b[0ma\u001b[0m \u001b[0;32min\u001b[0m \u001b[0martists\u001b[0m\u001b[0;34m:\u001b[0m\u001b[0;34m\u001b[0m\u001b[0m\n\u001b[0;32m--> 138\u001b[0;31m             \u001b[0ma\u001b[0m\u001b[0;34m.\u001b[0m\u001b[0mdraw\u001b[0m\u001b[0;34m(\u001b[0m\u001b[0mrenderer\u001b[0m\u001b[0;34m)\u001b[0m\u001b[0;34m\u001b[0m\u001b[0m\n\u001b[0m\u001b[1;32m    139\u001b[0m     \u001b[0;32melse\u001b[0m\u001b[0;34m:\u001b[0m\u001b[0;34m\u001b[0m\u001b[0m\n\u001b[1;32m    140\u001b[0m         \u001b[0;31m# Composite any adjacent images together\u001b[0m\u001b[0;34m\u001b[0m\u001b[0;34m\u001b[0m\u001b[0m\n",
      "\u001b[0;32m/usr/local/lib/python2.7/dist-packages/matplotlib/artist.pyc\u001b[0m in \u001b[0;36mdraw_wrapper\u001b[0;34m(artist, renderer, *args, **kwargs)\u001b[0m\n\u001b[1;32m     53\u001b[0m                 \u001b[0mrenderer\u001b[0m\u001b[0;34m.\u001b[0m\u001b[0mstart_filter\u001b[0m\u001b[0;34m(\u001b[0m\u001b[0;34m)\u001b[0m\u001b[0;34m\u001b[0m\u001b[0m\n\u001b[1;32m     54\u001b[0m \u001b[0;34m\u001b[0m\u001b[0m\n\u001b[0;32m---> 55\u001b[0;31m             \u001b[0;32mreturn\u001b[0m \u001b[0mdraw\u001b[0m\u001b[0;34m(\u001b[0m\u001b[0martist\u001b[0m\u001b[0;34m,\u001b[0m \u001b[0mrenderer\u001b[0m\u001b[0;34m,\u001b[0m \u001b[0;34m*\u001b[0m\u001b[0margs\u001b[0m\u001b[0;34m,\u001b[0m \u001b[0;34m**\u001b[0m\u001b[0mkwargs\u001b[0m\u001b[0;34m)\u001b[0m\u001b[0;34m\u001b[0m\u001b[0m\n\u001b[0m\u001b[1;32m     56\u001b[0m         \u001b[0;32mfinally\u001b[0m\u001b[0;34m:\u001b[0m\u001b[0;34m\u001b[0m\u001b[0m\n\u001b[1;32m     57\u001b[0m             \u001b[0;32mif\u001b[0m \u001b[0martist\u001b[0m\u001b[0;34m.\u001b[0m\u001b[0mget_agg_filter\u001b[0m\u001b[0;34m(\u001b[0m\u001b[0;34m)\u001b[0m \u001b[0;32mis\u001b[0m \u001b[0;32mnot\u001b[0m \u001b[0mNone\u001b[0m\u001b[0;34m:\u001b[0m\u001b[0;34m\u001b[0m\u001b[0m\n",
      "\u001b[0;32m/usr/local/lib/python2.7/dist-packages/matplotlib/image.pyc\u001b[0m in \u001b[0;36mdraw\u001b[0;34m(self, renderer, *args, **kwargs)\u001b[0m\n\u001b[1;32m    546\u001b[0m         \u001b[0;32melse\u001b[0m\u001b[0;34m:\u001b[0m\u001b[0;34m\u001b[0m\u001b[0m\n\u001b[1;32m    547\u001b[0m             im, l, b, trans = self.make_image(\n\u001b[0;32m--> 548\u001b[0;31m                 renderer, renderer.get_image_magnification())\n\u001b[0m\u001b[1;32m    549\u001b[0m             \u001b[0;32mif\u001b[0m \u001b[0mim\u001b[0m \u001b[0;32mis\u001b[0m \u001b[0;32mnot\u001b[0m \u001b[0mNone\u001b[0m\u001b[0;34m:\u001b[0m\u001b[0;34m\u001b[0m\u001b[0m\n\u001b[1;32m    550\u001b[0m                 \u001b[0mrenderer\u001b[0m\u001b[0;34m.\u001b[0m\u001b[0mdraw_image\u001b[0m\u001b[0;34m(\u001b[0m\u001b[0mgc\u001b[0m\u001b[0;34m,\u001b[0m \u001b[0ml\u001b[0m\u001b[0;34m,\u001b[0m \u001b[0mb\u001b[0m\u001b[0;34m,\u001b[0m \u001b[0mim\u001b[0m\u001b[0;34m)\u001b[0m\u001b[0;34m\u001b[0m\u001b[0m\n",
      "\u001b[0;32m/usr/local/lib/python2.7/dist-packages/matplotlib/image.pyc\u001b[0m in \u001b[0;36mmake_image\u001b[0;34m(self, renderer, magnification, unsampled)\u001b[0m\n\u001b[1;32m    772\u001b[0m         return self._make_image(\n\u001b[1;32m    773\u001b[0m             \u001b[0mself\u001b[0m\u001b[0;34m.\u001b[0m\u001b[0m_A\u001b[0m\u001b[0;34m,\u001b[0m \u001b[0mbbox\u001b[0m\u001b[0;34m,\u001b[0m \u001b[0mtransformed_bbox\u001b[0m\u001b[0;34m,\u001b[0m \u001b[0mself\u001b[0m\u001b[0;34m.\u001b[0m\u001b[0maxes\u001b[0m\u001b[0;34m.\u001b[0m\u001b[0mbbox\u001b[0m\u001b[0;34m,\u001b[0m \u001b[0mmagnification\u001b[0m\u001b[0;34m,\u001b[0m\u001b[0;34m\u001b[0m\u001b[0m\n\u001b[0;32m--> 774\u001b[0;31m             unsampled=unsampled)\n\u001b[0m\u001b[1;32m    775\u001b[0m \u001b[0;34m\u001b[0m\u001b[0m\n\u001b[1;32m    776\u001b[0m     \u001b[0;32mdef\u001b[0m \u001b[0m_check_unsampled_image\u001b[0m\u001b[0;34m(\u001b[0m\u001b[0mself\u001b[0m\u001b[0;34m,\u001b[0m \u001b[0mrenderer\u001b[0m\u001b[0;34m)\u001b[0m\u001b[0;34m:\u001b[0m\u001b[0;34m\u001b[0m\u001b[0m\n",
      "\u001b[0;32m/usr/local/lib/python2.7/dist-packages/matplotlib/image.pyc\u001b[0m in \u001b[0;36m_make_image\u001b[0;34m(self, A, in_bbox, out_bbox, clip_bbox, magnification, unsampled, round_to_pixel_border)\u001b[0m\n\u001b[1;32m    368\u001b[0m                 \u001b[0;31m# old versions of numpy do not work with `np.nammin`\u001b[0m\u001b[0;34m\u001b[0m\u001b[0;34m\u001b[0m\u001b[0m\n\u001b[1;32m    369\u001b[0m                 \u001b[0;31m# and `np.nanmax` as inputs\u001b[0m\u001b[0;34m\u001b[0m\u001b[0;34m\u001b[0m\u001b[0m\n\u001b[0;32m--> 370\u001b[0;31m                 \u001b[0ma_min\u001b[0m \u001b[0;34m=\u001b[0m \u001b[0mnp\u001b[0m\u001b[0;34m.\u001b[0m\u001b[0mma\u001b[0m\u001b[0;34m.\u001b[0m\u001b[0mmin\u001b[0m\u001b[0;34m(\u001b[0m\u001b[0mA\u001b[0m\u001b[0;34m)\u001b[0m\u001b[0;34m.\u001b[0m\u001b[0mastype\u001b[0m\u001b[0;34m(\u001b[0m\u001b[0mscaled_dtype\u001b[0m\u001b[0;34m)\u001b[0m\u001b[0;34m\u001b[0m\u001b[0m\n\u001b[0m\u001b[1;32m    371\u001b[0m                 \u001b[0ma_max\u001b[0m \u001b[0;34m=\u001b[0m \u001b[0mnp\u001b[0m\u001b[0;34m.\u001b[0m\u001b[0mma\u001b[0m\u001b[0;34m.\u001b[0m\u001b[0mmax\u001b[0m\u001b[0;34m(\u001b[0m\u001b[0mA\u001b[0m\u001b[0;34m)\u001b[0m\u001b[0;34m.\u001b[0m\u001b[0mastype\u001b[0m\u001b[0;34m(\u001b[0m\u001b[0mscaled_dtype\u001b[0m\u001b[0;34m)\u001b[0m\u001b[0;34m\u001b[0m\u001b[0m\n\u001b[1;32m    372\u001b[0m                 \u001b[0;31m# scale the input data to [.1, .9].  The Agg\u001b[0m\u001b[0;34m\u001b[0m\u001b[0;34m\u001b[0m\u001b[0m\n",
      "\u001b[0;32m/usr/local/lib/python2.7/dist-packages/numpy/ma/core.pyc\u001b[0m in \u001b[0;36mastype\u001b[0;34m(self, newtype)\u001b[0m\n\u001b[1;32m   3203\u001b[0m                 \u001b[0moutput\u001b[0m\u001b[0;34m.\u001b[0m\u001b[0m_mask\u001b[0m \u001b[0;34m=\u001b[0m \u001b[0mself\u001b[0m\u001b[0;34m.\u001b[0m\u001b[0m_mask\u001b[0m\u001b[0;34m.\u001b[0m\u001b[0mastype\u001b[0m\u001b[0;34m(\u001b[0m\u001b[0;34m[\u001b[0m\u001b[0;34m(\u001b[0m\u001b[0mn\u001b[0m\u001b[0;34m,\u001b[0m \u001b[0mbool\u001b[0m\u001b[0;34m)\u001b[0m \u001b[0;32mfor\u001b[0m \u001b[0mn\u001b[0m \u001b[0;32min\u001b[0m \u001b[0mnames\u001b[0m\u001b[0;34m]\u001b[0m\u001b[0;34m)\u001b[0m\u001b[0;34m\u001b[0m\u001b[0m\n\u001b[1;32m   3204\u001b[0m         \u001b[0;31m# Don't check _fill_value if it's None, that'll speed things up\u001b[0m\u001b[0;34m\u001b[0m\u001b[0;34m\u001b[0m\u001b[0m\n\u001b[0;32m-> 3205\u001b[0;31m         \u001b[0;32mif\u001b[0m \u001b[0mself\u001b[0m\u001b[0;34m.\u001b[0m\u001b[0m_fill_value\u001b[0m \u001b[0;32mis\u001b[0m \u001b[0;32mnot\u001b[0m \u001b[0mNone\u001b[0m\u001b[0;34m:\u001b[0m\u001b[0;34m\u001b[0m\u001b[0m\n\u001b[0m\u001b[1;32m   3206\u001b[0m             \u001b[0moutput\u001b[0m\u001b[0;34m.\u001b[0m\u001b[0m_fill_value\u001b[0m \u001b[0;34m=\u001b[0m \u001b[0m_check_fill_value\u001b[0m\u001b[0;34m(\u001b[0m\u001b[0mself\u001b[0m\u001b[0;34m.\u001b[0m\u001b[0m_fill_value\u001b[0m\u001b[0;34m,\u001b[0m \u001b[0mnewtype\u001b[0m\u001b[0;34m)\u001b[0m\u001b[0;34m\u001b[0m\u001b[0m\n\u001b[1;32m   3207\u001b[0m         \u001b[0;32mreturn\u001b[0m \u001b[0moutput\u001b[0m\u001b[0;34m\u001b[0m\u001b[0m\n",
      "\u001b[0;31mAttributeError\u001b[0m: 'MaskedConstant' object has no attribute '_fill_value'"
     ]
    },
    {
     "data": {
      "text/plain": [
       "<matplotlib.figure.Figure at 0x7fca367eeed0>"
      ]
     },
     "metadata": {},
     "output_type": "display_data"
    }
   ],
   "source": [
    "for step in range(50001):\n",
    "    batch_x = mnist.train.next_batch(batch_size)[0]\n",
    "#     _, d_loss_train = sess.run([d_optimizer, d_loss], feed_dict={x_d: batch_x, x_g: sample_Z(batch_size, g_dim)})\n",
    "    sess.run(d_optimizer, feed_dict={x_d: batch_x, x_g: sample_Z(batch_size, g_dim)})\n",
    "#     _, g_loss_train = sess.run([g_optimizer, g_loss], feed_dict={x_g: sample_Z(batch_size, g_dim)})\n",
    "    sess.run(g_optimizer, feed_dict={x_g: sample_Z(batch_size, g_dim)})\n",
    "    if step%1000==0:\n",
    "        d_loss_train, g_loss_train = sess.run([d_loss, g_loss], feed_dict=\n",
    "                            {x_d: batch_x, x_g: sample_Z(batch_size, g_dim)})\n",
    "        print 'step:', step, ' d-loss:', d_loss_train, ' g-loss:', g_loss_train\n",
    "        if d_loss_train<1.5 and g_loss_train<1.5 :\n",
    "            break\n",
    "\n",
    "# zz = sample_Z(batch_size, g_dim)\n",
    "gg = sess.run(g_sample, feed_dict = {x_g: zz})\n",
    "# gg = sess.run(g_sample, feed_dict = {x_g: sample_Z(batch_size, g_dim)})\n",
    "gg_pic = np.array([np.reshape(m,(28,28)) for m in gg])\n",
    "fig, ax = plt.subplots(nrows=3, ncols=3)\n",
    "for i,row in enumerate(ax):\n",
    "    for j,col in enumerate(row):\n",
    "        ax[i][j].imshow(gg_pic[i*3+j], cmap='gray')"
   ]
  },
  {
   "cell_type": "code",
   "execution_count": null,
   "metadata": {},
   "outputs": [],
   "source": []
  }
 ],
 "metadata": {
  "kernelspec": {
   "display_name": "Python 2",
   "language": "python",
   "name": "python2"
  },
  "language_info": {
   "codemirror_mode": {
    "name": "ipython",
    "version": 2
   },
   "file_extension": ".py",
   "mimetype": "text/x-python",
   "name": "python",
   "nbconvert_exporter": "python",
   "pygments_lexer": "ipython2",
   "version": "2.7.12"
  }
 },
 "nbformat": 4,
 "nbformat_minor": 2
}

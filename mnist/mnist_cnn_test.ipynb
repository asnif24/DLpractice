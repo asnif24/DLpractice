{
 "cells": [
  {
   "cell_type": "code",
   "execution_count": 1,
   "metadata": {
    "collapsed": true
   },
   "outputs": [],
   "source": [
    "import tensorflow as tf\n",
    "from tensorflow.examples.tutorials.mnist import input_data\n",
    "import matplotlib.pyplot as plt\n",
    "import numpy as np\n",
    "\n",
    "%matplotlib inline"
   ]
  },
  {
   "cell_type": "code",
   "execution_count": 2,
   "metadata": {
    "collapsed": false
   },
   "outputs": [
    {
     "name": "stdout",
     "output_type": "stream",
     "text": [
      "Extracting MNIST_data/train-images-idx3-ubyte.gz\n",
      "Extracting MNIST_data/train-labels-idx1-ubyte.gz\n",
      "Extracting MNIST_data/t10k-images-idx3-ubyte.gz\n",
      "Extracting MNIST_data/t10k-labels-idx1-ubyte.gz\n"
     ]
    }
   ],
   "source": [
    "mnist = input_data.read_data_sets(\"MNIST_data/\", one_hot = True)\n",
    "x_train = mnist.train.images\n",
    "y_train = mnist.train.labels\n",
    "x_test = mnist.test.images\n",
    "y_test = mnist.test.labels"
   ]
  },
  {
   "cell_type": "code",
   "execution_count": 3,
   "metadata": {
    "collapsed": true
   },
   "outputs": [],
   "source": [
    "#for NN layers\n",
    "class layer:\n",
    "    def __init__(self, inputs, in_size, out_size, activation_function=None):\n",
    "#         self.W = tf.Variable(tf.zeros([in_size, out_size]))\n",
    "        self.W = tf.Variable(tf.random_normal([in_size, out_size]))\n",
    "        self.b = tf.Variable(tf.zeros([1,out_size]))\n",
    "        self.Wx_plus_b = tf.matmul(inputs, self.W) + self.b\n",
    "        self.activation_function = activation_function\n",
    "    def output(self):\n",
    "        if self.activation_function == None:\n",
    "            result = self.Wx_plus_b\n",
    "        else :\n",
    "            result = self.activation_function(self.Wx_plus_b)\n",
    "        return result"
   ]
  },
  {
   "cell_type": "code",
   "execution_count": 4,
   "metadata": {
    "collapsed": true
   },
   "outputs": [],
   "source": [
    "# for convolution\n",
    "class convolution:\n",
    "    def __init__(self, shape):\n",
    "        self.W = tf.Variable(tf.truncated_normal(shape=shape, stddev=0.1))\n",
    "        self.b = tf.Variable(tf.constant(0.1, shape=[shape[3]]))\n",
    "    def conv2d(self, inputs, padding='SAME'):\n",
    "        return tf.nn.conv2d(inputs, self.W, strides=[1,1,1,1], padding=padding)\n",
    "    def max_pooling_nxn(self, inputs, n):\n",
    "        return tf.nn.max_pool(inputs, ksize=[1,n,n,1], strides=[1,n,n,1], padding='VALID')\n",
    "    def conv_and_pooling(self, inputs, activation_function=None, pooling_size=2):\n",
    "        if activation_function==None:\n",
    "            h_conv =self.conv2d(inputs)+self.b\n",
    "        else:\n",
    "            h_conv = activation_function(self.conv2d(inputs)+self.b)    \n",
    "        return self.max_pooling_nxn(h_conv, pooling_size)\n",
    "        \n"
   ]
  },
  {
   "cell_type": "code",
   "execution_count": 5,
   "metadata": {
    "collapsed": true
   },
   "outputs": [],
   "source": [
    "x = tf.placeholder(tf.float32, [None, 784])\n",
    "y = tf.placeholder(tf.float32, [None, 10])\n",
    "\n",
    "#for dropout\n",
    "keep_prob = tf.placeholder(tf.float32)\n",
    "\n",
    "#dealing eith inputs. \n",
    "# -1 for not considering input number of images\n",
    "# 28,28 size per iamge\n",
    "# 1 for channel. 1 for grayscale ; 3 for color image\n",
    "x_image=tf.reshape(x,[-1,28,28,1])\n"
   ]
  },
  {
   "cell_type": "code",
   "execution_count": 6,
   "metadata": {
    "collapsed": false
   },
   "outputs": [],
   "source": [
    "# shape = [5,5,1,32] ; 5,5=>filter size ; 1 for chanel ; 32 for output featuremap\n",
    "conv1 = convolution([5,5,1,32])\n",
    "conv2 = convolution([5,5,32,64])\n",
    "\n",
    "output_conv1 = conv1.conv_and_pooling(x_image, tf.nn.relu)\n",
    "output_conv2 = conv2.conv_and_pooling(output_conv1, tf.nn.relu)\n",
    "\n",
    "h_pool_flat = tf.reshape(output_conv2, [-1,7*7*64])\n",
    "\n",
    "# layer1 = layer(h_pool_flat, 7*7*64, 500, tf.nn.relu)\n",
    "layer1 = layer(h_pool_flat, 7*7*64, 10, tf.nn.softmax)\n",
    "# layer2 = layer(layer1.output(), 500, 100, tf.nn.relu)\n",
    "# layer3 = layer(layer2.output(), 100, 10, tf.nn.softmax)\n",
    "\n",
    "loss = tf.reduce_mean(tf.nn.softmax_cross_entropy_with_logits(labels=y, logits=layer1.output()))\n",
    "train_step = tf.train.GradientDescentOptimizer(0.5).minimize(loss)\n",
    "\n",
    "correct_prediction = tf.equal(tf.argmax(y, 1), tf.argmax(layer1.output(), 1))\n",
    "accuracy = tf.reduce_mean(tf.cast(correct_prediction, tf.float32))"
   ]
  },
  {
   "cell_type": "code",
   "execution_count": 7,
   "metadata": {
    "collapsed": true
   },
   "outputs": [],
   "source": [
    "init = tf.global_variables_initializer()\n",
    "\n",
    "sess = tf.Session()\n",
    "sess.run(init)\n"
   ]
  },
  {
   "cell_type": "code",
   "execution_count": null,
   "metadata": {
    "collapsed": false
   },
   "outputs": [],
   "source": [
    "for epoch in range(201):\n",
    "    sess.run(train_step, feed_dict={x: x_train, y: y_train})\n",
    "    if epoch%10==0:\n",
    "        print \"epoch: \"+str(epoch)+\" loss: \"+str(sess.run(loss, feed_dict={x: x_train, y: y_train}))+\" accuracy: \"+str(sess.run(accuracy, feed_dict={x: x_train, y: y_train}))\n",
    "print \"Test accuracy: \"+str(sess.run(accuracy, feed_dict={x: x_test, y: y_test}))"
   ]
  },
  {
   "cell_type": "code",
   "execution_count": null,
   "metadata": {
    "collapsed": true
   },
   "outputs": [],
   "source": []
  },
  {
   "cell_type": "code",
   "execution_count": null,
   "metadata": {
    "collapsed": true
   },
   "outputs": [],
   "source": []
  }
 ],
 "metadata": {
  "kernelspec": {
   "display_name": "Python 2",
   "language": "python",
   "name": "python2"
  },
  "language_info": {
   "codemirror_mode": {
    "name": "ipython",
    "version": 2
   },
   "file_extension": ".py",
   "mimetype": "text/x-python",
   "name": "python",
   "nbconvert_exporter": "python",
   "pygments_lexer": "ipython2",
   "version": "2.7.13"
  }
 },
 "nbformat": 4,
 "nbformat_minor": 2
}

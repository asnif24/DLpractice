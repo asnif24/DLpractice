{
 "cells": [
  {
   "cell_type": "code",
   "execution_count": 5,
   "metadata": {
    "collapsed": true
   },
   "outputs": [],
   "source": [
    "from bs4 import BeautifulSoup\n",
    "import matplotlib.pyplot as plt\n",
    "import numpy as np\n",
    "import urllib2 \n",
    "\n",
    "%matplotlib inline"
   ]
  },
  {
   "cell_type": "code",
   "execution_count": 10,
   "metadata": {
    "collapsed": false
   },
   "outputs": [
    {
     "name": "stdout",
     "output_type": "stream",
     "text": [
      "<html><head>\n",
      "<meta content=\"text/html; charset=utf-8\" http-equiv=\"Content-Type\">\n",
      "<meta content=\"no-cache\" http-equiv=\"cache-control\">\n",
      "<title>查詢及取消服務</title>\n",
      "<script language=\"JavaScript\">\r\n",
      "\r\n",
      "function check_input(){\r\n",
      "  var str,space10;\r\n",
      "\r\n",
      "  if (document.opdregForm.pid.value.length == 0) {\r\n",
      "     alert(\"請輸入身分證號或本院病歷號 !!!\");\r\n",
      "     return false; // do not submit form\r\n",
      "  }\r\n",
      "\r\n",
      "  if (document.opdregForm.pbirth_mm.value.length == 0) {\r\n",
      "     alert(\"請輸入月 !!!\");\r\n",
      "     return false; // do not submit form\r\n",
      "  }\r\n",
      "  if (document.opdregForm.pbirth_dd.value.length == 0) {\r\n",
      "     alert(\"請輸入日 !!!\");\r\n",
      "     return false; // do not submit form\r\n",
      "  }\r\n",
      "  if (document.opdregForm.checkNum.value.length == 0) {\r\n",
      "\t     alert(\"請輸入左方圖片內的數字 !!!\");\r\n",
      "\t     return false; // do not submit form\r\n",
      "  }\r\n",
      "  if (document.opdregForm.pbirth_mm.value.length < 2)\r\n",
      "     document.opdregForm.pbirth_mm.value = \"0\" + document.opdregForm.pbirth_mm.value;\r\n",
      "\r\n",
      "  if (document.opdregForm.pbirth_dd.value.length < 2)\r\n",
      "     document.opdregForm.pbirth_dd.value = \"0\" + document.opdregForm.pbirth_dd.value;\r\n",
      "\r\n",
      "  space10 = new String(\"          \");\r\n",
      "  str = document.opdregForm.pid.value;\r\n",
      "  str= str.toUpperCase();\r\n",
      "  str = str + space10;\r\n",
      "  str = str.substr(0,10);\r\n",
      "  document.opdregForm.pid.value = str;\r\n",
      "\r\n",
      "  // SetCookie(\"pid\",document.opdregForm.id.value);\r\n",
      "  // SetCookie(\"pbirth_mm\",document.opdregForm.birth_mm.value);\r\n",
      "  // SetCookie(\"pbirth_dd\",document.opdregForm.birth_dd.value);\r\n",
      "  return true; // submit form\r\n",
      "}\r\n",
      "\r\n",
      "// finish hiding from non JavaScript browsers -->\r\n",
      "</script>\n",
      "</meta></meta></head>\n",
      "<body alink=\"#ff0000\" bgcolor=\"#ffffff\" link=\"#0000ff\" text=\"#000000\" vlink=\"#ff00ff\">\n",
      "<form action=\"../servlet/opd.Opdvgh5\" autocomplete=\"off\" method=\"POST\" name=\"opdregForm\" onsubmit=\"return check_input()\">\n",
      "<h1><font size=\"4\">　　　　　　　</font>臺北榮民總醫院<font size=\"4\">　<i>預約掛號查詢及取消服務</i></font></h1></form></body></html><p>\n",
      "<center><img align=\"center\" src=\"images/dp_offb.gif\"/></center>\n",
      "<hr>\n",
      "<center>\n",
      "<table>\n",
      "<tr><td></td><td></td></tr>\n",
      "<tr><td><font color=\"#0000ff\">請輸入下列資料</font></td><td></td></tr>\n",
      "<tr><td>身分證號或居留證號或本院病歷號(需含檢查碼)：</td><td><input id=\"pid_id\" maxlength=\"10\" name=\"pid\" size=\"11\" type=\"text\"/></td></tr>\n",
      "<tr><td>出生月日：  </td>\n",
      "<td><input maxlength=\"2\" name=\"pbirth_mm\" size=\"3\" type=\"text\">月\r\n",
      "<input maxlength=\"2\" name=\"pbirth_dd\" size=\"3\" type=\"text\">日</input></input></td></tr>\n",
      "<input id=\"pid_pwd\" name=\"pwd\" type=\"hidden\">\n",
      "<!--\r\n",
      "<tr><td><span id=\"id_chkPwd\" style=\"color:#000000\">請輸入網路密碼：</td>\r\n",
      "<td><input type=password  name=pwd id=\"pid_pwd\"  size=11></td>\r\n",
      "</tr>\r\n",
      "<tr><td colspan=2>(未設定網路密碼者不需輸入,要設定網路密碼請帶雙證件臨櫃辦理)</td></tr>\r\n",
      "-->\n",
      "<tr><td><img border=\"0\" src=\"../servlet/opd.vImage\"/></td><td>請輸入左方圖片４位數字：<input maxlength=\"4\" name=\"checkNum\" size=\"4\" type=\"text\"/></td></tr>\n",
      "<tr><td align=\"center\" colspan=\"2\"><input style=\"color:#610B5E; font-weight: bold;font-size:14px\" type=\"submit\" value=\"確認\"/></td></tr>\n",
      "</input></table>\n",
      "<input name=\"cics\" type=\"hidden\" value=\"PAR2\">\n",
      "<input name=\"pg\" type=\"hidden\" value=\"Opdvgh5\">\n",
      "<input name=\"svl\" type=\"hidden\" value=\"Y\">\n",
      "<input name=\"initPage\" type=\"hidden\" value=\"0\">\n",
      "<input id=\"id_chkpwd\" name=\"chkpwd\" type=\"hidden\" value=\"0\">\n",
      "</input></input></input></input></input></center>\n",
      "<hr>\n",
      "<center><a href=\"vgh_dpm.htm\"><img border=\"0\" src=\"images/go2first.gif\">回主功能表</img></a></center>\n",
      "</hr></hr></p>\n",
      "\n",
      "\n"
     ]
    }
   ],
   "source": [
    "quote_page = \"https://www6.vghtpe.gov.tw/opd/opd_inter/vgh_opdb.htm\"\n",
    "page = urllib2.urlopen(quote_page)\n",
    "soup = BeautifulSoup(page, 'html.parser')\n",
    "print(soup)"
   ]
  },
  {
   "cell_type": "code",
   "execution_count": 11,
   "metadata": {
    "collapsed": false
   },
   "outputs": [
    {
     "ename": "ImportError",
     "evalue": "No module named vipsCC",
     "output_type": "error",
     "traceback": [
      "\u001b[0;31m---------------------------------------------------------------------------\u001b[0m",
      "\u001b[0;31mImportError\u001b[0m                               Traceback (most recent call last)",
      "\u001b[0;32m<ipython-input-11-1a59bfbb8f83>\u001b[0m in \u001b[0;36m<module>\u001b[0;34m()\u001b[0m\n\u001b[0;32m----> 1\u001b[0;31m \u001b[0;32mfrom\u001b[0m \u001b[0mvipsCC\u001b[0m \u001b[0;32mimport\u001b[0m \u001b[0;34m*\u001b[0m\u001b[0;34m\u001b[0m\u001b[0m\n\u001b[0m",
      "\u001b[0;31mImportError\u001b[0m: No module named vipsCC"
     ]
    }
   ],
   "source": [
    "from vipsCC import *"
   ]
  },
  {
   "cell_type": "code",
   "execution_count": 12,
   "metadata": {
    "collapsed": true
   },
   "outputs": [],
   "source": [
    "f = open(\"./opd.vImage\", \"r\")"
   ]
  },
  {
   "cell_type": "code",
   "execution_count": 15,
   "metadata": {
    "collapsed": false
   },
   "outputs": [
    {
     "name": "stdout",
     "output_type": "stream",
     "text": [
      "����\u0000\u0010JFIF\u0000\u0001\u0002\u0000\u0000\u0001\u0000\u0001\u0000\u0000��\u0000C\u0000\b\u0006\u0006\u0007\u0006\u0005\b\u0007\u0007\u0007\t\t\b\n",
      "\f",
      "\u0014\r",
      "\f",
      "\u000b",
      "\u000b",
      "\f",
      "\u0019\u0012\u0013\u000f\u0014\u001d",
      "\u001a\u001f\u001e",
      "\u001d",
      "\u001a\u001c",
      "\u001c",
      " $.' \",#\u001c",
      "\u001c",
      "(7),01444\u001f'9=82<.342��\u0000C\u0001\t\t\t\f",
      "\u000b",
      "\f",
      "\u0018\r",
      "\r",
      "\u00182!\u001c",
      "!22222222222222222222222222222222222222222222222222��\u0000\u0011\b\u00002\u0000�\u0003\u0001\"\u0000\u0002\u0011\u0001\u0003\u0011\u0001��\u0000\u001f\u0000\u0000\u0001\u0005\u0001\u0001\u0001\u0001\u0001\u0001\u0000\u0000\u0000\u0000\u0000\u0000\u0000\u0000\u0001\u0002\u0003\u0004\u0005\u0006\u0007\b\t\n",
      "\u000b",
      "��\u0000�\u0010\u0000\u0002\u0001\u0003\u0003\u0002\u0004\u0003\u0005\u0005\u0004\u0004\u0000\u0000\u0001}\u0001\u0002\u0003\u0000\u0004\u0011\u0005\u0012!1A\u0006\u0013Qa\u0007\"q\u00142���\b#B��\u0015R��$3br�\t\n",
      "\u0016\u0017\u0018\u0019\u001a%&'()*456789:CDEFGHIJSTUVWXYZcdefghijstuvwxyz���������������������������������������������������������������������������\u0000\u001f\u0001\u0000\u0003\u0001\u0001\u0001\u0001\u0001\u0001\u0001\u0001\u0001\u0000\u0000\u0000\u0000\u0000\u0000\u0001\u0002\u0003\u0004\u0005\u0006\u0007\b\t\n",
      "\u000b",
      "��\u0000�\u0011\u0000\u0002\u0001\u0002\u0004\u0004\u0003\u0004\u0007\u0005\u0004\u0004\u0000\u0001\u0002w\u0000\u0001\u0002\u0003\u0011\u0004\u0005!1\u0006\u0012AQ\u0007aq\u0013\"2�\b\u0014B����\t#3R�\u0015br�\n",
      "\u0016$4�%�\u0017\u0018\u0019\u001a&'()*56789:CDEFGHIJSTUVWXYZcdefghijstuvwxyz��������������������������������������������������������������������������\u0000\f",
      "\u0003\u0001\u0000\u0002\u0011\u0003\u0011\u0000?\u0000�\n",
      "(�s�\u0013M7�w�����\u0000?�\u0000eo#ӯ^�/N����\u0014b�::����cl��g%�\u0017\n",
      "Q3�0y�\u001fO֭�\"M\u0012K\u0013���2���\u0007�\u0007��SD��x��\u001d",
      "b�����8u+������_�^��7l��m��\u001d",
      "���f�\u001d",
      "\u0016Ddu\f",
      "�0T��=+\u000e8<3��\"�}>y\u0011Kl��s�9!\u000fN�}j�}\u000b",
      "I=ln#����\u0019Xd09\u0004z��>�\u0012�Gil�m��Q�d&{v=8�L}7�6���U\u0013�7~�|��\r",
      "��w\u0014�WF.Uѝ\u001d",
      "\u0015�\u001e",
      "#�<M-�����I�Q.�l�\n",
      "��\b'\u001ft��L�0h�M�\u0017��լ5Dʣ��Xۡ�P\u001b\u0018�8\u0019\u0019�z\u001d",
      "U\u001d",
      ".ٲ�����Q\\W�<om>��kW��q�cfۓ <�ګ���{ֿ�&�\u001f�\u0000���A��\u0000���NQv���N-�\u001b���?\u0015<7av���W�r\u001aKh�@A#\u0000�\f",
      "��29\u00185��#�\u0016�\u001aLZ^�v�n\t7.��D}6r��'�\u001e",
      "����^\t��\u001fi�/۞���EW�7Ѩ\u0011�>�o�\u0003�H�O=0\u0006~�vGL0�?iU=vH�t\u001f\u0012i~$�k�6�~�\tca��$g\f",
      "?>FA��8�j�6�K���\u0019/��R�\u001d",
      " ��\u0011�er�\u0001�m�}�\u000f\r",
      "��]��&�\u001f�\u0000���A��\u0000����kS�e��S��o�X\u001f����\u001f�\u0006O�&�vf<���$i4O\u0014��\u001b���2\u0018\u001e",
      "����\u0011��\u001e",
      "�.��h�e���[�\u0013�bS�ʱd\u0016!z\u0000G$V��?h��\u001f2H��)�6�.F2\u000fb+��\u0014XB�pӣ�h��t��3�&7p\b��\u001e",
      "NsYϱt��ZCZ6�f,&�V\u0015H��K*�s��<\u000ej�P�t��t{}>9\u001aU�\u001c",
      "�\f",
      "n$�N;\f",
      "��\u0000׫�Q��ȕ��s~7���BF��Z[�%��*�L�.K��d�8����5\u000b",
      "�\f",
      "������v�íM*=�E\u0007��\u0011�33�\u0006\u0002��[�`\u001e",
      "\r",
      "t�6���E�K[f�[{����A&�0yL\u0000r2A�c���\u000f\u0010��7��!��W�RH�_)��|˹��¨\u001d",
      "H$g\u0007�Gm\u001b�_���p���w���u_v���\u0016���'I�ʒf�`p��\u0003\u0015뜜�0GL�ڲ���O�s}�ê�[��[�Wh>���?��t��}'úf�n&\b�4i�.��0\u000eH�\n",
      "0ON�s\\ܩ|G\u000f*���\u001c",
      "\u000f��u=sT��t�i�\u0017\u001feە�\u0000s�$|��\f",
      "@\u0003\u0007\u0007��^$�|C�\u0005�S���)���\u001b�\u0019��6\u0018�9�`g�S�>\"���W���'�\u0005�\u0016�s,D�\n",
      "#�@���8�8n���+O\tY#_j��\u001a��*ZG��'\u0007\u0003\b���\u0001\u0007=;\n",
      "��Tl���yAF��ǰ�N����</-�\u0018E����X\u0000[x\u0004(?�!�}+B��:��\u001a�,��l�P7:�p8?�®�>�/&���\u000f�e{s���v��X�鏘\u000e\t�\u0011ڻjƤ�d�g=Y�ͤϛ�;\u001b��\u001b]i�t\r",
      "-�]4\u0011\"\u0001�\u0014;wz\u0001�����۽�i��y����!Sr���ۊ��o�|+�X\u001a��\u001c",
      "wM\"���!��E�N01�=\u0001��3[���\u000fX�֣r����@�2R1�/s��\u0019�\u0003��Vwr=\n",
      "ؚ�p�5�|�&�\u0006�\u0006�y����+�u2�/��\u0006\n",
      "����$c���=\u0005u���WKPl\r",
      "��`�1�[&�9�e��\u001f�\u000e��W»[�K\\�<O>�Y��ڃ�wa#c��>^�wu�תU�r��.2|��_�8/�����-\u0013��G�\u0000��]�\u0015\\�G/��AE\u0014T\u0019�\u0014Q@\u0005q���� �?�\u001bӥ�D\u0000{ɺ��\u000f��8�܁�\r",
      "tڍ�i�m���\"\u0018��n�\u0006}�\u0007�X~\u0006�٠\u001b�2{�^Gv\u001f1�+�z�A?�#W\u001d",
      "\u00171�4\\��1Z��Jƿ%��Y-�p\u0006K\u001c",
      "\u000eORx��!�j�7��e���\t�4�\u001c",
      "����\u000e�\u000e� �Ǎ���O�l���/�E�t�\u0014�\u000f�'�6�]U��:}�6�.\"�\u0002�\u0003'���}�-�\u0015�ԂM\u0017M�L]6K(^�\u0006\u00166\\����7'�����\u0004xr�u�=.2˜\t\u001d",
      "�^��X�*�(�NKDħ$����HbH�EH�B�(�P:\u0000;\n",
      "u\u0014�eH!yd;Q\u0014�\u001c",
      "g\u0000rjI9�\u0000\u0015x/M�\\(n\u000b",
      "Aw\u0012�\u0015�`d\u000ep\u0018\u0012��\u001c",
      "\u001e",
      "�#'<����4���by����\b���[��c��HԮ�I��ۤV\u001c",
      "��g{\u001f县˜\u001a֡�_S�8����\u0019hW����,a���a��v�k�\u000f�{�y'��E\u0014\u001c",
      "��(�\u0002�(�\u0002�(�\f",
      "\u001f\u001aȥ}�\u0000l�\u0000�b��\u000f�E�7��b�\u0000�\u0005\u0014U}�O�w�05\u000f�)�W�z���(�ɗ@��)\u0012\u0015����th±\u0001�P�\u001e",
      "�\f",
      "p\u0010?*(��Ċ�č=!\u00154k �\u0014y\bp\u00069 \u0012:�E\u0014����QE\u0014�\u0014QE\u0000��\n"
     ]
    }
   ],
   "source": [
    "print f.read()"
   ]
  },
  {
   "cell_type": "code",
   "execution_count": 16,
   "metadata": {
    "collapsed": true
   },
   "outputs": [],
   "source": [
    "import cv2        #openCV2\n",
    "from scipy import misc"
   ]
  },
  {
   "cell_type": "code",
   "execution_count": 24,
   "metadata": {
    "collapsed": false
   },
   "outputs": [
    {
     "name": "stdout",
     "output_type": "stream",
     "text": [
      "[[[195 241 212]\n",
      "  [195 241 212]\n",
      "  [195 241 212]\n",
      "  ..., \n",
      "  [168 255 199]\n",
      "  [195 241 212]\n",
      "  [195 241 212]]\n",
      "\n",
      " [[197 240 212]\n",
      "  [197 240 212]\n",
      "  [197 240 212]\n",
      "  ..., \n",
      "  [176 253 201]\n",
      "  [196 241 210]\n",
      "  [196 241 210]]\n",
      "\n",
      " [[200 239 210]\n",
      "  [200 239 210]\n",
      "  [200 239 210]\n",
      "  ..., \n",
      "  [192 244 206]\n",
      "  [199 240 210]\n",
      "  [199 240 210]]\n",
      "\n",
      " ..., \n",
      " [[200 239 208]\n",
      "  [200 239 208]\n",
      "  [200 239 208]\n",
      "  ..., \n",
      "  [197 241 208]\n",
      "  [200 239 208]\n",
      "  [200 239 208]]\n",
      "\n",
      " [[200 239 208]\n",
      "  [200 239 208]\n",
      "  [200 239 208]\n",
      "  ..., \n",
      "  [200 239 208]\n",
      "  [200 239 208]\n",
      "  [200 239 208]]\n",
      "\n",
      " [[200 239 208]\n",
      "  [200 239 208]\n",
      "  [200 239 208]\n",
      "  ..., \n",
      "  [200 239 208]\n",
      "  [200 239 208]\n",
      "  [200 239 208]]]\n"
     ]
    }
   ],
   "source": [
    "img=misc.imread(\"opd.vImage\")\n",
    "print img"
   ]
  },
  {
   "cell_type": "code",
   "execution_count": 22,
   "metadata": {
    "collapsed": false
   },
   "outputs": [
    {
     "name": "stdout",
     "output_type": "stream",
     "text": [
      "(50, 130, 3)\n"
     ]
    },
    {
     "data": {
      "image/png": "[encoded data removed]",
      "text/plain": [
       "<matplotlib.figure.Figure at 0x10fb85f90>"
      ]
     },
     "metadata": {},
     "output_type": "display_data"
    }
   ],
   "source": [
    "print img.shape\n",
    "plt.imshow(img);"
   ]
  },
  {
   "cell_type": "code",
   "execution_count": null,
   "metadata": {
    "collapsed": true
   },
   "outputs": [],
   "source": []
  }
 ],
 "metadata": {
  "kernelspec": {
   "display_name": "Python 2",
   "language": "python",
   "name": "python2"
  },
  "language_info": {
   "codemirror_mode": {
    "name": "ipython",
    "version": 2
   },
   "file_extension": ".py",
   "mimetype": "text/x-python",
   "name": "python",
   "nbconvert_exporter": "python",
   "pygments_lexer": "ipython2",
   "version": "2.7.13"
  }
 },
 "nbformat": 4,
 "nbformat_minor": 2
}

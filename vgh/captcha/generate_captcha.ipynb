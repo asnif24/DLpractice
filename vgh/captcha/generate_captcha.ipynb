{
 "cells": [
  {
   "cell_type": "code",
   "execution_count": 1,
   "metadata": {
    "collapsed": true
   },
   "outputs": [],
   "source": [
    "from captcha.image import ImageCaptcha  # pip install captcha\n",
    "import numpy as np\n",
    "import matplotlib.pyplot as plt\n",
    "from PIL import Image\n",
    "import random\n",
    "\n",
    "%matplotlib inline\n",
    " "
   ]
  },
  {
   "cell_type": "code",
   "execution_count": 23,
   "metadata": {
    "collapsed": false
   },
   "outputs": [
    {
     "data": {
      "image/png": "[encoded data removed]",
      "text/plain": [
       "<matplotlib.figure.Figure at 0x7fe6eb3015d0>"
      ]
     },
     "metadata": {},
     "output_type": "display_data"
    }
   ],
   "source": [
    "# 验证码中的字符, 就不用汉字了\n",
    "number = ['0','1','2','3','4','5','6','7','8','9']\n",
    "alphabet = ['a','b','c','d','e','f','g','h','i','j','k','l','m','n','o','p','q','r','s','t','u','v','w','x','y','z']\n",
    "ALPHABET = ['A','B','C','D','E','F','G','H','I','J','K','L','M','N','O','P','Q','R','S','T','U','V','W','X','Y','Z']\n",
    "# 验证码一般都无视大小写；验证码长度4个字符\n",
    "# def random_captcha_text(char_set=number+alphabet+ALPHABET, captcha_size=4):\n",
    "def random_captcha_text(char_set=number, captcha_size=4):\n",
    "    captcha_text = []\n",
    "    for i in range(captcha_size):\n",
    "        c = random.choice(char_set)\n",
    "        captcha_text.append(c)\n",
    "    return captcha_text\n",
    " \n",
    "# 生成字符对应的验证码\n",
    "def gen_captcha_text_and_image():\n",
    "    image = ImageCaptcha(width=130, height=50)\n",
    "\n",
    "    captcha_text = random_captcha_text()\n",
    "    captcha_text = ''.join(captcha_text)\n",
    "\n",
    "    captcha = image.generate(captcha_text)\n",
    "    #image.write(captcha_text, captcha_text + '.jpg')  # 写到文件\n",
    "\n",
    "    captcha_image = Image.open(captcha)\n",
    "    captcha_image = np.array(captcha_image)\n",
    "    return captcha_text, captcha_image\n",
    " \n",
    "if __name__ == '__main__':\n",
    "    # 测试\n",
    "    text, image = gen_captcha_text_and_image()\n",
    "#     print image\n",
    "    f = plt.figure()\n",
    "    ax = f.add_subplot(111)\n",
    "#     ax.text(0.1, 0.9,text, ha='center', va='center', transform=ax.transAxes)\n",
    "    plt.imshow(image, cmap='gray')\n",
    "\n",
    "    plt.show()"
   ]
  },
  {
   "cell_type": "code",
   "execution_count": null,
   "metadata": {
    "collapsed": true
   },
   "outputs": [],
   "source": []
  },
  {
   "cell_type": "code",
   "execution_count": null,
   "metadata": {
    "collapsed": true
   },
   "outputs": [],
   "source": []
  },
  {
   "cell_type": "code",
   "execution_count": null,
   "metadata": {
    "collapsed": true
   },
   "outputs": [],
   "source": []
  }
 ],
 "metadata": {
  "kernelspec": {
   "display_name": "Python 2",
   "language": "python",
   "name": "python2"
  },
  "language_info": {
   "codemirror_mode": {
    "name": "ipython",
    "version": 2
   },
   "file_extension": ".py",
   "mimetype": "text/x-python",
   "name": "python",
   "nbconvert_exporter": "python",
   "pygments_lexer": "ipython2",
   "version": "2.7.13"
  }
 },
 "nbformat": 4,
 "nbformat_minor": 2
}
